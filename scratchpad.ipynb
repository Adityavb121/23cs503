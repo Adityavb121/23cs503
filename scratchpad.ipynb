{
  "cells": [
    {
      "cell_type": "markdown",
      "metadata": {
        "id": "view-in-github",
        "colab_type": "text"
      },
      "source": [
        "<a href=\"https://colab.research.google.com/github/Adityavb121/23cs503/blob/main/scratchpad.ipynb\" target=\"_parent\"><img src=\"https://colab.research.google.com/assets/colab-badge.svg\" alt=\"Open In Colab\"/></a>"
      ]
    },
    {
      "cell_type": "code",
      "execution_count": null,
      "metadata": {
        "id": "lIYdn1woOS1n"
      },
      "outputs": [],
      "source": []
    },
    {
      "cell_type": "code",
      "source": [
        "import spacy\n",
        "from nltk import ngrams\n",
        "nlp = spacy.load(\"en_core_web_sm\")\n",
        "doc = nlp(\"AI is simulation of human intelligence by machine.It includes expects system NLP speech recognization and machine vision\")\n",
        "grams = ngrams(doc,1)\n",
        "print(list(grams))"
      ],
      "metadata": {
        "colab": {
          "base_uri": "https://localhost:8080/"
        },
        "id": "EN6zxHbmn0GF",
        "outputId": "81ef2ef0-f64a-408a-c78c-e1048c3d31b6"
      },
      "execution_count": 2,
      "outputs": [
        {
          "output_type": "stream",
          "name": "stdout",
          "text": [
            "[(AI,), (is,), (simulation,), (of,), (human,), (intelligence,), (by,), (machine,), (.,), (It,), (includes,), (expects,), (system,), (NLP,), (speech,), (recognization,), (and,), (machine,), (vision,)]\n"
          ]
        }
      ]
    },
    {
      "cell_type": "code",
      "source": [],
      "metadata": {
        "id": "UqSt6sF9pkvk"
      },
      "execution_count": null,
      "outputs": []
    },
    {
      "cell_type": "code",
      "source": [
        "import spacy\n",
        "from nltk import ngrams\n",
        "nlp = spacy.load(\"en_core_web_sm\")\n",
        "doc = nlp(\"AI is simulation of human intelligence by machine.It includes expects system NLP speech recognization and machine vision\")\n",
        "grams = ngrams(doc,2)\n",
        "print(list(grams))"
      ],
      "metadata": {
        "outputId": "9d9ae2db-e479-4d8a-9b8e-732fe2150592",
        "colab": {
          "base_uri": "https://localhost:8080/"
        },
        "id": "-ovn7bfapljR"
      },
      "execution_count": 3,
      "outputs": [
        {
          "output_type": "stream",
          "name": "stdout",
          "text": [
            "[(AI, is), (is, simulation), (simulation, of), (of, human), (human, intelligence), (intelligence, by), (by, machine), (machine, .), (., It), (It, includes), (includes, expects), (expects, system), (system, NLP), (NLP, speech), (speech, recognization), (recognization, and), (and, machine), (machine, vision)]\n"
          ]
        }
      ]
    },
    {
      "cell_type": "code",
      "source": [],
      "metadata": {
        "id": "0S4OU9UGptga"
      },
      "execution_count": null,
      "outputs": []
    },
    {
      "cell_type": "code",
      "source": [
        "import spacy\n",
        "from nltk import ngrams\n",
        "nlp = spacy.load(\"en_core_web_sm\")\n",
        "doc = nlp(\"AI is simulation of human intelligence by machine.It includes expects system NLP speech recognization and machine vision\")\n",
        "grams = ngrams(doc,3)\n",
        "print(list(grams))"
      ],
      "metadata": {
        "outputId": "8a21e253-5363-43de-f7d7-67b01fa3bde6",
        "colab": {
          "base_uri": "https://localhost:8080/"
        },
        "id": "qoZH8VaWpucI"
      },
      "execution_count": 4,
      "outputs": [
        {
          "output_type": "stream",
          "name": "stdout",
          "text": [
            "[(AI, is, simulation), (is, simulation, of), (simulation, of, human), (of, human, intelligence), (human, intelligence, by), (intelligence, by, machine), (by, machine, .), (machine, ., It), (., It, includes), (It, includes, expects), (includes, expects, system), (expects, system, NLP), (system, NLP, speech), (NLP, speech, recognization), (speech, recognization, and), (recognization, and, machine), (and, machine, vision)]\n"
          ]
        }
      ]
    }
  ],
  "metadata": {
    "colab": {
      "name": "scratchpad",
      "provenance": [],
      "include_colab_link": true
    },
    "kernelspec": {
      "display_name": "Python 3",
      "name": "python3"
    }
  },
  "nbformat": 4,
  "nbformat_minor": 0
}