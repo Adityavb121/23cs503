{
  "nbformat": 4,
  "nbformat_minor": 0,
  "metadata": {
    "colab": {
      "provenance": [],
      "include_colab_link": true
    },
    "kernelspec": {
      "name": "python3",
      "display_name": "Python 3"
    },
    "language_info": {
      "name": "python"
    }
  },
  "cells": [
    {
      "cell_type": "markdown",
      "metadata": {
        "id": "view-in-github",
        "colab_type": "text"
      },
      "source": [
        "<a href=\"https://colab.research.google.com/github/Adityavb121/23cs503/blob/main/cie_5.ipynb\" target=\"_parent\"><img src=\"https://colab.research.google.com/assets/colab-badge.svg\" alt=\"Open In Colab\"/></a>"
      ]
    },
    {
      "cell_type": "markdown",
      "source": [
        "CIE-05\n"
      ],
      "metadata": {
        "id": "iP9V9vGvYwPu"
      }
    },
    {
      "cell_type": "code",
      "source": [
        "import spacy\n",
        "from nltk import ngrams\n",
        "nlp = spacy.load(\"en_core_web_sm\")\n",
        "doc = nlp(\"AI issimulation of human  intelligence by machin. it include expects system NLP speech recognition and machine vision\")\n",
        "bigrams = ngrams(doc,1)\n",
        "print(list(bigrams))"
      ],
      "metadata": {
        "colab": {
          "base_uri": "https://localhost:8080/"
        },
        "id": "9W97B428RB-Y",
        "outputId": "9551fe8c-c19b-4af4-c872-780751b5800d"
      },
      "execution_count": 3,
      "outputs": [
        {
          "output_type": "stream",
          "name": "stdout",
          "text": [
            "[(AI,), (issimulation,), (of,), (human,), ( ,), (intelligence,), (by,), (machin,), (.,), (it,), (include,), (expects,), (system,), (NLP,), (speech,), (recognition,), (and,), (machine,), (vision,)]\n"
          ]
        }
      ]
    },
    {
      "cell_type": "code",
      "source": [
        "#2. Bigrams.\n",
        "import spacy\n",
        "from nltk import ngrams\n",
        "nlp = spacy.load(\"en_core_web_sm\")\n",
        "doc = nlp(\"AI issimulation of human  intelligence by machin. it include expects system NLP speech recognition and machine vision\")\n",
        "bigrams = ngrams(doc,2)\n",
        "print(list(bigrams))"
      ],
      "metadata": {
        "colab": {
          "base_uri": "https://localhost:8080/"
        },
        "id": "nNjo3bB8aXPf",
        "outputId": "d6b4a0c8-ea26-4c0b-f42c-77cdc19bf5e3"
      },
      "execution_count": 2,
      "outputs": [
        {
          "output_type": "stream",
          "name": "stdout",
          "text": [
            "[(AI, issimulation), (issimulation, of), (of, human), (human,  ), ( , intelligence), (intelligence, by), (by, machin), (machin, .), (., it), (it, include), (include, expects), (expects, system), (system, NLP), (NLP, speech), (speech, recognition), (recognition, and), (and, machine), (machine, vision)]\n"
          ]
        }
      ]
    },
    {
      "cell_type": "code",
      "source": [
        "#3. Trigram.\n",
        "import spacy\n",
        "from nltk import ngrams\n",
        "nlp = spacy.load(\"en_core_web_sm\")\n",
        "doc = nlp(\"AI issimulation of human  intelligence by machin. it include expects system NLP speech recognition and machine vision\")\n",
        "trigrams = ngrams(doc,3)\n",
        "print(list(trigrams))"
      ],
      "metadata": {
        "colab": {
          "base_uri": "https://localhost:8080/"
        },
        "id": "rT-EcAgqadtA",
        "outputId": "fc8a07dd-ffd6-4b67-866c-bda5204ddd02"
      },
      "execution_count": 1,
      "outputs": [
        {
          "output_type": "stream",
          "name": "stdout",
          "text": [
            "[(AI, issimulation, of), (issimulation, of, human), (of, human,  ), (human,  , intelligence), ( , intelligence, by), (intelligence, by, machin), (by, machin, .), (machin, ., it), (., it, include), (it, include, expects), (include, expects, system), (expects, system, NLP), (system, NLP, speech), (NLP, speech, recognition), (speech, recognition, and), (recognition, and, machine), (and, machine, vision)]\n"
          ]
        }
      ]
    }
  ]
}