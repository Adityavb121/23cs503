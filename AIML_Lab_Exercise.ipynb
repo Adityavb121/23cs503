{
  "cells": [
    {
      "cell_type": "markdown",
      "metadata": {
        "id": "view-in-github",
        "colab_type": "text"
      },
      "source": [
        "<a href=\"https://colab.research.google.com/github/Adityavb121/23cs503/blob/main/AIML_Lab_Exercise.ipynb\" target=\"_parent\"><img src=\"https://colab.research.google.com/assets/colab-badge.svg\" alt=\"Open In Colab\"/></a>"
      ]
    },
    {
      "cell_type": "markdown",
      "metadata": {
        "id": "uQI_Vk_ewg0t"
      },
      "source": [
        "# Numpy and Pandas Program\n",
        "\n",
        "---\n",
        "\n"
      ]
    },
    {
      "cell_type": "markdown",
      "metadata": {
        "id": "oneLpscYxdw-"
      },
      "source": [
        "# **NumPy and Pandas Program in Python**\n",
        "1. Perform Arithmetic operations\n",
        "2. How do you create a 2D NumPy array and access specific elements?\n",
        "3. Add Two Arrays Element-wise\n",
        "4. Generate Random Numbers and Find Max/Min\n",
        "5. Reshape and Flatten an Array\n",
        "6. Filter Elements Using Boolean Masking\n",
        "7. Matrix Multiplication\n",
        "8. Calculate Mean, Median, and Standard Deviation\n",
        "9. Create a Range of Values\n",
        "10. Transpose of a Matrix\n",
        "11. Element-wise Operations with Functions\n",
        "12. Create and Display a DataFrame\n",
        "13. Read a CSV File and Show Basic Info\n",
        "13. Read a CSV File and Show Basic Info\n",
        "15. Group By and Aggregate\n",
        "16. Add a New Column and Save to CSV\n",
        "17. Line Graph\n",
        "18. Bar Graph\n",
        "19. Pie Chart\n",
        "20. Histogram\n",
        "21. Scatter Plot\n"
      ]
    },
    {
      "cell_type": "code",
      "execution_count": null,
      "metadata": {
        "colab": {
          "base_uri": "https://localhost:8080/"
        },
        "id": "IdzrlEGb3Daq",
        "outputId": "3406c996-9fe3-4986-f25d-ae785afe0bf3"
      },
      "outputs": [
        {
          "output_type": "stream",
          "name": "stdout",
          "text": [
            "Array a: [1 2 3 4 5]\n",
            "Array b: [10 20 30 40 50]\n",
            "Sum: [11 22 33 44 55]\n",
            "Difference: [ 9 18 27 36 45]\n",
            "Product: [ 10  40  90 160 250]\n",
            "Mean of a: 3.0\n",
            "Max of b: 50\n",
            "Min of b: 10\n"
          ]
        }
      ],
      "source": [
        "#1. Perform Arithmetic operations\n",
        "import numpy as np\n",
        "# Create NumPy arrays\n",
        "a = np.array([1, 2, 3, 4, 5])\n",
        "b = np.array([10, 20, 30, 40, 50])\n",
        "# Arithmetic operations\n",
        "sum_array = a + b\n",
        "diff_array = b - a\n",
        "product_array = a * b\n",
        "# Statistics\n",
        "mean_a = np.mean(a)\n",
        "max_b = np.max(b)\n",
        "min_b = np.min(b)\n",
        "# Display results\n",
        "print(\"Array a:\", a)\n",
        "print(\"Array b:\", b)\n",
        "print(\"Sum:\", sum_array)\n",
        "print(\"Difference:\", diff_array)\n",
        "print(\"Product:\", product_array)\n",
        "print(\"Mean of a:\", mean_a)\n",
        "print(\"Max of b:\", max_b)\n",
        "print(\"Min of b:\", min_b)\n"
      ]
    },
    {
      "cell_type": "code",
      "execution_count": null,
      "metadata": {
        "colab": {
          "base_uri": "https://localhost:8080/"
        },
        "id": "de7hgHSJ3TZ3",
        "outputId": "f12a0c1c-a8e0-49ff-d7c3-f3c3ec1267a9"
      },
      "outputs": [
        {
          "output_type": "stream",
          "name": "stdout",
          "text": [
            "Element at (0, 1): 2\n",
            "Second row: [4 5 6]\n",
            "[[1 2 3]\n",
            " [4 5 6]]\n"
          ]
        }
      ],
      "source": [
        "#2. How do you create a 2D NumPy array and access specific elements?\n",
        "import numpy as np\n",
        "# Create a 2D array\n",
        "arr = np.array([[1, 2, 3], [4, 5, 6]])\n",
        "\n",
        "# Access elements\n",
        "print(\"Element at (0, 1):\", arr[0, 1])\n",
        "print(\"Second row:\", arr[1])\n",
        "print(arr)\n"
      ]
    },
    {
      "cell_type": "code",
      "execution_count": null,
      "metadata": {
        "colab": {
          "base_uri": "https://localhost:8080/"
        },
        "id": "gto6wtog3giy",
        "outputId": "57da4a57-c331-4554-f5f9-563c8118c68b"
      },
      "outputs": [
        {
          "output_type": "stream",
          "name": "stdout",
          "text": [
            "Sum: [ 6 12 18]\n"
          ]
        }
      ],
      "source": [
        "#3. Add Two Arrays Element-wise\n",
        "a = np.array([5, 10, 15])\n",
        "b = np.array([1, 2, 3])\n",
        "\n",
        "# Add arrays\n",
        "result = a + b\n",
        "print(\"Sum:\", result)\n"
      ]
    },
    {
      "cell_type": "code",
      "execution_count": null,
      "metadata": {
        "colab": {
          "base_uri": "https://localhost:8080/"
        },
        "id": "842gdkzB89ac",
        "outputId": "5abd932b-39a7-475c-dfdf-9f5c936f82de"
      },
      "outputs": [
        {
          "output_type": "stream",
          "name": "stdout",
          "text": [
            "Random Array: [91 81 54 26 15 22 16 20 69  4]\n",
            "Maximum: 91\n",
            "Minimum: 4\n"
          ]
        }
      ],
      "source": [
        "#4. Generate Random Numbers and Find Max/Min\n",
        "import numpy as np\n",
        "rand_array = np.random.randint(1, 100, size=10)\n",
        "print(\"Random Array:\", rand_array)\n",
        "print(\"Maximum:\", np.max(rand_array))\n",
        "print(\"Minimum:\", np.min(rand_array))\n"
      ]
    },
    {
      "cell_type": "code",
      "execution_count": null,
      "metadata": {
        "colab": {
          "base_uri": "https://localhost:8080/"
        },
        "id": "xaQe9nUi9IBM",
        "outputId": "ca601495-fc2c-4ad0-e1dc-3e1a605f5787"
      },
      "outputs": [
        {
          "output_type": "stream",
          "name": "stdout",
          "text": [
            "Reshaped (2x3):\n",
            " [[1 2 3]\n",
            " [4 5 6]]\n",
            "Flattened: [1 2 3 4 5 6]\n"
          ]
        }
      ],
      "source": [
        "#5. Reshape and Flatten an Array\n",
        "#How can you change the shape of an array?\n",
        "\n",
        "import numpy as np\n",
        "arr = np.array([1, 2, 3, 4, 5, 6])\n",
        "# Reshape to 2x3 matrix\n",
        "reshaped = arr.reshape(2, 3)\n",
        "print(\"Reshaped (2x3):\\n\", reshaped)\n",
        "\n",
        "# Flatten back to 1D\n",
        "flattened = reshaped.flatten()\n",
        "print(\"Flattened:\", flattened)\n"
      ]
    },
    {
      "cell_type": "code",
      "execution_count": null,
      "metadata": {
        "colab": {
          "base_uri": "https://localhost:8080/"
        },
        "id": "VQmjJu1_9aXC",
        "outputId": "ce31de04-6a23-4348-a390-d432af146b9b"
      },
      "outputs": [
        {
          "output_type": "stream",
          "name": "stdout",
          "text": [
            "Elements > 25: [30 40 50]\n"
          ]
        }
      ],
      "source": [
        "#6. Filter Elements Using Boolean Masking\n",
        "#How do you filter array elements based on a condition?\n",
        "\n",
        "import numpy as np\n",
        "arr = np.array([10, 20, 30, 40, 50])\n",
        "# Condition: elements > 25\n",
        "filtered = arr[arr > 25]\n",
        "print(\"Elements > 25:\", filtered)\n"
      ]
    },
    {
      "cell_type": "code",
      "execution_count": null,
      "metadata": {
        "colab": {
          "base_uri": "https://localhost:8080/"
        },
        "id": "P2yXJEVC9oIN",
        "outputId": "cff9b6a1-9d1e-45b5-de9d-0948ba99d4f7"
      },
      "outputs": [
        {
          "output_type": "stream",
          "name": "stdout",
          "text": [
            "Matrix A:\n",
            " [[1 2]\n",
            " [3 4]]\n",
            "Matrix B:\n",
            " [[5 6]\n",
            " [7 8]]\n",
            "A x B:\n",
            " [[19 22]\n",
            " [43 50]]\n"
          ]
        }
      ],
      "source": [
        "#7. Matrix Multiplication\n",
        "#How do you multiply two matrices in NumPy?\n",
        "\n",
        "import numpy as np\n",
        "\n",
        "A = np.array([[1, 2], [3, 4]])\n",
        "B = np.array([[5, 6], [7, 8]])\n",
        "\n",
        "# Matrix multiplication\n",
        "result = np.dot(A, B)\n",
        "\n",
        "print(\"Matrix A:\\n\", A)\n",
        "print(\"Matrix B:\\n\", B)\n",
        "print(\"A x B:\\n\", result)\n"
      ]
    },
    {
      "cell_type": "code",
      "execution_count": null,
      "metadata": {
        "colab": {
          "base_uri": "https://localhost:8080/"
        },
        "id": "HnWBmHG19t_9",
        "outputId": "94be7da7-ba59-476c-c71e-cd5d0c8837de"
      },
      "outputs": [
        {
          "output_type": "stream",
          "name": "stdout",
          "text": [
            "Mean: 3.5\n",
            "Median: 3.5\n",
            "Standard Deviation: 1.707825127659933\n"
          ]
        }
      ],
      "source": [
        "#8. Calculate Mean, Median, and Standard Deviation\n",
        "#How do you calculate basic statistics using NumPy?\n",
        "data = np.array([1, 2, 3, 4, 5, 6])\n",
        "\n",
        "print(\"Mean:\", np.mean(data))\n",
        "print(\"Median:\", np.median(data))\n",
        "print(\"Standard Deviation:\", np.std(data))\n"
      ]
    },
    {
      "cell_type": "code",
      "execution_count": null,
      "metadata": {
        "colab": {
          "base_uri": "https://localhost:8080/"
        },
        "id": "ktLidJ7k91U0",
        "outputId": "442dfa0d-e0fb-4499-ae63-551fed30adc7"
      },
      "outputs": [
        {
          "output_type": "stream",
          "name": "stdout",
          "text": [
            "Arange: [0 1 2 3 4 5 6 7 8 9]\n",
            "Linspace: [0.         0.6981317  1.3962634  2.0943951  2.7925268  3.4906585\n",
            " 4.1887902  4.88692191 5.58505361 6.28318531]\n"
          ]
        }
      ],
      "source": [
        "#9. Create a Range of Values\n",
        "#How do you create a range of evenly spaced values?\n",
        "# From 0 to 9\n",
        "a = np.arange(0, 10)\n",
        "\n",
        "# From 0 to 2π with 10 values\n",
        "b = np.linspace(0, 2 * np.pi, 10)\n",
        "\n",
        "print(\"Arange:\", a)\n",
        "print(\"Linspace:\", b)\n"
      ]
    },
    {
      "cell_type": "code",
      "execution_count": null,
      "metadata": {
        "colab": {
          "base_uri": "https://localhost:8080/"
        },
        "id": "cWpAw0Dq98Eb",
        "outputId": "b67130c5-bef2-4201-9b3c-b49968f5839f"
      },
      "outputs": [
        {
          "output_type": "stream",
          "name": "stdout",
          "text": [
            "Original:\n",
            " [[1 2 3]\n",
            " [4 5 6]]\n",
            "Transposed:\n",
            " [[1 4]\n",
            " [2 5]\n",
            " [3 6]]\n"
          ]
        }
      ],
      "source": [
        "#10. Transpose of a Matrix\n",
        "#How do you transpose a matrix in NumPy?\n",
        "\n",
        "matrix = np.array([[1, 2, 3], [4, 5, 6]])\n",
        "\n",
        "transpose = matrix.T\n",
        "\n",
        "print(\"Original:\\n\", matrix)\n",
        "print(\"Transposed:\\n\", transpose)\n"
      ]
    },
    {
      "cell_type": "code",
      "execution_count": null,
      "metadata": {
        "colab": {
          "base_uri": "https://localhost:8080/"
        },
        "id": "Vbtto6c--JRU",
        "outputId": "f003d38f-67ce-4f98-908f-af1c48ab7a93"
      },
      "outputs": [
        {
          "output_type": "stream",
          "name": "stdout",
          "text": [
            "x values: [0.         1.57079633 3.14159265]\n",
            "sin(x): [0.0000000e+00 1.0000000e+00 1.2246468e-16]\n"
          ]
        }
      ],
      "source": [
        "#11. Element-wise Operations with Functions\n",
        "#How do you apply mathematical functions to an array?\n",
        "x = np.array([0, np.pi/2, np.pi])\n",
        "\n",
        "# Apply sine function\n",
        "y = np.sin(x)\n",
        "\n",
        "print(\"x values:\", x)\n",
        "print(\"sin(x):\", y)\n",
        "\n",
        "\n"
      ]
    },
    {
      "cell_type": "code",
      "execution_count": null,
      "metadata": {
        "colab": {
          "base_uri": "https://localhost:8080/"
        },
        "id": "dIZriCR3-ZuS",
        "outputId": "1a62d2c0-75b9-4aa2-c508-fe2fce4cef45"
      },
      "outputs": [
        {
          "output_type": "stream",
          "name": "stdout",
          "text": [
            "      Name  Age  Score\n",
            "0    Alice   25     85\n",
            "1      Bob   30     90\n",
            "2  Charlie   22     95\n"
          ]
        }
      ],
      "source": [
        "#12. Create and Display a DataFrame\n",
        "import pandas as pd\n",
        "# Create DataFrame\n",
        "data = {\n",
        "    'Name': ['Alice', 'Bob', 'Charlie'],\n",
        "    'Age': [25, 30, 22],\n",
        "    'Score': [85, 90, 95]\n",
        "}\n",
        "\n",
        "df = pd.DataFrame(data)\n",
        "print(df)\n"
      ]
    },
    {
      "cell_type": "code",
      "execution_count": null,
      "metadata": {
        "colab": {
          "base_uri": "https://localhost:8080/"
        },
        "id": "bdTFJXHWiYhK",
        "outputId": "1df7da10-0c42-4860-c46e-3cf42d558126"
      },
      "outputs": [
        {
          "output_type": "stream",
          "name": "stdout",
          "text": [
            "   Name  Age\n",
            "1  Ravi   29\n"
          ]
        }
      ],
      "source": [
        "#14\n",
        "import pandas as pd\n",
        "\n",
        "data = {\n",
        "    'Name': ['Asha', 'Ravi'],\n",
        "    'Age': [24, 29]\n",
        "}\n",
        "\n",
        "df = pd.DataFrame(data)\n",
        "Filter_df = df[df['Age'] > 24]\n",
        "print(Filter_df)\n"
      ]
    },
    {
      "cell_type": "code",
      "execution_count": null,
      "metadata": {
        "id": "BYOV7TuQlR-3",
        "colab": {
          "base_uri": "https://localhost:8080/"
        },
        "outputId": "70ae8750-8f8a-4476-afea-f69fbb47ab01"
      },
      "outputs": [
        {
          "output_type": "stream",
          "name": "stdout",
          "text": [
            "            Marks\n",
            "department       \n",
            "CS          87.23\n",
            "EC          95.00\n",
            "EE          78.00\n"
          ]
        }
      ],
      "source": [
        "#15\n",
        "import pandas as pd\n",
        "\n",
        "data = {\n",
        "    'department': ['CS', 'EC', 'EE'],\n",
        "    'Marks': [87.23, 95, 78]\n",
        "}\n",
        "\n",
        "df = pd.DataFrame(data)\n",
        "grouped = df.groupby('department').mean(numeric_only=True)\n",
        "print(grouped)\n"
      ]
    },
    {
      "cell_type": "code",
      "execution_count": null,
      "metadata": {
        "id": "YuZ_f4dfwwgK",
        "colab": {
          "base_uri": "https://localhost:8080/",
          "height": 472
        },
        "outputId": "3c23b89b-2833-473f-d731-1f0a2dd2c31d"
      },
      "outputs": [
        {
          "output_type": "display_data",
          "data": {
            "text/plain": [
              "<Figure size 640x480 with 1 Axes>"
            ],
            "image/png": "[encoded data removed]"
          },
          "metadata": {}
        }
      ],
      "source": [
        "#17\n",
        "import matplotlib.pyplot as plt\n",
        "\n",
        "x = [1, 2, 3, 4, 5]\n",
        "y = [10, 12, 15, 18, 20]\n",
        "\n",
        "plt.plot(x, y)\n",
        "plt.title(\"Simple Line Graph\")\n",
        "plt.xlabel(\"X values\")\n",
        "plt.ylabel(\"Y values\")\n",
        "plt.show()\n"
      ]
    },
    {
      "cell_type": "code",
      "execution_count": null,
      "metadata": {
        "id": "EOHlZYg_xBQD",
        "colab": {
          "base_uri": "https://localhost:8080/",
          "height": 472
        },
        "outputId": "97d28660-9e0e-4d0b-94e1-ecaede6c1b97"
      },
      "outputs": [
        {
          "output_type": "display_data",
          "data": {
            "text/plain": [
              "<Figure size 640x480 with 1 Axes>"
            ],
            "image/png": "[encoded data removed]"
          },
          "metadata": {}
        }
      ],
      "source": [
        "#18\n",
        "import matplotlib.pyplot as plt\n",
        "\n",
        "students = ['Asha', 'Ravi', 'Neha']\n",
        "scores = [85, 90, 78]\n",
        "\n",
        "plt.bar(students, scores, color='skyblue')\n",
        "plt.title(\"Student Scores\")\n",
        "plt.xlabel(\"Students\")\n",
        "plt.ylabel(\"Marks\")\n",
        "plt.show()\n"
      ]
    },
    {
      "cell_type": "code",
      "execution_count": null,
      "metadata": {
        "id": "sqH-T4c3xIpJ",
        "colab": {
          "base_uri": "https://localhost:8080/",
          "height": 428
        },
        "outputId": "eec78f78-d969-4fc2-ff3c-3edbc325a83f"
      },
      "outputs": [
        {
          "output_type": "display_data",
          "data": {
            "text/plain": [
              "<Figure size 640x480 with 1 Axes>"
            ],
            "image/png": "[encoded data removed]"
          },
          "metadata": {}
        }
      ],
      "source": [
        "#19\n",
        "import matplotlib.pyplot as plt\n",
        "\n",
        "labels = ['Python', 'Java', 'C++', 'C']\n",
        "sizes = [40, 25, 20, 15]\n",
        "\n",
        "plt.pie(sizes, labels=labels, autopct='%1.1f%%', startangle=140)\n",
        "plt.title(\"Programming Language Usage\")\n",
        "plt.axis('equal')  # Make it a circle\n",
        "plt.show()\n"
      ]
    },
    {
      "cell_type": "code",
      "execution_count": null,
      "metadata": {
        "colab": {
          "base_uri": "https://localhost:8080/",
          "height": 472
        },
        "id": "ISKZPUOKxP0K",
        "outputId": "069a0392-4e6f-4ca9-9396-1c2f5a7185bb"
      },
      "outputs": [
        {
          "output_type": "display_data",
          "data": {
            "text/plain": [
              "<Figure size 640x480 with 1 Axes>"
            ],
            "image/png": "[encoded data removed]"
          },
          "metadata": {}
        }
      ],
      "source": [
        "#20\n",
        "import matplotlib.pyplot as plt\n",
        "\n",
        "ages = [18, 22, 21, 25, 30, 30, 27, 25, 22, 19]\n",
        "\n",
        "plt.hist(ages, bins=5, color='green')\n",
        "plt.title(\"Age Distribution\")\n",
        "plt.xlabel(\"Age\")\n",
        "plt.ylabel(\"Frequency\")\n",
        "plt.show()\n"
      ]
    },
    {
      "cell_type": "code",
      "execution_count": null,
      "metadata": {
        "colab": {
          "base_uri": "https://localhost:8080/",
          "height": 472
        },
        "id": "QcBRXs9lxV2J",
        "outputId": "fce3e851-d3df-44c3-c0d9-c20c1511b016"
      },
      "outputs": [
        {
          "output_type": "display_data",
          "data": {
            "text/plain": [
              "<Figure size 640x480 with 1 Axes>"
            ],
            "image/png": "[encoded data removed]"
          },
          "metadata": {}
        }
      ],
      "source": [
        "#21\n",
        "import matplotlib.pyplot as plt\n",
        "\n",
        "x = [1, 2, 3, 4, 5]\n",
        "y = [5, 7, 6, 8, 10]\n",
        "\n",
        "plt.scatter(x, y, color='red')\n",
        "plt.title(\"Scatter Plot Example\")\n",
        "plt.xlabel(\"X values\")\n",
        "plt.ylabel(\"Y values\")\n",
        "plt.show()\n"
      ]
    },
    {
      "cell_type": "markdown",
      "metadata": {
        "id": "KvHC12JUatcV"
      },
      "source": [
        "### **Lambda**"
      ]
    },
    {
      "cell_type": "code",
      "execution_count": null,
      "metadata": {
        "colab": {
          "base_uri": "https://localhost:8080/"
        },
        "id": "WXP0EpFxKTKe",
        "outputId": "811d927f-1600-409b-d756-447983c8d59b"
      },
      "outputs": [
        {
          "output_type": "stream",
          "name": "stdout",
          "text": [
            "8\n"
          ]
        }
      ],
      "source": [
        "add = lambda x, y: x + y\n",
        "print(add(5, 3))"
      ]
    },
    {
      "cell_type": "code",
      "execution_count": null,
      "metadata": {
        "colab": {
          "base_uri": "https://localhost:8080/"
        },
        "id": "sCX6zDIHLWoz",
        "outputId": "3ac0216c-079b-4d2f-e9e0-1c72cf4f2f60"
      },
      "outputs": [
        {
          "output_type": "stream",
          "name": "stdout",
          "text": [
            "16\n"
          ]
        }
      ],
      "source": [
        "square = lambda x: x ** 2\n",
        "print(square(4))\n"
      ]
    },
    {
      "cell_type": "code",
      "execution_count": null,
      "metadata": {
        "colab": {
          "base_uri": "https://localhost:8080/"
        },
        "id": "Pugx-b_OL9FM",
        "outputId": "438b868b-c3bb-4585-b8d5-4098816d5d7d"
      },
      "outputs": [
        {
          "output_type": "stream",
          "name": "stdout",
          "text": [
            "[2, 4, 6]\n"
          ]
        }
      ],
      "source": [
        "numbers = [1, 2, 3, 4, 5, 6]\n",
        "even_numbers = list(filter(lambda x: x % 2 == 0, numbers))\n",
        "print(even_numbers)\n"
      ]
    },
    {
      "cell_type": "code",
      "execution_count": null,
      "metadata": {
        "colab": {
          "base_uri": "https://localhost:8080/"
        },
        "id": "V0ToIxx1NIaY",
        "outputId": "451c8d7e-d81b-4b9d-cee3-3cad5b0e93b1"
      },
      "outputs": [
        {
          "output_type": "stream",
          "name": "stdout",
          "text": [
            "[(1, 'apple'), (3, 'banana'), (2, 'cherry')]\n"
          ]
        }
      ],
      "source": [
        "data = [(1, 'apple'), (3, 'banana'), (2, 'cherry')]\n",
        "sorted_data = sorted(data, key=lambda x: x[1])\n",
        "print(sorted_data)\n",
        "\n"
      ]
    },
    {
      "cell_type": "code",
      "execution_count": null,
      "metadata": {
        "colab": {
          "base_uri": "https://localhost:8080/"
        },
        "id": "WZRVGcmcNpF0",
        "outputId": "27332a0b-f7be-4e91-baf4-b6d2f5372333"
      },
      "outputs": [
        {
          "output_type": "stream",
          "name": "stdout",
          "text": [
            "24\n"
          ]
        }
      ],
      "source": [
        "multiply = lambda x, y, z: x * y * z\n",
        "print(multiply(2, 3, 4))\n"
      ]
    },
    {
      "cell_type": "code",
      "execution_count": null,
      "metadata": {
        "colab": {
          "base_uri": "https://localhost:8080/"
        },
        "id": "Aiv7xHCUNqIO",
        "outputId": "a164de12-9a14-4eb0-f8de-1e6418070a17"
      },
      "outputs": [
        {
          "output_type": "stream",
          "name": "stdout",
          "text": [
            "[2, 4, 6, 8, 10]\n"
          ]
        }
      ],
      "source": [
        "numbers = [1, 2, 3, 4, 5]\n",
        "doubled = list(map(lambda x: x * 2, numbers))\n",
        "print(doubled)\n"
      ]
    },
    {
      "cell_type": "code",
      "execution_count": null,
      "metadata": {
        "colab": {
          "base_uri": "https://localhost:8080/"
        },
        "id": "VIjK0xp_Nucy",
        "outputId": "8c482566-31a8-48b1-c695-227664f5d41c"
      },
      "outputs": [
        {
          "output_type": "stream",
          "name": "stdout",
          "text": [
            "[15, 25]\n"
          ]
        }
      ],
      "source": [
        "numbers = [10, 15, 20, 25, 30]\n",
        "odds = list(filter(lambda x: x % 2 != 0, numbers))\n",
        "print(odds)\n",
        "\n"
      ]
    },
    {
      "cell_type": "code",
      "execution_count": null,
      "metadata": {
        "colab": {
          "base_uri": "https://localhost:8080/"
        },
        "id": "TWc0x0UmNzB3",
        "outputId": "206d0c91-f012-4069-eb2b-dd86cdcd7038"
      },
      "outputs": [
        {
          "output_type": "stream",
          "name": "stdout",
          "text": [
            "[{'name': 'Charlie', 'score': 78}, {'name': 'Alice', 'score': 85}, {'name': 'Bob', 'score': 92}]\n"
          ]
        }
      ],
      "source": [
        "students = [\n",
        "    {\"name\": \"Alice\", \"score\": 85},\n",
        "    {\"name\": \"Bob\", \"score\": 92},\n",
        "    {\"name\": \"Charlie\", \"score\": 78}\n",
        "]\n",
        "\n",
        "\n",
        "sorted_students = sorted(students, key=lambda student: student['score'])\n",
        "print(sorted_students)\n",
        "\n"
      ]
    },
    {
      "cell_type": "code",
      "execution_count": null,
      "metadata": {
        "colab": {
          "base_uri": "https://localhost:8080/"
        },
        "id": "iy_1UDO-N4_Y",
        "outputId": "e153b34c-732f-430e-9f40-b930d500b456"
      },
      "outputs": [
        {
          "output_type": "stream",
          "name": "stdout",
          "text": [
            "10\n",
            "15\n"
          ]
        }
      ],
      "source": [
        "def make_multiplier(n):\n",
        "    return lambda x: x * n\n",
        "\n",
        "double = make_multiplier(2)\n",
        "triple = make_multiplier(3)\n",
        "\n",
        "print(double(5))\n",
        "print(triple(5))\n",
        "\n"
      ]
    },
    {
      "cell_type": "code",
      "execution_count": null,
      "metadata": {
        "colab": {
          "base_uri": "https://localhost:8080/"
        },
        "id": "cF2jCke3N77q",
        "outputId": "8fbf2983-5091-42fa-ff00-77328ffd464e"
      },
      "outputs": [
        {
          "output_type": "stream",
          "name": "stdout",
          "text": [
            "Even\n",
            "Odd\n"
          ]
        }
      ],
      "source": [
        "check_even = lambda x: \"Even\" if x % 2 == 0 else \"Odd\"\n",
        "print(check_even(4))\n",
        "print(check_even(7))\n"
      ]
    },
    {
      "cell_type": "code",
      "execution_count": null,
      "metadata": {
        "colab": {
          "base_uri": "https://localhost:8080/"
        },
        "id": "4pQ-PsdnOCNL",
        "outputId": "b6d40ed6-79ad-493c-d78c-f7debab9a818"
      },
      "outputs": [
        {
          "output_type": "stream",
          "name": "stdout",
          "text": [
            "24\n"
          ]
        }
      ],
      "source": [
        "from functools import reduce\n",
        "\n",
        "numbers = [1, 2, 3, 4]\n",
        "product = reduce(lambda x, y: x * y, numbers)\n",
        "print(product)\n",
        "\n"
      ]
    },
    {
      "cell_type": "code",
      "execution_count": null,
      "metadata": {
        "colab": {
          "base_uri": "https://localhost:8080/"
        },
        "id": "xElkbReWOK0y",
        "outputId": "0869e35b-e8f2-45e7-80ed-32e540fd446d"
      },
      "outputs": [
        {
          "output_type": "stream",
          "name": "stdout",
          "text": [
            "['John', 'Doe', 'Alice']\n"
          ]
        }
      ],
      "source": [
        "names = [\"john\", \"DOE\", \"ALICE\"]\n",
        "capitalized = list(map(lambda name: name.capitalize(), names))\n",
        "print(capitalized)\n"
      ]
    },
    {
      "cell_type": "code",
      "execution_count": null,
      "metadata": {
        "colab": {
          "base_uri": "https://localhost:8080/"
        },
        "id": "OuxZm5tFOPaO",
        "outputId": "c657e4b4-d5a3-4391-b1a0-24b432f0b506"
      },
      "outputs": [
        {
          "output_type": "stream",
          "name": "stdout",
          "text": [
            "['example.com', 'test.com']\n"
          ]
        }
      ],
      "source": [
        "emails = [\"alice@example.com\", \"bob@test.com\"]\n",
        "domains = list(map(lambda email: email.split('@')[1], emails))\n",
        "print(domains)\n"
      ]
    },
    {
      "cell_type": "code",
      "execution_count": null,
      "metadata": {
        "colab": {
          "base_uri": "https://localhost:8080/"
        },
        "id": "HNWdVhKzOVPM",
        "outputId": "8584da81-6317-4911-91cc-68e9da86ade5"
      },
      "outputs": [
        {
          "output_type": "stream",
          "name": "stdout",
          "text": [
            "True\n",
            "True\n"
          ]
        }
      ],
      "source": [
        "numbers = [2, 4, 6, 8]\n",
        "\n",
        "\n",
        "all_even = all(map(lambda x: x % 2 == 0, numbers))\n",
        "print(all_even)\n",
        "\n",
        "\n",
        "any_gt_5 = any(map(lambda x: x > 5, numbers))\n",
        "print(any_gt_5)\n"
      ]
    },
    {
      "cell_type": "code",
      "execution_count": null,
      "metadata": {
        "colab": {
          "base_uri": "https://localhost:8080/"
        },
        "id": "hvfFaX3IOYxj",
        "outputId": "ebc42366-85be-4c9c-873f-e89d120a9754"
      },
      "outputs": [
        {
          "output_type": "stream",
          "name": "stdout",
          "text": [
            "['fig', 'apple', 'banana', 'cherry']\n"
          ]
        }
      ],
      "source": [
        "words = [\"apple\", \"banana\", \"cherry\", \"fig\"]\n",
        "sorted_words = sorted(words, key=lambda word: len(word))\n",
        "print(sorted_words)\n"
      ]
    },
    {
      "cell_type": "code",
      "execution_count": null,
      "metadata": {
        "colab": {
          "base_uri": "https://localhost:8080/"
        },
        "id": "K5URcfwfOdFD",
        "outputId": "3298d507-6202-40f9-a7bf-2f0b17fa38d9"
      },
      "outputs": [
        {
          "output_type": "stream",
          "name": "stdout",
          "text": [
            "adbmal snoitcnuf era lufrewop\n"
          ]
        }
      ],
      "source": [
        "sentence = \"lambda functions are powerful\"\n",
        "reversed_words = list(map(lambda word: word[::-1], sentence.split()))\n",
        "print(\" \".join(reversed_words))\n",
        "\n",
        "\n"
      ]
    },
    {
      "cell_type": "code",
      "execution_count": null,
      "metadata": {
        "colab": {
          "base_uri": "https://localhost:8080/"
        },
        "id": "Cioz4qNDOgMG",
        "outputId": "7b668070-c899-4f91-d4eb-6d424e2c9b8e"
      },
      "outputs": [
        {
          "output_type": "stream",
          "name": "stdout",
          "text": [
            "['Charlie Brown', 'Alice Johnson', 'Bob Smith']\n"
          ]
        }
      ],
      "source": [
        "people = [\"Alice Johnson\", \"Bob Smith\", \"Charlie Brown\"]\n",
        "sorted_by_last = sorted(people, key=lambda name: name.split()[-1])\n",
        "print(sorted_by_last)\n",
        "\n"
      ]
    },
    {
      "cell_type": "code",
      "execution_count": null,
      "metadata": {
        "colab": {
          "base_uri": "https://localhost:8080/"
        },
        "id": "MqVD7LkFOien",
        "outputId": "f3bb4f7d-77b7-45dd-eeb8-be135cdf2142"
      },
      "outputs": [
        {
          "output_type": "stream",
          "name": "stdout",
          "text": [
            "15\n",
            "Error\n"
          ]
        }
      ],
      "source": [
        "operations = {\n",
        "    'add': lambda x, y: x + y,\n",
        "    'sub': lambda x, y: x - y,\n",
        "    'mul': lambda x, y: x * y,\n",
        "    'div': lambda x, y: x / y if y != 0 else 'Error'\n",
        "}\n",
        "\n",
        "print(operations['add'](10, 5))\n",
        "print(operations['div'](10, 0))\n",
        "\n"
      ]
    },
    {
      "cell_type": "code",
      "execution_count": null,
      "metadata": {
        "colab": {
          "base_uri": "https://localhost:8080/"
        },
        "id": "bpoXhck6Ok2P",
        "outputId": "a6323c41-3c69-4dae-dcdb-cd0dbd5a0dd8"
      },
      "outputs": [
        {
          "output_type": "stream",
          "name": "stdout",
          "text": [
            "[6, 12, 18]\n"
          ]
        }
      ],
      "source": [
        "numbers = list(range(1, 21))\n",
        "\n",
        "filtered = list(filter(lambda x: x % 2 == 0 and x % 3 == 0, numbers))\n",
        "print(filtered)\n",
        "\n"
      ]
    },
    {
      "cell_type": "code",
      "execution_count": null,
      "metadata": {
        "colab": {
          "base_uri": "https://localhost:8080/"
        },
        "id": "JMSy2pmtOoSR",
        "outputId": "ad193af5-7562-4553-e137-9a0e69bb4017"
      },
      "outputs": [
        {
          "output_type": "stream",
          "name": "stdout",
          "text": [
            "Even\n",
            "Odd\n"
          ]
        }
      ],
      "source": [
        "check_even_odd = lambda num: \"Even\" if num % 2 == 0 else \"Odd\"\n",
        "print(check_even_odd(4))\n",
        "print(check_even_odd(7))\n",
        "\n",
        "\n"
      ]
    },
    {
      "cell_type": "code",
      "execution_count": null,
      "metadata": {
        "colab": {
          "base_uri": "https://localhost:8080/"
        },
        "id": "MPaI5XyROtbX",
        "outputId": "ec61bbe4-78c9-4ac0-e9f8-7f5ed86a4277"
      },
      "outputs": [
        {
          "output_type": "stream",
          "name": "stdout",
          "text": [
            "GEEKSFORGEEKS\n"
          ]
        }
      ],
      "source": [
        "s1 = 'GeeksforGeeks'\n",
        "\n",
        "s2 = lambda func: func.upper()\n",
        "print(s2(s1))\n"
      ]
    },
    {
      "cell_type": "code",
      "execution_count": null,
      "metadata": {
        "colab": {
          "base_uri": "https://localhost:8080/"
        },
        "id": "u8moaIepOw7J",
        "outputId": "7e95a80f-f971-4981-d13b-c0f669c760ef"
      },
      "outputs": [
        {
          "output_type": "stream",
          "name": "stdout",
          "text": [
            "Positive\n",
            "Negative\n",
            "Zero\n"
          ]
        }
      ],
      "source": [
        "\n",
        "n = lambda x: \"Positive\" if x > 0 else \"Negative\" if x < 0 else \"Zero\"\n",
        "\n",
        "print(n(5))\n",
        "print(n(-3))\n",
        "print(n(0))\n",
        "\n"
      ]
    },
    {
      "cell_type": "code",
      "execution_count": null,
      "metadata": {
        "colab": {
          "base_uri": "https://localhost:8080/"
        },
        "id": "tsg0or3ROtaf",
        "outputId": "e00d9476-56e2-4f39-9dcc-6bee4b77ad9d"
      },
      "outputs": [
        {
          "output_type": "stream",
          "name": "stdout",
          "text": [
            "10\n",
            "20\n",
            "30\n",
            "40\n"
          ]
        }
      ],
      "source": [
        "li = [lambda arg=x: arg * 10 for x in range(1, 5)]\n",
        "for i in li:\n",
        "    print(i())\n",
        "\n"
      ]
    },
    {
      "cell_type": "code",
      "execution_count": null,
      "metadata": {
        "colab": {
          "base_uri": "https://localhost:8080/"
        },
        "id": "9VEN3n_IO7FW",
        "outputId": "862150e2-e15f-4f4a-93c8-879099d51594"
      },
      "outputs": [
        {
          "output_type": "stream",
          "name": "stdout",
          "text": [
            "Even\n",
            "Odd\n"
          ]
        }
      ],
      "source": [
        "\n",
        "check = lambda x: \"Even\" if x % 2 == 0 else \"Odd\"\n",
        "\n",
        "print(check(4))\n",
        "print(check(7))\n",
        "\n"
      ]
    },
    {
      "cell_type": "code",
      "execution_count": null,
      "metadata": {
        "colab": {
          "base_uri": "https://localhost:8080/"
        },
        "id": "Tj1xb5CLO8AR",
        "outputId": "7d914803-14a5-4c41-9953-eff6d6b46375"
      },
      "outputs": [
        {
          "output_type": "stream",
          "name": "stdout",
          "text": [
            "(7, 12)\n"
          ]
        }
      ],
      "source": [
        "\n",
        "calc = lambda x, y: (x + y, x * y)\n",
        "\n",
        "res = calc(3, 4)\n",
        "print(res)\n",
        "\n"
      ]
    },
    {
      "cell_type": "code",
      "execution_count": null,
      "metadata": {
        "colab": {
          "base_uri": "https://localhost:8080/"
        },
        "id": "bIWU7GjEO_Rb",
        "outputId": "5656b22b-4810-490e-e1cf-2c17ee78d4c7"
      },
      "outputs": [
        {
          "output_type": "stream",
          "name": "stdout",
          "text": [
            "[2, 4, 6]\n"
          ]
        }
      ],
      "source": [
        "\n",
        "n = [1, 2, 3, 4, 5, 6]\n",
        "even = filter(lambda x: x % 2 == 0, n)\n",
        "print(list(even))\n",
        "\n"
      ]
    },
    {
      "cell_type": "code",
      "execution_count": null,
      "metadata": {
        "colab": {
          "base_uri": "https://localhost:8080/"
        },
        "id": "_c_D_et3PCPK",
        "outputId": "48979201-dc95-4e22-f06f-ac28c72d29ef"
      },
      "outputs": [
        {
          "output_type": "stream",
          "name": "stdout",
          "text": [
            "[2, 4, 6, 8]\n"
          ]
        }
      ],
      "source": [
        "\n",
        "a = [1, 2, 3, 4]\n",
        "b = map(lambda x: x * 2, a)\n",
        "print(list(b))\n"
      ]
    },
    {
      "cell_type": "code",
      "execution_count": null,
      "metadata": {
        "colab": {
          "base_uri": "https://localhost:8080/"
        },
        "id": "Qllw4tCxPFDy",
        "outputId": "08df3b40-d561-4c9d-ee3f-dadf386cf5f3"
      },
      "outputs": [
        {
          "output_type": "stream",
          "name": "stdout",
          "text": [
            "24\n"
          ]
        }
      ],
      "source": [
        "from functools import reduce\n",
        "\n",
        "\n",
        "a = [1, 2, 3, 4]\n",
        "b = reduce(lambda x, y: x * y, a)\n",
        "print(b)\n",
        "\n",
        "\n"
      ]
    },
    {
      "cell_type": "code",
      "execution_count": null,
      "metadata": {
        "colab": {
          "base_uri": "https://localhost:8080/"
        },
        "id": "BdORoKuvcBW3",
        "outputId": "8d81df78-1489-4d16-ee1c-28951b0fb843"
      },
      "outputs": [
        {
          "output_type": "stream",
          "name": "stdout",
          "text": [
            "Even\n",
            "Odd\n"
          ]
        }
      ],
      "source": [
        "\n",
        "check = lambda x: \"Even\" if x % 2 == 0 else \"Odd\"\n",
        "\n",
        "print(check(4))\n",
        "print(check(7))\n",
        "\n"
      ]
    },
    {
      "cell_type": "code",
      "execution_count": null,
      "metadata": {
        "colab": {
          "base_uri": "https://localhost:8080/"
        },
        "id": "uSI0fLRLcBW5",
        "outputId": "70f3d450-486c-4af3-e545-4ea19e2cbf36"
      },
      "outputs": [
        {
          "output_type": "stream",
          "name": "stdout",
          "text": [
            "(7, 12)\n"
          ]
        }
      ],
      "source": [
        "\n",
        "calc = lambda x, y: (x + y, x * y)\n",
        "\n",
        "res = calc(3, 4)\n",
        "print(res)\n",
        "\n"
      ]
    },
    {
      "cell_type": "code",
      "execution_count": null,
      "metadata": {
        "colab": {
          "base_uri": "https://localhost:8080/"
        },
        "id": "yKeGTZYOcBW6",
        "outputId": "4e8631fa-41ab-4f45-a747-9146f3bfb6ec"
      },
      "outputs": [
        {
          "output_type": "stream",
          "name": "stdout",
          "text": [
            "[2, 4, 6]\n"
          ]
        }
      ],
      "source": [
        "\n",
        "n = [1, 2, 3, 4, 5, 6]\n",
        "even = filter(lambda x: x % 2 == 0, n)\n",
        "print(list(even))\n",
        "\n"
      ]
    },
    {
      "cell_type": "code",
      "execution_count": null,
      "metadata": {
        "colab": {
          "base_uri": "https://localhost:8080/"
        },
        "id": "NZ0aewELcBW6",
        "outputId": "2db4e74c-832d-41bd-e467-987b9956bc4e"
      },
      "outputs": [
        {
          "output_type": "stream",
          "name": "stdout",
          "text": [
            "[2, 4, 6, 8]\n"
          ]
        }
      ],
      "source": [
        "\n",
        "a = [1, 2, 3, 4]\n",
        "b = map(lambda x: x * 2, a)\n",
        "print(list(b))\n"
      ]
    },
    {
      "cell_type": "code",
      "execution_count": null,
      "metadata": {
        "colab": {
          "base_uri": "https://localhost:8080/"
        },
        "id": "WIbEXGD9cBW7",
        "outputId": "60a7c759-49e8-49ec-c30e-b10d5a1f9665"
      },
      "outputs": [
        {
          "output_type": "stream",
          "name": "stdout",
          "text": [
            "24\n"
          ]
        }
      ],
      "source": [
        "from functools import reduce\n",
        "\n",
        "\n",
        "a = [1, 2, 3, 4]\n",
        "b = reduce(lambda x, y: x * y, a)\n",
        "print(b)\n",
        "\n",
        "\n"
      ]
    },
    {
      "cell_type": "code",
      "execution_count": null,
      "metadata": {
        "colab": {
          "base_uri": "https://localhost:8080/"
        },
        "id": "Hpbf5qF_cDEr",
        "outputId": "32bd129b-f963-48cb-c88a-d67498d6b0b5"
      },
      "outputs": [
        {
          "output_type": "stream",
          "name": "stdout",
          "text": [
            "Even\n",
            "Odd\n"
          ]
        }
      ],
      "source": [
        "\n",
        "check = lambda x: \"Even\" if x % 2 == 0 else \"Odd\"\n",
        "\n",
        "print(check(4))\n",
        "print(check(7))\n",
        "\n"
      ]
    },
    {
      "cell_type": "code",
      "execution_count": null,
      "metadata": {
        "colab": {
          "base_uri": "https://localhost:8080/"
        },
        "id": "tJg_uNR-cDEt",
        "outputId": "2cc0303f-b5f2-4c4e-d096-8f9c18d36521"
      },
      "outputs": [
        {
          "output_type": "stream",
          "name": "stdout",
          "text": [
            "(7, 12)\n"
          ]
        }
      ],
      "source": [
        "\n",
        "calc = lambda x, y: (x + y, x * y)\n",
        "\n",
        "res = calc(3, 4)\n",
        "print(res)\n",
        "\n"
      ]
    },
    {
      "cell_type": "code",
      "execution_count": null,
      "metadata": {
        "colab": {
          "base_uri": "https://localhost:8080/"
        },
        "id": "hn-XqrPycDEu",
        "outputId": "e9121276-8913-40cb-e6a3-a801b30ad738"
      },
      "outputs": [
        {
          "output_type": "stream",
          "name": "stdout",
          "text": [
            "[2, 4, 6]\n"
          ]
        }
      ],
      "source": [
        "\n",
        "n = [1, 2, 3, 4, 5, 6]\n",
        "even = filter(lambda x: x % 2 == 0, n)\n",
        "print(list(even))\n",
        "\n"
      ]
    },
    {
      "cell_type": "code",
      "execution_count": null,
      "metadata": {
        "colab": {
          "base_uri": "https://localhost:8080/"
        },
        "id": "QckimkIlcDEv",
        "outputId": "1978d599-4705-4313-bb67-29d629d1ce4a"
      },
      "outputs": [
        {
          "output_type": "stream",
          "name": "stdout",
          "text": [
            "[2, 4, 6, 8]\n"
          ]
        }
      ],
      "source": [
        "\n",
        "a = [1, 2, 3, 4]\n",
        "b = map(lambda x: x * 2, a)\n",
        "print(list(b))\n"
      ]
    },
    {
      "cell_type": "code",
      "execution_count": null,
      "metadata": {
        "colab": {
          "base_uri": "https://localhost:8080/"
        },
        "id": "NgsG4FvmcDEw",
        "outputId": "9f0d8f35-369a-4135-b028-da38a54018f7"
      },
      "outputs": [
        {
          "output_type": "stream",
          "name": "stdout",
          "text": [
            "24\n"
          ]
        }
      ],
      "source": [
        "from functools import reduce\n",
        "\n",
        "\n",
        "a = [1, 2, 3, 4]\n",
        "b = reduce(lambda x, y: x * y, a)\n",
        "print(b)\n",
        "\n",
        "\n"
      ]
    },
    {
      "cell_type": "markdown",
      "metadata": {
        "id": "HvRE7XWgf0h8"
      },
      "source": [
        "# *Pandas*"
      ]
    },
    {
      "cell_type": "code",
      "execution_count": null,
      "metadata": {
        "colab": {
          "base_uri": "https://localhost:8080/"
        },
        "id": "TLVjkBa-ZQzT",
        "outputId": "2596a97b-33ab-4068-f38b-1540f77768ff"
      },
      "outputs": [
        {
          "output_type": "stream",
          "name": "stdout",
          "text": [
            "Multiply two Series:\n",
            "0     2\n",
            "1    12\n",
            "2    56\n",
            "3    90\n",
            "dtype: int64\n",
            "Divide Series1 by Series2:\n",
            "0    2.000000\n",
            "1    1.333333\n",
            "2    1.142857\n",
            "3    1.111111\n",
            "dtype: float64\n"
          ]
        }
      ],
      "source": [
        "import pandas as pd\n",
        "ds1 = pd.Series([2, 4, 8, 10])\n",
        "ds2 = pd.Series([1, 3, 7, 9])\n",
        "print(\"Multiply two Series:\")\n",
        "ds = ds1 * ds2\n",
        "print(ds)\n",
        "print(\"Divide Series1 by Series2:\")\n",
        "ds = ds1 / ds2\n",
        "print(ds)"
      ]
    },
    {
      "cell_type": "code",
      "execution_count": null,
      "metadata": {
        "colab": {
          "base_uri": "https://localhost:8080/"
        },
        "id": "GoN4r_gfZUaK",
        "outputId": "9d64352c-c45b-400d-b234-2ca9a41d50dc"
      },
      "outputs": [
        {
          "output_type": "stream",
          "name": "stdout",
          "text": [
            "Original dictionary:\n",
            "{'a': 100, 'b': 200, 'c': 300}\n",
            "Converted series:\n",
            "a    100\n",
            "b    200\n",
            "c    300\n",
            "dtype: int64\n"
          ]
        }
      ],
      "source": [
        "import pandas as pd\n",
        "d1 = {'a': 100, 'b': 200, 'c':300}\n",
        "print(\"Original dictionary:\")\n",
        "print(d1)\n",
        "new_series = pd.Series(d1)\n",
        "print(\"Converted series:\")\n",
        "print(new_series)"
      ]
    },
    {
      "cell_type": "code",
      "execution_count": null,
      "metadata": {
        "colab": {
          "base_uri": "https://localhost:8080/"
        },
        "id": "EwXVUACvZbH6",
        "outputId": "b478e47e-70d6-4db5-b73d-8c2fe92c0a8c"
      },
      "outputs": [
        {
          "output_type": "stream",
          "name": "stdout",
          "text": [
            "Original Data Series:\n",
            "0    400.00\n",
            "1    300.12\n",
            "2    100.00\n",
            "3    200.00\n",
            "dtype: float64\n",
            "2    100.00\n",
            "3    200.00\n",
            "1    300.12\n",
            "0    400.00\n",
            "dtype: float64\n"
          ]
        }
      ],
      "source": [
        "import pandas as pd\n",
        "s = pd.Series([400, 300.12,100, 200])\n",
        "print(\"Original Data Series:\")\n",
        "print(s)\n",
        "new_s = pd.Series(s).sort_values()\n",
        "print(new_s)"
      ]
    },
    {
      "cell_type": "code",
      "execution_count": null,
      "metadata": {
        "colab": {
          "base_uri": "https://localhost:8080/"
        },
        "id": "dd0suou8Ze_b",
        "outputId": "e561ea7f-af44-4cbf-b692-df6ca16d0063"
      },
      "outputs": [
        {
          "output_type": "stream",
          "name": "stdout",
          "text": [
            "Original Data Series:\n",
            "A    1\n",
            "B    2\n",
            "C    3\n",
            "dtype: int64\n",
            "Data Series after changing the order of index:\n",
            "B    2\n",
            "A    1\n",
            "C    3\n",
            "dtype: int64\n"
          ]
        }
      ],
      "source": [
        "import pandas as pd\n",
        "s = pd.Series(data = [1,2,3], index = ['A', 'B', 'C'])\n",
        "print(\"Original Data Series:\")\n",
        "print(s)\n",
        "s = s.reindex(index = ['B','A','C'])\n",
        "print(\"Data Series after changing the order of index:\")\n",
        "print(s)"
      ]
    },
    {
      "cell_type": "code",
      "execution_count": null,
      "metadata": {
        "colab": {
          "base_uri": "https://localhost:8080/"
        },
        "id": "Z-jPpjgQZi60",
        "outputId": "2e357ed4-8296-4962-f116-d8891842e0ab"
      },
      "outputs": [
        {
          "output_type": "stream",
          "name": "stdout",
          "text": [
            "Original Series:\n",
            "sr1:\n",
            "0    1\n",
            "1    2\n",
            "2    3\n",
            "dtype: int64\n",
            "sr2:\n",
            "0    2\n",
            "1    3\n",
            "2    6\n",
            "dtype: int64\n",
            "\n",
            "Items of a given series not present in another given series:\n",
            "0    1\n",
            "3    6\n",
            "dtype: int64\n"
          ]
        }
      ],
      "source": [
        "import pandas as pd\n",
        "import numpy as np\n",
        "sr1 = pd.Series([1, 2, 3])\n",
        "sr2 = pd.Series([2, 3, 6])\n",
        "print(\"Original Series:\")\n",
        "print(\"sr1:\")\n",
        "print(sr1)\n",
        "print(\"sr2:\")\n",
        "print(sr2)\n",
        "print(\"\\nItems of a given series not present in another given series:\")\n",
        "sr11 = pd.Series(np.union1d(sr1, sr2))\n",
        "sr22 = pd.Series(np.intersect1d(sr1, sr2))\n",
        "result = sr11[~sr11.isin(sr22)]\n",
        "print(result)"
      ]
    },
    {
      "cell_type": "code",
      "execution_count": null,
      "metadata": {
        "colab": {
          "base_uri": "https://localhost:8080/"
        },
        "id": "H0-I3gZqZmT4",
        "outputId": "a7b89fba-7427-4ef8-e0b9-693984947949"
      },
      "outputs": [
        {
          "output_type": "stream",
          "name": "stdout",
          "text": [
            "         name  score\n",
            "NAME   Manish   12.5\n",
            "SCORE  Dhiraj    9.0\n"
          ]
        }
      ],
      "source": [
        "import pandas as pd\n",
        "import numpy as np\n",
        "exam_data  = {'name': ['Manish', 'Dhiraj'],\n",
        "'score': [12.5, 9]}\n",
        "labels = ['NAME', 'SCORE']\n",
        "df = pd.DataFrame(exam_data , index=labels)\n",
        "print(df)"
      ]
    },
    {
      "cell_type": "code",
      "execution_count": null,
      "metadata": {
        "colab": {
          "base_uri": "https://localhost:8080/"
        },
        "id": "fkUzH-ZYZp94",
        "outputId": "3c27015f-3032-4fa2-e073-e0b8b046f659"
      },
      "outputs": [
        {
          "output_type": "stream",
          "name": "stdout",
          "text": [
            "First three rows of the data frame:\n",
            "     name  score\n",
            "0  Manish   12.5\n",
            "1  Dhiraj   91.0\n",
            "2     Man    2.5\n"
          ]
        }
      ],
      "source": [
        "import pandas as pd\n",
        "import numpy as np\n",
        "exam_data  = {'name': ['Manish', 'Dhiraj','Man', 'Dhir'],\n",
        "        'score': [12.5, 91,2.5, 9]}\n",
        "df = pd.DataFrame(exam_data )\n",
        "print(\"First three rows of the data frame:\")\n",
        "print(df.iloc[:3])"
      ]
    },
    {
      "cell_type": "code",
      "execution_count": null,
      "metadata": {
        "colab": {
          "base_uri": "https://localhost:8080/"
        },
        "id": "Rpj0HT2jZubk",
        "outputId": "2e0f4e35-6278-41e9-9444-4c8fc5b467ff"
      },
      "outputs": [
        {
          "output_type": "stream",
          "name": "stdout",
          "text": [
            "Number of Rows: 4\n",
            "Number of Columns: 2\n"
          ]
        }
      ],
      "source": [
        "import pandas as pd\n",
        "import numpy as np\n",
        "exam_data  = {'name': ['Manish', 'Dhiraj','Man', 'Dhir'],\n",
        "        'score': [12.5, 91,2.5, 9]}\n",
        "df = pd.DataFrame(exam_data )\n",
        "total_rows=len(df.axes[0])\n",
        "total_cols=len(df.axes[1])\n",
        "print(\"Number of Rows: \"+str(total_rows))\n",
        "print(\"Number of Columns: \"+str(total_cols))"
      ]
    },
    {
      "cell_type": "code",
      "execution_count": null,
      "metadata": {
        "colab": {
          "base_uri": "https://localhost:8080/"
        },
        "id": "Yv8A6JP9ZzKx",
        "outputId": "79ee3dbb-9a67-4257-c5a8-0ddd3a3872a8"
      },
      "outputs": [
        {
          "output_type": "stream",
          "name": "stdout",
          "text": [
            "Rows where score between 15 and 20 (inclusive):\n",
            "   name  score\n",
            "3  Dhir   19.0\n"
          ]
        }
      ],
      "source": [
        "import pandas as pd\n",
        "import numpy as np\n",
        "exam_data  = {'name': ['Manish', 'Dhiraj','Man', 'Dhir'],\n",
        "        'score': [12.5, 91,20.5, 19]}\n",
        "df = pd.DataFrame(exam_data )\n",
        "print(\"Rows where score between 15 and 20 (inclusive):\")\n",
        "print(df[df['score'].between(15, 20)])"
      ]
    },
    {
      "cell_type": "code",
      "execution_count": null,
      "metadata": {
        "colab": {
          "base_uri": "https://localhost:8080/"
        },
        "id": "uWefswgiZ2ss",
        "outputId": "e9167ee0-6130-4912-b62c-6113898fecad"
      },
      "outputs": [
        {
          "output_type": "stream",
          "name": "stdout",
          "text": [
            "Sort the data frame first by ‘name’ in descending order, then by ‘Score’ in ascending order:\n",
            "     name  score\n",
            "3    Dhir   19.0\n",
            "1  Dhiraj   91.0\n",
            "2     Man   20.5\n",
            "0  Manish   12.5\n"
          ]
        }
      ],
      "source": [
        "import pandas as pd\n",
        "import numpy as np\n",
        "exam_data  = {'name': ['Manish', 'Dhiraj','Man', 'Dhir'],\n",
        "        'score': [12.5, 91,20.5, 19]}\n",
        "df = pd.DataFrame(exam_data )\n",
        "result_sort=df.sort_values(by=['name', 'score'], ascending=[True,\n",
        "True])\n",
        "print(\"Sort the data frame first by ‘name’ in descending order, then by ‘Score’ in ascending order:\")\n",
        "print(result_sort)\n"
      ]
    },
    {
      "cell_type": "code",
      "execution_count": null,
      "metadata": {
        "colab": {
          "base_uri": "https://localhost:8080/"
        },
        "id": "6t3NR8knaJRZ",
        "outputId": "8c167f16-2f69-455b-be83-7e763d660ab1"
      },
      "outputs": [
        {
          "output_type": "stream",
          "name": "stdout",
          "text": [
            "     name  score\n",
            "0   Anish   12.5\n",
            "1  Dhiraj   91.0\n",
            "2     Man   20.5\n",
            "3    Dhir   19.0\n"
          ]
        }
      ],
      "source": [
        "import pandas as pd\n",
        "import numpy as np\n",
        "exam_data  = {'name': ['Manish', 'Dhiraj','Man', 'Dhir'],\n",
        "        'score': [12.5, 91,20.5, 19]}\n",
        "df = pd.DataFrame(exam_data )\n",
        "df['name'] = df['name'].replace('Manish', 'Anish')\n",
        "print(df)"
      ]
    },
    {
      "cell_type": "code",
      "execution_count": null,
      "metadata": {
        "colab": {
          "base_uri": "https://localhost:8080/"
        },
        "id": "jsa3JDVuaMk5",
        "outputId": "01c434f1-6afd-45e8-8648-5d8695480dfe"
      },
      "outputs": [
        {
          "output_type": "stream",
          "name": "stdout",
          "text": [
            "\n",
            "New DataFrame after inserting the 'medium' column\n",
            "     name  score   medium\n",
            "0  Manish   12.5  english\n",
            "1  Dhiraj   91.0    hindi\n",
            "2     Man   20.5    hindi\n",
            "3    Dhir   19.0  english\n"
          ]
        }
      ],
      "source": [
        "import pandas as pd\n",
        "import numpy as np\n",
        "exam_data  = {'name': ['Manish', 'Dhiraj','Man', 'Dhir'],\n",
        "        'score': [12.5, 91,20.5, 19]}\n",
        "df = pd.DataFrame(exam_data )\n",
        "medium = ['english','hindi','hindi','english']\n",
        "df['medium'] = medium\n",
        "print(\"\\nNew DataFrame after inserting the 'medium' column\")\n",
        "print(df)"
      ]
    },
    {
      "cell_type": "code",
      "execution_count": null,
      "metadata": {
        "colab": {
          "base_uri": "https://localhost:8080/"
        },
        "id": "b8rWtQYKaQVF",
        "outputId": "def5e022-4b73-4bdf-a1e1-1300d480882f"
      },
      "outputs": [
        {
          "output_type": "stream",
          "name": "stdout",
          "text": [
            "New DataFrame after renaming columns:\n",
            "     NAME  SCORE\n",
            "0  Manish   12.5\n",
            "1  Dhiraj   91.0\n",
            "2     Man   20.5\n",
            "3    Dhir   19.0\n"
          ]
        }
      ],
      "source": [
        "import numpy as np\n",
        "exam_data  = {'name': ['Manish', 'Dhiraj','Man', 'Dhir'],\n",
        "'score': [12.5, 91,20.5, 19]}\n",
        "df = pd.DataFrame(exam_data )\n",
        "df = df.rename(columns={'name': 'NAME', 'score': 'SCORE'})\n",
        "print(\"New DataFrame after renaming columns:\")\n",
        "print(df)"
      ]
    },
    {
      "cell_type": "code",
      "execution_count": null,
      "metadata": {
        "colab": {
          "base_uri": "https://localhost:8080/"
        },
        "id": "PoanWfHFaTXL",
        "outputId": "977814d0-a0c6-470c-ce68-2e9ed5fa4b55"
      },
      "outputs": [
        {
          "output_type": "stream",
          "name": "stdout",
          "text": [
            "New DataFrame\n",
            "     name  score\n",
            "1  Dhiraj   91.0\n",
            "2     Man   20.5\n"
          ]
        }
      ],
      "source": [
        "import pandas as pd\n",
        "import numpy as np\n",
        "exam_data  = {'name': ['Manish', 'Dhiraj','Man', 'Dhir'],\n",
        "'score': [12.5, 91,20.5, 19]}\n",
        "df = pd.DataFrame(exam_data )\n",
        "df = df[df.score >= 20]\n",
        "print(\"New DataFrame\")\n",
        "print(df)"
      ]
    },
    {
      "cell_type": "code",
      "execution_count": null,
      "metadata": {
        "colab": {
          "base_uri": "https://localhost:8080/"
        },
        "id": "2HFs0aXUaYyy",
        "outputId": "7fc192f7-9bde-4f46-a364-ea2f2726899d"
      },
      "outputs": [
        {
          "output_type": "stream",
          "name": "stdout",
          "text": [
            "Data Series:\n",
            "0    100\n",
            "1    200\n",
            "2    400\n",
            "dtype: object\n",
            "0    10\n",
            "1    20\n",
            "2    40\n",
            "dtype: object\n",
            "New DataFrame combining two series:\n",
            "     0   1\n",
            "0  100  10\n",
            "1  200  20\n",
            "2  400  40\n"
          ]
        }
      ],
      "source": [
        "import pandas as pd\n",
        "import numpy as np\n",
        "s1 = pd.Series(['100', '200', '400'])\n",
        "s2 = pd.Series(['10', '20', '40'])\n",
        "print(\"Data Series:\")\n",
        "print(s1)\n",
        "print(s2)\n",
        "df = pd.concat([s1, s2], axis=1)\n",
        "print(\"New DataFrame combining two series:\")\n",
        "print(df)"
      ]
    },
    {
      "cell_type": "code",
      "execution_count": null,
      "metadata": {
        "colab": {
          "base_uri": "https://localhost:8080/"
        },
        "id": "P-xM8k7-aZ8d",
        "outputId": "5f4041b1-5166-414a-bbcc-d9b78716f0e3"
      },
      "outputs": [
        {
          "output_type": "stream",
          "name": "stdout",
          "text": [
            "Value of Row4\n",
            "0    400\n",
            "1     40\n",
            "Name: 2, dtype: object\n"
          ]
        }
      ],
      "source": [
        "import pandas as pd\n",
        "import numpy as np\n",
        "s1 = pd.Series(['100', '200', '400'])\n",
        "s2 = pd.Series(['10', '20', '40'])\n",
        "df = pd.concat([s1, s2], axis=1)\n",
        "print(\"Value of Row4\")\n",
        "print(df.iloc[2])"
      ]
    },
    {
      "cell_type": "code",
      "execution_count": null,
      "metadata": {
        "colab": {
          "base_uri": "https://localhost:8080/"
        },
        "id": "Nut6rsGeactC",
        "outputId": "6b540f1d-5756-441d-f789-bf188ec0489d"
      },
      "outputs": [
        {
          "output_type": "stream",
          "name": "stdout",
          "text": [
            "\n",
            "New DataFrame\n",
            "   1    0   1\n",
            "0  1  100  10\n",
            "1  2  200  20\n",
            "2  3  400  40\n"
          ]
        }
      ],
      "source": [
        "import pandas as pd\n",
        "import numpy as np\n",
        "s1 = pd.Series(['100', '200', '400'])\n",
        "s2 = pd.Series(['10', '20', '40'])\n",
        "df = pd.concat([s1, s2], axis=1)\n",
        "new_col = [1, 2, 3]\n",
        "\n",
        "idx = 0\n",
        "df.insert(loc=idx, column='1', value=new_col)\n",
        "print(\"\\nNew DataFrame\")\n",
        "print(df)"
      ]
    },
    {
      "cell_type": "code",
      "execution_count": null,
      "metadata": {
        "id": "vygevFUVeibl"
      },
      "outputs": [],
      "source": [
        "\n"
      ]
    },
    {
      "cell_type": "code",
      "execution_count": null,
      "metadata": {
        "colab": {
          "base_uri": "https://localhost:8080/"
        },
        "id": "EP4VIoEsbcc6",
        "outputId": "8320e98e-7f33-468d-eaf9-c774971d36b7"
      },
      "outputs": [
        {
          "output_type": "stream",
          "name": "stdout",
          "text": [
            "0    10\n",
            "1    20\n",
            "2    30\n",
            "3    40\n",
            "dtype: int64\n",
            "a    1.5\n",
            "b    2.5\n",
            "c    3.5\n",
            "dtype: float64\n",
            "math       85\n",
            "science    90\n",
            "english    78\n",
            "dtype: int64\n"
          ]
        }
      ],
      "source": [
        "import pandas as pd\n",
        "\n",
        "\n",
        "s1 = pd.Series([10, 20, 30, 40])\n",
        "s2 = pd.Series([1.5, 2.5, 3.5], index=['a', 'b', 'c'])\n",
        "s3 = pd.Series({'math': 85, 'science': 90, 'english': 78})\n",
        "\n",
        "print(s1)\n",
        "print(s2)\n",
        "print(s3)\n",
        "\n",
        "\n",
        "\n"
      ]
    },
    {
      "cell_type": "code",
      "execution_count": null,
      "metadata": {
        "colab": {
          "base_uri": "https://localhost:8080/"
        },
        "id": "QCemTsWKbccD",
        "outputId": "cc46fdc0-b7e0-49c0-b113-e25a7323ff35"
      },
      "outputs": [
        {
          "output_type": "stream",
          "name": "stdout",
          "text": [
            "s1:\n",
            " 0    10\n",
            "1    20\n",
            "2    30\n",
            "3    40\n",
            "dtype: int64\n",
            "s2:\n",
            " a    1.5\n",
            "b    2.5\n",
            "c    3.5\n",
            "dtype: float64\n",
            "s3:\n",
            " math       85\n",
            "science    90\n",
            "english    78\n",
            "dtype: int64\n"
          ]
        }
      ],
      "source": [
        "import pandas as pd\n",
        "\n",
        "\n",
        "s1 = pd.Series([10, 20, 30, 40])\n",
        "s2 = pd.Series([1.5, 2.5, 3.5], index=['a', 'b', 'c'])\n",
        "s3 = pd.Series({'math': 85, 'science': 90, 'english': 78})\n",
        "\n",
        "print(\"s1:\\n\", s1)\n",
        "print(\"s2:\\n\", s2)\n",
        "print(\"s3:\\n\", s3)\n",
        "\n"
      ]
    },
    {
      "cell_type": "code",
      "execution_count": null,
      "metadata": {
        "colab": {
          "base_uri": "https://localhost:8080/"
        },
        "id": "Mps1KZuwV8U-",
        "outputId": "16e4519d-6b22-4113-9d9f-b245d6521213"
      },
      "outputs": [
        {
          "output_type": "stream",
          "name": "stdout",
          "text": [
            "Data Series:\n",
            "0    100\n",
            "1    200\n",
            "2    400\n",
            "dtype: int64\n",
            "0    10\n",
            "1    20\n",
            "2    40\n",
            "dtype: int64\n"
          ]
        }
      ],
      "source": [
        "import pandas as pd\n",
        "import numpy as np\n",
        "\n",
        "s1 = pd.Series([100, 200, 400])\n",
        "s2 = pd.Series([10, 20, 40])\n",
        "\n",
        "\n",
        "print(\"Data Series:\")\n",
        "print(s1)\n",
        "print(s2)\n"
      ]
    },
    {
      "cell_type": "code",
      "execution_count": null,
      "metadata": {
        "colab": {
          "base_uri": "https://localhost:8080/"
        },
        "id": "E5UzWXPEX9kl",
        "outputId": "b8c32b40-dfad-4204-f0a9-bc47007e72a3"
      },
      "outputs": [
        {
          "output_type": "stream",
          "name": "stdout",
          "text": [
            "a     5\n",
            "b    10\n",
            "c    15\n",
            "d    20\n",
            "e    25\n",
            "dtype: int64\n"
          ]
        }
      ],
      "source": [
        "import pandas as pd\n",
        "values=[5,10,15,20,25]\n",
        "custom_index=['a','b','c','d','e']\n",
        "s=pd.Series(values,index=custom_index)\n",
        "print(s)"
      ]
    },
    {
      "cell_type": "code",
      "execution_count": null,
      "metadata": {
        "colab": {
          "base_uri": "https://localhost:8080/"
        },
        "id": "XxybwFM3Y4j7",
        "outputId": "2437912e-2ae7-4d89-a25c-3d47ffc3ab5a"
      },
      "outputs": [
        {
          "output_type": "stream",
          "name": "stdout",
          "text": [
            "apple     50\n",
            "banana    30\n",
            "cherry    20\n",
            "dtype: int64\n"
          ]
        }
      ],
      "source": [
        "import pandas as pd\n",
        "fruits_data = {'apple': 50, 'banana': 30, 'cherry': 20}\n",
        "fruits_Series = pd.Series(fruits_data)\n",
        "print(fruits_Series)\n"
      ]
    },
    {
      "cell_type": "code",
      "execution_count": null,
      "metadata": {
        "colab": {
          "base_uri": "https://localhost:8080/"
        },
        "id": "EkOnEuv1ZoMS",
        "outputId": "de1d6f7f-4c5e-4b0f-d136-e2df3ea17ace"
      },
      "outputs": [
        {
          "output_type": "stream",
          "name": "stdout",
          "text": [
            "Alice        NaN\n",
            "Alive        NaN\n",
            "Bob        160.0\n",
            "Charlie    180.0\n",
            "dtype: float64\n"
          ]
        }
      ],
      "source": [
        "import pandas as pd\n",
        "subject_A = pd.Series({'Alive': 85, 'Bob': 78, 'Charlie': 92})\n",
        "subject_B = pd.Series({'Alice': 90, 'Bob': 82, 'Charlie': 88})\n",
        "total_marks = subject_A + subject_B\n",
        "print(total_marks)\n"
      ]
    },
    {
      "cell_type": "code",
      "execution_count": null,
      "metadata": {
        "colab": {
          "base_uri": "https://localhost:8080/"
        },
        "id": "-tzuMx6teChd",
        "outputId": "a251bd16-f386-42eb-a003-5c88ef6c17bb"
      },
      "outputs": [
        {
          "output_type": "stream",
          "name": "stdout",
          "text": [
            "0     1\n",
            "1     4\n",
            "2     7\n",
            "3    10\n",
            "dtype: int32\n"
          ]
        }
      ],
      "source": [
        "import pandas as pd\n",
        "dates = pd.Series([\n",
        "    '2023-01-15',\n",
        "    '2023-04-22',\n",
        "    '2023-07-08',\n",
        "    '2023-10-31',\n",
        "])\n",
        "dates = pd.to_datetime(dates)\n",
        "months = dates.dt.month\n",
        "print(months)\n"
      ]
    },
    {
      "cell_type": "code",
      "execution_count": null,
      "metadata": {
        "colab": {
          "base_uri": "https://localhost:8080/"
        },
        "id": "C0YwEpHMuWxY",
        "outputId": "81b7cca3-32f0-4432-c5e3-b016fca8c74f"
      },
      "outputs": [
        {
          "output_type": "stream",
          "name": "stdout",
          "text": [
            "0     5\n",
            "1    10\n",
            "2    15\n",
            "3    20\n",
            "4    25\n",
            "dtype: int64\n"
          ]
        }
      ],
      "source": [
        "\n",
        "#1.Create a Pandas Series of 5 elements: [5, 10, 15, 20, 25]\n",
        "import pandas as pd\n",
        "s = pd.Series([5, 10, 15, 20, 25])\n",
        "print(s)\n"
      ]
    },
    {
      "cell_type": "code",
      "execution_count": null,
      "metadata": {
        "colab": {
          "base_uri": "https://localhost:8080/"
        },
        "id": "0NeJ5OE7eiKR",
        "outputId": "a1abe697-f7c4-43be-b144-551d1b9adbb2"
      },
      "outputs": [
        {
          "output_type": "stream",
          "name": "stdout",
          "text": [
            "a     5\n",
            "b    10\n",
            "c    15\n",
            "d    20\n",
            "e    25\n",
            "dtype: int64\n"
          ]
        }
      ],
      "source": [
        "#2\n",
        "import pandas as pd\n",
        "s=pd.Series([5, 10, 15, 20, 25], index=['a', 'b', 'c', 'd', 'e'])\n",
        "print(s)\n"
      ]
    },
    {
      "cell_type": "code",
      "execution_count": null,
      "metadata": {
        "colab": {
          "base_uri": "https://localhost:8080/"
        },
        "id": "B6ICKy3-fsEw",
        "outputId": "4702595a-f388-4517-9977-373d8a6de91b"
      },
      "outputs": [
        {
          "output_type": "stream",
          "name": "stdout",
          "text": [
            "15\n"
          ]
        }
      ],
      "source": [
        "#3\n",
        "import pandas as pd\n",
        "s=pd.Series([5, 10, 15, 20, 25], index=['a', 'b', 'c', 'd', 'e'])\n",
        "print(s['c'])\n"
      ]
    },
    {
      "cell_type": "code",
      "execution_count": null,
      "metadata": {
        "colab": {
          "base_uri": "https://localhost:8080/"
        },
        "id": "UUh-wj8Gf7aY",
        "outputId": "a49c693f-9ec9-4950-8a41-788ddbf39f19"
      },
      "outputs": [
        {
          "output_type": "stream",
          "name": "stdout",
          "text": [
            "Maximum value: 25\n"
          ]
        }
      ],
      "source": [
        "import pandas as pd\n",
        "s=pd.Series([5, 10, 15, 20, 25], index=['a', 'b', 'c', 'd', 'e'])\n",
        "max_value=s.max()\n",
        "print(\"Maximum value:\",max_value)\n"
      ]
    },
    {
      "cell_type": "code",
      "execution_count": null,
      "metadata": {
        "colab": {
          "base_uri": "https://localhost:8080/"
        },
        "id": "VE3JzcLIvDLa",
        "outputId": "7e7c99c1-d1ca-4844-ee67-6dcdf5c14562"
      },
      "outputs": [
        {
          "output_type": "stream",
          "name": "stdout",
          "text": [
            "a    10\n",
            "b    15\n",
            "c    20\n",
            "d    25\n",
            "e    30\n",
            "dtype: int64\n"
          ]
        }
      ],
      "source": [
        "#5\n",
        "import pandas as pd\n",
        "s = pd.Series([5, 10, 15, 20, 25], index=['a', 'b', 'c', 'd', 'e'])\n",
        "s_added = s + 5\n",
        "print(s_added)\n"
      ]
    },
    {
      "cell_type": "code",
      "execution_count": null,
      "metadata": {
        "colab": {
          "base_uri": "https://localhost:8080/"
        },
        "id": "XeMf6zvqvJCA",
        "outputId": "14808239-6def-43de-9cae-a2c1fd15d6fe"
      },
      "outputs": [
        {
          "output_type": "stream",
          "name": "stdout",
          "text": [
            "apple     50\n",
            "banana    30\n",
            "cherry    20\n",
            "dtype: int64\n"
          ]
        }
      ],
      "source": [
        "#6\n",
        "import pandas as pd\n",
        "data = {'apple': 50, 'banana': 30, 'cherry': 20}\n",
        "fruit_series = pd.Series(data)\n",
        "print(fruit_series)\n"
      ]
    },
    {
      "cell_type": "code",
      "execution_count": null,
      "metadata": {
        "colab": {
          "base_uri": "https://localhost:8080/"
        },
        "id": "x1G47J2ovOvi",
        "outputId": "7c085264-acad-4fdd-8873-96a0fadc260a"
      },
      "outputs": [
        {
          "output_type": "stream",
          "name": "stdout",
          "text": [
            "apple     50\n",
            "banana    30\n",
            "dtype: int64\n"
          ]
        }
      ],
      "source": [
        "#7.\n",
        "import pandas as pd\n",
        "data = {'apple': 50, 'banana': 30, 'cherry': 20}\n",
        "fruit_series = pd.Series(data)\n",
        "filtered_series = fruit_series[fruit_series > 25]\n",
        "print(filtered_series)\n"
      ]
    },
    {
      "cell_type": "code",
      "execution_count": null,
      "metadata": {
        "colab": {
          "base_uri": "https://localhost:8080/"
        },
        "id": "muudhOsAvVSZ",
        "outputId": "b3489ab0-4ca6-47a0-e814-6ef2a9d777d0"
      },
      "outputs": [
        {
          "output_type": "stream",
          "name": "stdout",
          "text": [
            "apple     60.0\n",
            "banana    36.0\n",
            "cherry    24.0\n",
            "dtype: float64\n"
          ]
        }
      ],
      "source": [
        "#8.\n",
        "import pandas as pd\n",
        "data = {'apple': 50, 'banana': 30, 'cherry': 20}\n",
        "fruit_series = pd.Series(data)\n",
        "increased_prices = fruit_series * 1.2\n",
        "print(increased_prices)\n"
      ]
    },
    {
      "cell_type": "code",
      "execution_count": null,
      "metadata": {
        "colab": {
          "base_uri": "https://localhost:8080/"
        },
        "id": "rQy4em1DvZUB",
        "outputId": "0f05f4f9-0e97-4145-a3e8-cd445dc39849"
      },
      "outputs": [
        {
          "output_type": "stream",
          "name": "stdout",
          "text": [
            "apple      NaN\n",
            "banana    40.0\n",
            "cherry    25.0\n",
            "date       NaN\n",
            "dtype: float64\n"
          ]
        }
      ],
      "source": [
        "#9.\n",
        "import pandas as pd\n",
        "fruit_series = pd.Series({'apple': 50, 'banana': 30, 'cherry': 20})\n",
        "new_prices = pd.Series({'banana': 10, 'cherry': 5, 'date': 15})\n",
        "combined = fruit_series + new_prices\n",
        "print(combined)\n"
      ]
    },
    {
      "cell_type": "code",
      "execution_count": null,
      "metadata": {
        "colab": {
          "base_uri": "https://localhost:8080/"
        },
        "id": "kOSYBwS6ve5K",
        "outputId": "d487ed16-0dc3-4687-ed68-f9d23d496ceb"
      },
      "outputs": [
        {
          "output_type": "stream",
          "name": "stdout",
          "text": [
            "Mean: 30.0\n",
            "Standard Deviation: 15.811388300841896\n"
          ]
        }
      ],
      "source": [
        "#10\n",
        "import pandas as pd\n",
        "s = pd.Series([10, 20, 30, 40, 50])\n",
        "mean_val = s.mean()\n",
        "std_val = s.std()\n",
        "print(\"Mean:\", mean_val)\n",
        "print(\"Standard Deviation:\", std_val)\n"
      ]
    },
    {
      "cell_type": "code",
      "execution_count": null,
      "metadata": {
        "colab": {
          "base_uri": "https://localhost:8080/"
        },
        "id": "bi8rR-HxvnMy",
        "outputId": "6dd386cb-1da7-4c4b-db1d-a932b77e1856"
      },
      "outputs": [
        {
          "output_type": "stream",
          "name": "stdout",
          "text": [
            "Alice      173\n",
            "Bob        152\n",
            "Charlie    182\n",
            "dtype: int64\n"
          ]
        }
      ],
      "source": [
        "#11.\n",
        "import pandas as pd\n",
        "subject1 = pd.Series({'Alice': 85, 'Bob': 78, 'Charlie': 92})\n",
        "subject2 = pd.Series({'Alice': 88, 'Bob': 74, 'Charlie': 90})\n",
        "total_marks = subject1 + subject2\n",
        "print(total_marks)\n"
      ]
    },
    {
      "cell_type": "code",
      "execution_count": null,
      "metadata": {
        "colab": {
          "base_uri": "https://localhost:8080/"
        },
        "id": "L9X0tQG2vs4S",
        "outputId": "945edc51-8f7b-49f4-f26b-45230d469f33"
      },
      "outputs": [
        {
          "output_type": "stream",
          "name": "stdout",
          "text": [
            "0     1\n",
            "1     3\n",
            "2     7\n",
            "3    12\n",
            "dtype: int32\n"
          ]
        }
      ],
      "source": [
        "#12\n",
        "import pandas as pd\n",
        "timestamps = pd.Series([\n",
        "    '2025-01-14', '2025-03-22', '2025-07-14', '2025-12-01'\n",
        "])\n",
        "timestamps = pd.to_datetime(timestamps)\n",
        "months = timestamps.dt.month\n",
        "print(months)\n"
      ]
    },
    {
      "cell_type": "code",
      "execution_count": null,
      "metadata": {
        "colab": {
          "base_uri": "https://localhost:8080/"
        },
        "id": "WrDxJDV7vyip",
        "outputId": "db7f193c-685d-4f3a-9e97-30bd0404769b"
      },
      "outputs": [
        {
          "output_type": "stream",
          "name": "stdout",
          "text": [
            "Index of maximum value: D\n"
          ]
        }
      ],
      "source": [
        "\n",
        "#13.\n",
        "import pandas as pd\n",
        "s = pd.Series({'A': 10, 'B': 25, 'C': 18, 'D': 30})\n",
        "max_index = s.idxmax()\n",
        "print(\"Index of maximum value:\", max_index)\n"
      ]
    },
    {
      "cell_type": "code",
      "source": [
        "import pandas as pd\n",
        "\n",
        "# 1. Create a DataFrame with the given data and updated cities\n",
        "data = {\n",
        "    'Name': ['Adi', 'Dito', 'Chinmmya', 'Beta'],\n",
        "    'Age': [25, 30, 35, 28],\n",
        "    'City': ['Dubai', 'Thailand', 'Kashmir', 'Rajasthan']\n",
        "}\n",
        "df = pd.DataFrame(data)\n",
        "print(\"Initial DataFrame:\")\n",
        "print(df)\n",
        "\n",
        "# 2. Sort the DataFrame by Age in descending order\n",
        "df_sorted = df.sort_values(by='Age', ascending=False)\n",
        "print(\"\\nSorted by Age (Descending):\")\n",
        "print(df_sorted)\n",
        "\n",
        "# 3. Add a new column called Salary\n",
        "df['Salary'] = [50000, 60000, 70000, 55000]\n",
        "print(\"\\nDataFrame with Salary:\")\n",
        "print(df)\n",
        "\n",
        "# 4. Find the rows where Age is greater than 30\n",
        "age_gt_30 = df[df['Age'] > 30]\n",
        "print(\"\\nPeople with Age > 30:\")\n",
        "print(age_gt_30)\n",
        "\n",
        "# 5. Change the city of 'Dito' to 'Dubai'\n",
        "df.loc[df['Name'] == 'Dito', 'City'] = 'Dubai'\n",
        "print(\"\\nUpdated City for Dito:\")\n",
        "print(df)\n",
        "\n",
        "# 6. Drop the column 'City' from the DataFrame\n",
        "df_dropped = df.drop('City', axis=1)\n",
        "print(\"\\nDataFrame without City column:\")\n",
        "print(df_dropped)\n",
        "\n",
        "# 7. Find the average (mean) Age\n",
        "mean_age = df['Age'].mean()\n",
        "print(f\"\\nAverage Age: {mean_age}\")\n",
        "\n",
        "# 8. Check if there is any person from 'Dubai'\n",
        "has_dubai = 'Dubai' in df['City'].values\n",
        "print(f\"\\nIs anyone from Dubai? {has_dubai}\")\n",
        "\n",
        "# 9. Search for a person named \"Dito\" and display their info\n",
        "dito_info = df[df['Name'] == 'Dito']\n",
        "print(\"\\nInformation of Dito:\")\n",
        "print(dito_info)\n",
        "\n",
        "# 10. Count the number of people in each city\n",
        "city_counts = df['City'].value_counts()\n",
        "print(\"\\nNumber of people in each city:\")\n",
        "print(city_counts)\n",
        "\n",
        "# 11. Find the person with the maximum salary\n",
        "max_salary_person = df[df['Salary'] == df['Salary'].max()]\n",
        "print(\"\\nPerson with the maximum salary:\")\n",
        "print(max_salary_person)"
      ],
      "metadata": {
        "colab": {
          "base_uri": "https://localhost:8080/"
        },
        "id": "gDA0ywliacHZ",
        "outputId": "ab5c6840-4d48-4953-d032-789f3f1224f5"
      },
      "execution_count": null,
      "outputs": [
        {
          "output_type": "stream",
          "name": "stdout",
          "text": [
            "Initial DataFrame:\n",
            "       Name  Age       City\n",
            "0       Adi   25      Dubai\n",
            "1      Dito   30   Thailand\n",
            "2  Chinmmya   35    Kashmir\n",
            "3      Beta   28  Rajasthan\n",
            "\n",
            "Sorted by Age (Descending):\n",
            "       Name  Age       City\n",
            "2  Chinmmya   35    Kashmir\n",
            "1      Dito   30   Thailand\n",
            "3      Beta   28  Rajasthan\n",
            "0       Adi   25      Dubai\n",
            "\n",
            "DataFrame with Salary:\n",
            "       Name  Age       City  Salary\n",
            "0       Adi   25      Dubai   50000\n",
            "1      Dito   30   Thailand   60000\n",
            "2  Chinmmya   35    Kashmir   70000\n",
            "3      Beta   28  Rajasthan   55000\n",
            "\n",
            "People with Age > 30:\n",
            "       Name  Age     City  Salary\n",
            "2  Chinmmya   35  Kashmir   70000\n",
            "\n",
            "Updated City for Dito:\n",
            "       Name  Age       City  Salary\n",
            "0       Adi   25      Dubai   50000\n",
            "1      Dito   30      Dubai   60000\n",
            "2  Chinmmya   35    Kashmir   70000\n",
            "3      Beta   28  Rajasthan   55000\n",
            "\n",
            "DataFrame without City column:\n",
            "       Name  Age  Salary\n",
            "0       Adi   25   50000\n",
            "1      Dito   30   60000\n",
            "2  Chinmmya   35   70000\n",
            "3      Beta   28   55000\n",
            "\n",
            "Average Age: 29.5\n",
            "\n",
            "Is anyone from Dubai? True\n",
            "\n",
            "Information of Dito:\n",
            "   Name  Age   City  Salary\n",
            "1  Dito   30  Dubai   60000\n",
            "\n",
            "Number of people in each city:\n",
            "City\n",
            "Dubai        2\n",
            "Kashmir      1\n",
            "Rajasthan    1\n",
            "Name: count, dtype: int64\n",
            "\n",
            "Person with the maximum salary:\n",
            "       Name  Age     City  Salary\n",
            "2  Chinmmya   35  Kashmir   70000\n"
          ]
        }
      ]
    },
    {
      "cell_type": "code",
      "source": [
        "# 1. Create a DataFrame with the given data and updated cities\n",
        "import pandas as pd\n",
        "\n",
        "data = {\n",
        "    'Name': ['Adi', 'Dito', 'Chinmmya', 'Beta'],\n",
        "    'Age': [25, 30, 35, 28],\n",
        "    'City': ['Dubai', 'Thailand', 'Kashmir', 'Rajasthan']\n",
        "}\n",
        "df = pd.DataFrame(data)\n",
        "print(\"Initial DataFrame:\")\n",
        "print(df)"
      ],
      "metadata": {
        "colab": {
          "base_uri": "https://localhost:8080/"
        },
        "id": "n-iM7bssarQY",
        "outputId": "1b6d0088-5040-4d99-d1e3-3c9fe1b169b3"
      },
      "execution_count": null,
      "outputs": [
        {
          "output_type": "stream",
          "name": "stdout",
          "text": [
            "Initial DataFrame:\n",
            "       Name  Age       City\n",
            "0       Adi   25      Dubai\n",
            "1      Dito   30   Thailand\n",
            "2  Chinmmya   35    Kashmir\n",
            "3      Beta   28  Rajasthan\n"
          ]
        }
      ]
    },
    {
      "cell_type": "code",
      "source": [
        "# 2. Sort the DataFrame by Age in descending order\n",
        "import pandas as pd\n",
        "\n",
        "data = {\n",
        "    'Name': ['Adi', 'Dito', 'Chinmmya', 'Beta'],\n",
        "    'Age': [25, 30, 35, 28],\n",
        "    'City': ['Dubai', 'Thailand', 'Kashmir', 'Rajasthan']\n",
        "}\n",
        "\n",
        "df_sorted = df.sort_values(by='Age', ascending=False)\n",
        "print(\"\\nSorted by Age (Descending):\")\n",
        "print(df_sorted)"
      ],
      "metadata": {
        "colab": {
          "base_uri": "https://localhost:8080/"
        },
        "id": "-HltnImdavno",
        "outputId": "b7b07058-8b87-447b-f552-4ff1d7982f70"
      },
      "execution_count": null,
      "outputs": [
        {
          "output_type": "stream",
          "name": "stdout",
          "text": [
            "\n",
            "Sorted by Age (Descending):\n",
            "       Name  Age       City\n",
            "2  Chinmmya   35    Kashmir\n",
            "1      Dito   30   Thailand\n",
            "3      Beta   28  Rajasthan\n",
            "0       Adi   25      Dubai\n"
          ]
        }
      ]
    },
    {
      "cell_type": "code",
      "source": [
        "import pandas as pd\n",
        "\n",
        "# 1. Create a DataFrame with the given data and updated cities\n",
        "data = {\n",
        "    'Name': ['Adi', 'Dito', 'Chinmmya', 'Beta'],\n",
        "    'Age': [25, 30, 35, 28],\n",
        "    'City': ['Dubai', 'Thailand', 'Kashmir', 'Rajasthan']\n",
        "}\n",
        "df = pd.DataFrame(data)\n",
        "print(\"Initial DataFrame:\")\n",
        "print(df)\n",
        "\n",
        "# 2. Sort the DataFrame by Age in descending order\n",
        "df_sorted = df.sort_values(by='Age', ascending=False)\n",
        "print(\"\\nSorted by Age (Descending):\")\n",
        "print(df_sorted)\n",
        "\n",
        "# 3. Add a new column called Salary\n",
        "df['Salary'] = [50000, 60000, 70000, 55000]\n",
        "print(\"\\nDataFrame with Salary:\")\n",
        "print(df)\n",
        "\n",
        "# 4. Find the rows where Age is greater than 30\n",
        "age_gt_30 = df[df['Age'] > 30]\n",
        "print(\"\\nPeople with Age > 30:\")\n",
        "print(age_gt_30)\n",
        "\n",
        "# 5. Change the city of 'Dito' to 'Dubai'\n",
        "df.loc[df['Name'] == 'Dito', 'City'] = 'Dubai'\n",
        "print(\"\\nUpdated City for Dito:\")\n",
        "print(df)\n",
        "\n",
        "# 6. Drop the column 'City' from the DataFrame\n",
        "df_dropped = df.drop('City', axis=1)\n",
        "print(\"\\nDataFrame without City column:\")\n",
        "print(df_dropped)\n",
        "\n",
        "# 7. Find the average (mean) Age\n",
        "mean_age = df['Age'].mean()\n",
        "print(f\"\\nAverage Age: {mean_age}\")\n",
        "\n",
        "# 8. Check if there is any person from 'Dubai'\n",
        "has_dubai = 'Dubai' in df['City'].values\n",
        "print(f\"\\nIs anyone from Dubai? {has_dubai}\")\n",
        "\n",
        "# 9. Search for a person named \"Dito\" and display their info\n",
        "dito_info = df[df['Name'] == 'Dito']\n",
        "print(\"\\nInformation of Dito:\")\n",
        "print(dito_info)\n",
        "\n",
        "# 10. Count the number of people in each city\n",
        "city_counts = df['City'].value_counts()\n",
        "print(\"\\nNumber of people in each city:\")\n",
        "print(city_counts)\n",
        "\n",
        "# 11. Find the person with the maximum salary\n",
        "max_salary_person = df[df['Salary'] == df['Salary'].max()]\n",
        "print(\"\\nPerson with the maximum salary:\")\n",
        "print(max_salary_person)"
      ],
      "metadata": {
        "colab": {
          "base_uri": "https://localhost:8080/"
        },
        "id": "_3ZyxDl4cihJ",
        "outputId": "4bdd66c4-b337-440a-ab12-9d430b97d1f6"
      },
      "execution_count": null,
      "outputs": [
        {
          "output_type": "stream",
          "name": "stdout",
          "text": [
            "Initial DataFrame:\n",
            "       Name  Age       City\n",
            "0       Adi   25      Dubai\n",
            "1      Dito   30   Thailand\n",
            "2  Chinmmya   35    Kashmir\n",
            "3      Beta   28  Rajasthan\n",
            "\n",
            "Sorted by Age (Descending):\n",
            "       Name  Age       City\n",
            "2  Chinmmya   35    Kashmir\n",
            "1      Dito   30   Thailand\n",
            "3      Beta   28  Rajasthan\n",
            "0       Adi   25      Dubai\n",
            "\n",
            "DataFrame with Salary:\n",
            "       Name  Age       City  Salary\n",
            "0       Adi   25      Dubai   50000\n",
            "1      Dito   30   Thailand   60000\n",
            "2  Chinmmya   35    Kashmir   70000\n",
            "3      Beta   28  Rajasthan   55000\n",
            "\n",
            "People with Age > 30:\n",
            "       Name  Age     City  Salary\n",
            "2  Chinmmya   35  Kashmir   70000\n",
            "\n",
            "Updated City for Dito:\n",
            "       Name  Age       City  Salary\n",
            "0       Adi   25      Dubai   50000\n",
            "1      Dito   30      Dubai   60000\n",
            "2  Chinmmya   35    Kashmir   70000\n",
            "3      Beta   28  Rajasthan   55000\n",
            "\n",
            "DataFrame without City column:\n",
            "       Name  Age  Salary\n",
            "0       Adi   25   50000\n",
            "1      Dito   30   60000\n",
            "2  Chinmmya   35   70000\n",
            "3      Beta   28   55000\n",
            "\n",
            "Average Age: 29.5\n",
            "\n",
            "Is anyone from Dubai? True\n",
            "\n",
            "Information of Dito:\n",
            "   Name  Age   City  Salary\n",
            "1  Dito   30  Dubai   60000\n",
            "\n",
            "Number of people in each city:\n",
            "City\n",
            "Dubai        2\n",
            "Kashmir      1\n",
            "Rajasthan    1\n",
            "Name: count, dtype: int64\n",
            "\n",
            "Person with the maximum salary:\n",
            "       Name  Age     City  Salary\n",
            "2  Chinmmya   35  Kashmir   70000\n"
          ]
        }
      ]
    },
    {
      "cell_type": "code",
      "source": [
        "data = {\n",
        "    'Name': ['Adi', 'Dito', 'Chinmmya', 'Beta'],\n",
        "    'Age': [25, 30, 35, 28],\n",
        "    'City': ['Dubai', 'Thailand', 'Kashmir', 'Rajasthan']\n",
        "}\n",
        "df = pd.DataFrame(data)\n",
        "print(\"Initial DataFrame:\")\n",
        "print(df)"
      ],
      "metadata": {
        "colab": {
          "base_uri": "https://localhost:8080/"
        },
        "id": "MA8vRknDczZR",
        "outputId": "6c66ff30-2092-4fd2-82e8-5935943c734b"
      },
      "execution_count": null,
      "outputs": [
        {
          "output_type": "stream",
          "name": "stdout",
          "text": [
            "Initial DataFrame:\n",
            "       Name  Age       City\n",
            "0       Adi   25      Dubai\n",
            "1      Dito   30   Thailand\n",
            "2  Chinmmya   35    Kashmir\n",
            "3      Beta   28  Rajasthan\n"
          ]
        }
      ]
    },
    {
      "cell_type": "code",
      "source": [
        "import pandas as pd\n",
        "data = {\n",
        "    'Name': ['Adi', 'Dito', 'Chinmmya', 'Beta'],\n",
        "    'Age': [25, 30, 35, 28],\n",
        "    'City': ['Dubai', 'Thailand', 'Kashmir', 'Rajasthan']\n",
        "}\n",
        "df_sorted = df.sort_values(by='Age', ascending=False)\n",
        "print(\"\\nSorted by Age (Descending):\")\n",
        "print(df_sorted)"
      ],
      "metadata": {
        "colab": {
          "base_uri": "https://localhost:8080/"
        },
        "id": "IV4zsMpudy0p",
        "outputId": "fb855ced-bc2f-4036-bb53-50551513388b"
      },
      "execution_count": null,
      "outputs": [
        {
          "output_type": "stream",
          "name": "stdout",
          "text": [
            "\n",
            "Sorted by Age (Descending):\n",
            "       Name  Age       City\n",
            "2  Chinmmya   35    Kashmir\n",
            "1      Dito   30   Thailand\n",
            "3      Beta   28  Rajasthan\n",
            "0       Adi   25      Dubai\n"
          ]
        }
      ]
    },
    {
      "cell_type": "code",
      "source": [
        "import pandas as pd\n",
        "data = {\n",
        "    'Name': ['Adi', 'Dito', 'Chinmmya', 'Beta'],\n",
        "    'Age': [25, 30, 35, 28],\n",
        "    'City': ['Dubai', 'Thailand', 'Kashmir', 'Rajasthan']\n",
        "}\n",
        "df['Salary'] = [50000, 60000, 70000, 55000]\n",
        "print(\"\\nDataFrame with Salary:\")\n",
        "print(df)"
      ],
      "metadata": {
        "colab": {
          "base_uri": "https://localhost:8080/"
        },
        "id": "qq-nzcJXfAkg",
        "outputId": "847baeda-f1ab-499f-caf4-2ca777c4842d"
      },
      "execution_count": null,
      "outputs": [
        {
          "output_type": "stream",
          "name": "stdout",
          "text": [
            "\n",
            "DataFrame with Salary:\n",
            "       Name  Age       City  Salary\n",
            "0       Adi   25      Dubai   50000\n",
            "1      Dito   30   Thailand   60000\n",
            "2  Chinmmya   35    Kashmir   70000\n",
            "3      Beta   28  Rajasthan   55000\n"
          ]
        }
      ]
    },
    {
      "cell_type": "code",
      "source": [
        "import pandas as pd\n",
        "data = {\n",
        "    'Name': ['Adi', 'Dito', 'Chinmmya', 'Beta'],\n",
        "    'Age': [25, 30, 35, 28],\n",
        "    'City': ['Dubai', 'Thailand', 'Kashmir', 'Rajasthan']\n",
        "}\n",
        "age_gt_30 = df[df['Age'] > 30]\n",
        "print(\"\\nPeople with Age > 30:\")\n",
        "print(age_gt_30)"
      ],
      "metadata": {
        "colab": {
          "base_uri": "https://localhost:8080/"
        },
        "id": "P_0W1ZglfqLH",
        "outputId": "7715bdb8-411f-4438-9854-93f92e1ca8c2"
      },
      "execution_count": null,
      "outputs": [
        {
          "output_type": "stream",
          "name": "stdout",
          "text": [
            "\n",
            "People with Age > 30:\n",
            "       Name  Age     City  Salary\n",
            "2  Chinmmya   35  Kashmir   70000\n"
          ]
        }
      ]
    },
    {
      "cell_type": "code",
      "source": [
        "df.loc[df['Name'] == 'Dito', 'City'] = 'Dubai'\n",
        "print(\"\\nUpdated City for Dito:\")\n",
        "print(df)"
      ],
      "metadata": {
        "colab": {
          "base_uri": "https://localhost:8080/"
        },
        "id": "1aHRb54dg1R3",
        "outputId": "de3b52eb-e4d2-4edf-c643-37f971db36a7"
      },
      "execution_count": null,
      "outputs": [
        {
          "output_type": "stream",
          "name": "stdout",
          "text": [
            "\n",
            "Updated City for Dito:\n",
            "       Name  Age       City  Salary\n",
            "0       Adi   25      Dubai   50000\n",
            "1      Dito   30      Dubai   60000\n",
            "2  Chinmmya   35    Kashmir   70000\n",
            "3      Beta   28  Rajasthan   55000\n"
          ]
        }
      ]
    },
    {
      "cell_type": "code",
      "source": [
        "df_dropped = df.drop('City', axis=1)\n",
        "print(\"\\nDataFrame without City column:\")\n",
        "print(df_dropped)"
      ],
      "metadata": {
        "colab": {
          "base_uri": "https://localhost:8080/"
        },
        "id": "pBZGZnMig1KI",
        "outputId": "d60b4c96-f8dc-41a8-a7bf-c982a335ee30"
      },
      "execution_count": null,
      "outputs": [
        {
          "output_type": "stream",
          "name": "stdout",
          "text": [
            "\n",
            "DataFrame without City column:\n",
            "       Name  Age  Salary\n",
            "0       Adi   25   50000\n",
            "1      Dito   30   60000\n",
            "2  Chinmmya   35   70000\n",
            "3      Beta   28   55000\n"
          ]
        }
      ]
    },
    {
      "cell_type": "code",
      "source": [
        "mean_age = df['Age'].mean()\n",
        "print(f\"\\nAverage Age: {mean_age}\")"
      ],
      "metadata": {
        "colab": {
          "base_uri": "https://localhost:8080/"
        },
        "id": "rWdxRMQPkRvf",
        "outputId": "b82b84b6-3071-458c-c988-4efa69f2e53d"
      },
      "execution_count": null,
      "outputs": [
        {
          "output_type": "stream",
          "name": "stdout",
          "text": [
            "\n",
            "Average Age: 29.5\n"
          ]
        }
      ]
    },
    {
      "cell_type": "code",
      "source": [
        "has_dubai = 'Dubai' in df['City'].values\n",
        "print(f\"\\nIs anyone from Dubai? {has_dubai}\")"
      ],
      "metadata": {
        "colab": {
          "base_uri": "https://localhost:8080/"
        },
        "id": "a24IB_hzkq62",
        "outputId": "4b3985c9-51d7-4e40-9714-6b7e0810d500"
      },
      "execution_count": null,
      "outputs": [
        {
          "output_type": "stream",
          "name": "stdout",
          "text": [
            "\n",
            "Is anyone from Dubai? True\n"
          ]
        }
      ]
    },
    {
      "cell_type": "code",
      "source": [
        "dito_info = df[df['Name'] == 'Dito']\n",
        "print(\"\\nInformation of Dito:\")\n",
        "print(dito_info)"
      ],
      "metadata": {
        "colab": {
          "base_uri": "https://localhost:8080/"
        },
        "id": "xsWnu06xlPkH",
        "outputId": "15ed7df7-e003-4c60-8d4a-833b1de9d9c5"
      },
      "execution_count": null,
      "outputs": [
        {
          "output_type": "stream",
          "name": "stdout",
          "text": [
            "\n",
            "Information of Dito:\n",
            "   Name  Age   City  Salary\n",
            "1  Dito   30  Dubai   60000\n"
          ]
        }
      ]
    },
    {
      "cell_type": "code",
      "source": [
        "city_counts = df['City'].value_counts()\n",
        "print(\"\\nNumber of people in each city:\")\n",
        "print(city_counts)\n"
      ],
      "metadata": {
        "colab": {
          "base_uri": "https://localhost:8080/"
        },
        "id": "4MFUVPRdl42A",
        "outputId": "b290492d-5f3e-49cb-8032-274439b851b1"
      },
      "execution_count": null,
      "outputs": [
        {
          "output_type": "stream",
          "name": "stdout",
          "text": [
            "\n",
            "Number of people in each city:\n",
            "City\n",
            "Dubai        2\n",
            "Kashmir      1\n",
            "Rajasthan    1\n",
            "Name: count, dtype: int64\n"
          ]
        }
      ]
    },
    {
      "cell_type": "code",
      "source": [],
      "metadata": {
        "id": "EQdxJZkNv3Qz"
      },
      "execution_count": null,
      "outputs": []
    },
    {
      "cell_type": "markdown",
      "source": [
        "                                         Week-3\n",
        "                                         "
      ],
      "metadata": {
        "id": "3gZE-SFnjDqE"
      }
    },
    {
      "cell_type": "code",
      "source": [
        "import numpy as np\n",
        "arr=np.array([1,2,3,4])\n",
        "print(arr)\n",
        "print(arr.mean())\n",
        "print(arr.max())\n",
        "print(arr.mean())"
      ],
      "metadata": {
        "colab": {
          "base_uri": "https://localhost:8080/"
        },
        "id": "yLSFoFK-izAu",
        "outputId": "4510121c-6fe3-4ce1-db66-e1e4ffc2cdd6"
      },
      "execution_count": null,
      "outputs": [
        {
          "output_type": "stream",
          "name": "stdout",
          "text": [
            "[1 2 3 4]\n",
            "2.5\n",
            "4\n",
            "2.5\n"
          ]
        }
      ]
    },
    {
      "cell_type": "code",
      "source": [
        "import numpy as np\n",
        "import random\n",
        "array=np.random.randint(16,size=(4,4))\n",
        "print(\"input array :\\n\",array)\n",
        "print(\"largest number in x axis:\",np.max(array,axis=1))\n",
        "print(\"largest number in y axis:\",np.max(array,axis=1))"
      ],
      "metadata": {
        "colab": {
          "base_uri": "https://localhost:8080/"
        },
        "id": "5KqJgsd4jge2",
        "outputId": "eda7cc0f-c1a4-4b46-82b9-fe82b251261b"
      },
      "execution_count": null,
      "outputs": [
        {
          "output_type": "stream",
          "name": "stdout",
          "text": [
            "input array :\n",
            " [[ 5  0  1  1]\n",
            " [ 0  2 12  2]\n",
            " [ 4  5 13  8]\n",
            " [ 4 11  0 15]]\n",
            "largest number in x axis: [ 5 12 13 15]\n",
            "largest number in y axis: [ 5 12 13 15]\n"
          ]
        }
      ]
    },
    {
      "cell_type": "code",
      "source": [
        "import numpy as np\n",
        "array = np.random.randint(0, 16, size=(4, 4))\n",
        "print(\"Input Array:\\n\", array)\n",
        "print(\"Largest number in each row (axis=1):\", np.max(array, axis=1))\n",
        "print(\"Largest number in each column (axis=0):\", np.max(array, axis=0))\n"
      ],
      "metadata": {
        "colab": {
          "base_uri": "https://localhost:8080/"
        },
        "id": "XzQhcXUXjH6v",
        "outputId": "617bf838-94fb-4770-c828-974c9189fd40"
      },
      "execution_count": null,
      "outputs": [
        {
          "output_type": "stream",
          "name": "stdout",
          "text": [
            "Input Array:\n",
            " [[ 8  7 14  9]\n",
            " [ 9  5  2  6]\n",
            " [ 7  2  3  0]\n",
            " [ 7  8  4  0]]\n",
            "Largest number in each row (axis=1): [14  9  7  8]\n",
            "Largest number in each column (axis=0): [ 9  8 14  9]\n"
          ]
        }
      ]
    },
    {
      "cell_type": "code",
      "source": [
        "import numpy as np\n",
        "import random\n",
        "array = np.random.randint(16, size=(4, 4))\n",
        "print(\"Input Array:\\n\", array)\n",
        "print(\"Smallest number in each row (axis=1):\", np.min(array, axis=1))\n",
        "print(\"Smallest number in each column (axis=0):\", np.min(array, axis=0))\n",
        "print(arr.std())"
      ],
      "metadata": {
        "colab": {
          "base_uri": "https://localhost:8080/"
        },
        "id": "LrqRCxrUm0q-",
        "outputId": "4e7e9975-be4e-4eb6-b553-1808fc0874b1"
      },
      "execution_count": null,
      "outputs": [
        {
          "output_type": "stream",
          "name": "stdout",
          "text": [
            "Input Array:\n",
            " [[14  9 10  0]\n",
            " [ 2  0 15  1]\n",
            " [13  5  3  1]\n",
            " [ 0  2  7  2]]\n",
            "Smallest number in each row (axis=1): [0 0 1 0]\n",
            "Smallest number in each column (axis=0): [0 0 3 0]\n",
            "1.118033988749895\n"
          ]
        }
      ]
    },
    {
      "cell_type": "code",
      "source": [
        "arr=np.array([5,3,4])\n",
        "print(arr+2)\n",
        "print(np.sin (arr))"
      ],
      "metadata": {
        "colab": {
          "base_uri": "https://localhost:8080/"
        },
        "id": "6rMYMbetlNG9",
        "outputId": "5fa98124-2c2a-4704-84fa-67d290f84bcf"
      },
      "execution_count": null,
      "outputs": [
        {
          "output_type": "stream",
          "name": "stdout",
          "text": [
            "[7 5 6]\n",
            "[-0.95892427  0.14112001 -0.7568025 ]\n"
          ]
        }
      ]
    },
    {
      "cell_type": "code",
      "source": [
        "import numpy as np\n",
        "arr = np.array([1, 2, 3])\n",
        "print(arr + 2)\n",
        "print(np.sin(arr))"
      ],
      "metadata": {
        "id": "E5rfmz-ox921",
        "colab": {
          "base_uri": "https://localhost:8080/"
        },
        "outputId": "d4261801-19d9-464e-a4f9-e362330aaaaa"
      },
      "execution_count": null,
      "outputs": [
        {
          "output_type": "stream",
          "name": "stdout",
          "text": [
            "[3 4 5]\n",
            "[0.84147098 0.90929743 0.14112001]\n"
          ]
        }
      ]
    },
    {
      "cell_type": "code",
      "source": [
        "import numpy as np\n",
        "arr = np.array([1, 2, 3])\n",
        "arr2 = np.array([1, 2, 3])\n",
        "print(arr + arr2)\n"
      ],
      "metadata": {
        "colab": {
          "base_uri": "https://localhost:8080/"
        },
        "id": "b97nbUTdeijw",
        "outputId": "ed686f84-ce9c-436a-fcd8-27f971e66bbe"
      },
      "execution_count": null,
      "outputs": [
        {
          "output_type": "stream",
          "name": "stdout",
          "text": [
            "[2 4 6]\n"
          ]
        }
      ]
    },
    {
      "cell_type": "code",
      "source": [
        "squared = list(map(lambda x: x**2, arr))\n",
        "print(\"Squared using map:\", squared)\n"
      ],
      "metadata": {
        "colab": {
          "base_uri": "https://localhost:8080/"
        },
        "id": "XRZeDzoberg_",
        "outputId": "bd67d884-5da9-4433-f18b-b045e2615a08"
      },
      "execution_count": null,
      "outputs": [
        {
          "output_type": "stream",
          "name": "stdout",
          "text": [
            "Squared using map: [np.int64(1), np.int64(4), np.int64(9)]\n"
          ]
        }
      ]
    },
    {
      "cell_type": "code",
      "source": [
        "def square(number):\n",
        "   return number * number\n",
        "\n",
        "nums = [1, 2, 3, 4]\n",
        "squared_numbers = list(map(square, nums))\n",
        "print(squared_numbers)\n",
        "\n"
      ],
      "metadata": {
        "colab": {
          "base_uri": "https://localhost:8080/"
        },
        "id": "ND12L5GHe66g",
        "outputId": "b9f6507f-9ffd-42c7-e738-6eb333ea344c"
      },
      "execution_count": null,
      "outputs": [
        {
          "output_type": "stream",
          "name": "stdout",
          "text": [
            "[1, 4, 9, 16]\n"
          ]
        }
      ]
    },
    {
      "cell_type": "code",
      "source": [
        "nums1= [1,2,3,4,5,6]\n",
        "squareOfnums1 = list(map(lambda n:n*n,nums1))\n",
        "print(squareOfnums1)"
      ],
      "metadata": {
        "colab": {
          "base_uri": "https://localhost:8080/"
        },
        "id": "1xNzxnv7fLlu",
        "outputId": "8e45be9d-3379-4e7d-d485-e4010a52ef1e"
      },
      "execution_count": null,
      "outputs": [
        {
          "output_type": "stream",
          "name": "stdout",
          "text": [
            "[1, 4, 9, 16, 25, 36]\n"
          ]
        }
      ]
    },
    {
      "cell_type": "code",
      "source": [
        "def is_even(n):\n",
        "  if n % 2 ==0:\n",
        "    return True\n",
        "  else:\n",
        "      return False\n",
        "nums = [1,2,3,4]\n",
        "evens = list(filter(is_even,nums))\n",
        "print(evens)\n"
      ],
      "metadata": {
        "colab": {
          "base_uri": "https://localhost:8080/"
        },
        "id": "BDmln2jLfUZo",
        "outputId": "afca3c9f-683a-464c-d3d2-66decb594f8b"
      },
      "execution_count": null,
      "outputs": [
        {
          "output_type": "stream",
          "name": "stdout",
          "text": [
            "[2, 4]\n"
          ]
        }
      ]
    },
    {
      "cell_type": "code",
      "source": [
        "even = list(filter(lambda x: x % 2 == 0, arr))\n",
        "print(\"Even numbers:\", even)\n"
      ],
      "metadata": {
        "colab": {
          "base_uri": "https://localhost:8080/"
        },
        "id": "Z2Grf4Nbfp__",
        "outputId": "27245579-c945-41f9-fe82-b1b18b7848cc"
      },
      "execution_count": null,
      "outputs": [
        {
          "output_type": "stream",
          "name": "stdout",
          "text": [
            "Even numbers: [np.int64(2)]\n"
          ]
        }
      ]
    },
    {
      "cell_type": "code",
      "source": [
        "from functools import reduce\n",
        "def sum_all(a, b):\n",
        "    return a + b\n",
        "nums = [1, 2, 3, 4,5]\n",
        "total = reduce(sum_all, nums)\n",
        "print(total)\n"
      ],
      "metadata": {
        "colab": {
          "base_uri": "https://localhost:8080/"
        },
        "id": "mmL-dafyfrbG",
        "outputId": "67e0c348-0fc5-4605-8da9-c0b1a3f4d722"
      },
      "execution_count": null,
      "outputs": [
        {
          "output_type": "stream",
          "name": "stdout",
          "text": [
            "15\n"
          ]
        }
      ]
    },
    {
      "cell_type": "code",
      "source": [
        "from functools import reduce\n",
        "def sum_all(a, b):\n",
        "    return a + b\n",
        "nums = [1, 2, 3, 4]\n",
        "total = reduce(lambda x, y: x + y, arr)\n",
        "print(\"Sum using reduce:\", total)\n"
      ],
      "metadata": {
        "colab": {
          "base_uri": "https://localhost:8080/"
        },
        "id": "paCgeWs3gHk3",
        "outputId": "312aa536-6dbf-4249-c4ec-99045482bd46"
      },
      "execution_count": null,
      "outputs": [
        {
          "output_type": "stream",
          "name": "stdout",
          "text": [
            "Sum using reduce: 12\n"
          ]
        }
      ]
    },
    {
      "cell_type": "code",
      "source": [
        "nums = [1,2,3,4]\n",
        "evens = list(filter(lambda n:n%2==0,nums))\n",
        "print(evens)\n"
      ],
      "metadata": {
        "colab": {
          "base_uri": "https://localhost:8080/"
        },
        "id": "MTw9KRl-gPi-",
        "outputId": "83640844-476d-403f-d9b0-f2ae99dde014"
      },
      "execution_count": null,
      "outputs": [
        {
          "output_type": "stream",
          "name": "stdout",
          "text": [
            "[2, 4]\n"
          ]
        }
      ]
    },
    {
      "cell_type": "code",
      "source": [
        "import pandas as pd\n",
        "data = pd.Series([10, 20, 30, 40], index=['a', 'b', 'c', 'd'])\n",
        "print(data)"
      ],
      "metadata": {
        "colab": {
          "base_uri": "https://localhost:8080/"
        },
        "id": "Th0CEETDgTw-",
        "outputId": "3d961115-f8a8-4c3d-c258-42dfd9a449bc"
      },
      "execution_count": null,
      "outputs": [
        {
          "output_type": "stream",
          "name": "stdout",
          "text": [
            "a    10\n",
            "b    20\n",
            "c    30\n",
            "d    40\n",
            "dtype: int64\n"
          ]
        }
      ]
    },
    {
      "cell_type": "code",
      "source": [
        "import pandas as pd\n",
        "data = {\n",
        "    'Name': ['Alice', 'Bob', 'Charlie'],\n",
        "    'Age': [25, 30, 35],\n",
        "    'City': ['Delhi', 'Mumbai', 'Bangalore']\n",
        "}\n",
        "df = pd.DataFrame(data)\n",
        "print(df)\n",
        "df.head()\n",
        "df.tail()\n",
        "df.info()\n"
      ],
      "metadata": {
        "colab": {
          "base_uri": "https://localhost:8080/"
        },
        "id": "NjesOYO-ggEu",
        "outputId": "88ff2268-ff99-48bf-9dc4-db237835ca2f"
      },
      "execution_count": null,
      "outputs": [
        {
          "output_type": "stream",
          "name": "stdout",
          "text": [
            "      Name  Age       City\n",
            "0    Alice   25      Delhi\n",
            "1      Bob   30     Mumbai\n",
            "2  Charlie   35  Bangalore\n",
            "<class 'pandas.core.frame.DataFrame'>\n",
            "RangeIndex: 3 entries, 0 to 2\n",
            "Data columns (total 3 columns):\n",
            " #   Column  Non-Null Count  Dtype \n",
            "---  ------  --------------  ----- \n",
            " 0   Name    3 non-null      object\n",
            " 1   Age     3 non-null      int64 \n",
            " 2   City    3 non-null      object\n",
            "dtypes: int64(1), object(2)\n",
            "memory usage: 204.0+ bytes\n"
          ]
        }
      ]
    },
    {
      "cell_type": "code",
      "source": [
        "import pandas as pd\n",
        "lst = ['Apple', 'Mango', 'Banana', 'Pine Apple', 'Grapes', 'Watermelon']\n",
        "df = pd.DataFrame(lst)\n",
        "print(df)\n",
        "df.head()\n",
        "df.tail()\n"
      ],
      "metadata": {
        "colab": {
          "base_uri": "https://localhost:8080/",
          "height": 327
        },
        "id": "Apr-WY_tgmoX",
        "outputId": "701ad4de-ed69-4e35-ee86-747e7db9d0d9"
      },
      "execution_count": null,
      "outputs": [
        {
          "output_type": "stream",
          "name": "stdout",
          "text": [
            "            0\n",
            "0       Apple\n",
            "1       Mango\n",
            "2      Banana\n",
            "3  Pine Apple\n",
            "4      Grapes\n",
            "5  Watermelon\n"
          ]
        },
        {
          "output_type": "execute_result",
          "data": {
            "text/plain": [
              "            0\n",
              "1       Mango\n",
              "2      Banana\n",
              "3  Pine Apple\n",
              "4      Grapes\n",
              "5  Watermelon"
            ],
            "text/html": [
              "\n",
              "  <div id=\"df-5c996ec8-1fb1-4de6-b0da-f7bdfdda62f9\" class=\"colab-df-container\">\n",
              "    <div>\n",
              "<style scoped>\n",
              "    .dataframe tbody tr th:only-of-type {\n",
              "        vertical-align: middle;\n",
              "    }\n",
              "\n",
              "    .dataframe tbody tr th {\n",
              "        vertical-align: top;\n",
              "    }\n",
              "\n",
              "    .dataframe thead th {\n",
              "        text-align: right;\n",
              "    }\n",
              "</style>\n",
              "<table border=\"1\" class=\"dataframe\">\n",
              "  <thead>\n",
              "    <tr style=\"text-align: right;\">\n",
              "      <th></th>\n",
              "      <th>0</th>\n",
              "    </tr>\n",
              "  </thead>\n",
              "  <tbody>\n",
              "    <tr>\n",
              "      <th>1</th>\n",
              "      <td>Mango</td>\n",
              "    </tr>\n",
              "    <tr>\n",
              "      <th>2</th>\n",
              "      <td>Banana</td>\n",
              "    </tr>\n",
              "    <tr>\n",
              "      <th>3</th>\n",
              "      <td>Pine Apple</td>\n",
              "    </tr>\n",
              "    <tr>\n",
              "      <th>4</th>\n",
              "      <td>Grapes</td>\n",
              "    </tr>\n",
              "    <tr>\n",
              "      <th>5</th>\n",
              "      <td>Watermelon</td>\n",
              "    </tr>\n",
              "  </tbody>\n",
              "</table>\n",
              "</div>\n",
              "    <div class=\"colab-df-buttons\">\n",
              "\n",
              "  <div class=\"colab-df-container\">\n",
              "    <button class=\"colab-df-convert\" onclick=\"convertToInteractive('df-5c996ec8-1fb1-4de6-b0da-f7bdfdda62f9')\"\n",
              "            title=\"Convert this dataframe to an interactive table.\"\n",
              "            style=\"display:none;\">\n",
              "\n",
              "  <svg xmlns=\"http://www.w3.org/2000/svg\" height=\"24px\" viewBox=\"0 -960 960 960\">\n",
              "    <path d=\"M120-120v-720h720v720H120Zm60-500h600v-160H180v160Zm220 220h160v-160H400v160Zm0 220h160v-160H400v160ZM180-400h160v-160H180v160Zm440 0h160v-160H620v160ZM180-180h160v-160H180v160Zm440 0h160v-160H620v160Z\"/>\n",
              "  </svg>\n",
              "    </button>\n",
              "\n",
              "  <style>\n",
              "    .colab-df-container {\n",
              "      display:flex;\n",
              "      gap: 12px;\n",
              "    }\n",
              "\n",
              "    .colab-df-convert {\n",
              "      background-color: #E8F0FE;\n",
              "      border: none;\n",
              "      border-radius: 50%;\n",
              "      cursor: pointer;\n",
              "      display: none;\n",
              "      fill: #1967D2;\n",
              "      height: 32px;\n",
              "      padding: 0 0 0 0;\n",
              "      width: 32px;\n",
              "    }\n",
              "\n",
              "    .colab-df-convert:hover {\n",
              "      background-color: #E2EBFA;\n",
              "      box-shadow: 0px 1px 2px rgba(60, 64, 67, 0.3), 0px 1px 3px 1px rgba(60, 64, 67, 0.15);\n",
              "      fill: #174EA6;\n",
              "    }\n",
              "\n",
              "    .colab-df-buttons div {\n",
              "      margin-bottom: 4px;\n",
              "    }\n",
              "\n",
              "    [theme=dark] .colab-df-convert {\n",
              "      background-color: #3B4455;\n",
              "      fill: #D2E3FC;\n",
              "    }\n",
              "\n",
              "    [theme=dark] .colab-df-convert:hover {\n",
              "      background-color: #434B5C;\n",
              "      box-shadow: 0px 1px 3px 1px rgba(0, 0, 0, 0.15);\n",
              "      filter: drop-shadow(0px 1px 2px rgba(0, 0, 0, 0.3));\n",
              "      fill: #FFFFFF;\n",
              "    }\n",
              "  </style>\n",
              "\n",
              "    <script>\n",
              "      const buttonEl =\n",
              "        document.querySelector('#df-5c996ec8-1fb1-4de6-b0da-f7bdfdda62f9 button.colab-df-convert');\n",
              "      buttonEl.style.display =\n",
              "        google.colab.kernel.accessAllowed ? 'block' : 'none';\n",
              "\n",
              "      async function convertToInteractive(key) {\n",
              "        const element = document.querySelector('#df-5c996ec8-1fb1-4de6-b0da-f7bdfdda62f9');\n",
              "        const dataTable =\n",
              "          await google.colab.kernel.invokeFunction('convertToInteractive',\n",
              "                                                    [key], {});\n",
              "        if (!dataTable) return;\n",
              "\n",
              "        const docLinkHtml = 'Like what you see? Visit the ' +\n",
              "          '<a target=\"_blank\" href=https://colab.research.google.com/notebooks/data_table.ipynb>data table notebook</a>'\n",
              "          + ' to learn more about interactive tables.';\n",
              "        element.innerHTML = '';\n",
              "        dataTable['output_type'] = 'display_data';\n",
              "        await google.colab.output.renderOutput(dataTable, element);\n",
              "        const docLink = document.createElement('div');\n",
              "        docLink.innerHTML = docLinkHtml;\n",
              "        element.appendChild(docLink);\n",
              "      }\n",
              "    </script>\n",
              "  </div>\n",
              "\n",
              "\n",
              "    <div id=\"df-adb501b5-bdda-41d0-ba18-9eac36c63675\">\n",
              "      <button class=\"colab-df-quickchart\" onclick=\"quickchart('df-adb501b5-bdda-41d0-ba18-9eac36c63675')\"\n",
              "                title=\"Suggest charts\"\n",
              "                style=\"display:none;\">\n",
              "\n",
              "<svg xmlns=\"http://www.w3.org/2000/svg\" height=\"24px\"viewBox=\"0 0 24 24\"\n",
              "     width=\"24px\">\n",
              "    <g>\n",
              "        <path d=\"M19 3H5c-1.1 0-2 .9-2 2v14c0 1.1.9 2 2 2h14c1.1 0 2-.9 2-2V5c0-1.1-.9-2-2-2zM9 17H7v-7h2v7zm4 0h-2V7h2v10zm4 0h-2v-4h2v4z\"/>\n",
              "    </g>\n",
              "</svg>\n",
              "      </button>\n",
              "\n",
              "<style>\n",
              "  .colab-df-quickchart {\n",
              "      --bg-color: #E8F0FE;\n",
              "      --fill-color: #1967D2;\n",
              "      --hover-bg-color: #E2EBFA;\n",
              "      --hover-fill-color: #174EA6;\n",
              "      --disabled-fill-color: #AAA;\n",
              "      --disabled-bg-color: #DDD;\n",
              "  }\n",
              "\n",
              "  [theme=dark] .colab-df-quickchart {\n",
              "      --bg-color: #3B4455;\n",
              "      --fill-color: #D2E3FC;\n",
              "      --hover-bg-color: #434B5C;\n",
              "      --hover-fill-color: #FFFFFF;\n",
              "      --disabled-bg-color: #3B4455;\n",
              "      --disabled-fill-color: #666;\n",
              "  }\n",
              "\n",
              "  .colab-df-quickchart {\n",
              "    background-color: var(--bg-color);\n",
              "    border: none;\n",
              "    border-radius: 50%;\n",
              "    cursor: pointer;\n",
              "    display: none;\n",
              "    fill: var(--fill-color);\n",
              "    height: 32px;\n",
              "    padding: 0;\n",
              "    width: 32px;\n",
              "  }\n",
              "\n",
              "  .colab-df-quickchart:hover {\n",
              "    background-color: var(--hover-bg-color);\n",
              "    box-shadow: 0 1px 2px rgba(60, 64, 67, 0.3), 0 1px 3px 1px rgba(60, 64, 67, 0.15);\n",
              "    fill: var(--button-hover-fill-color);\n",
              "  }\n",
              "\n",
              "  .colab-df-quickchart-complete:disabled,\n",
              "  .colab-df-quickchart-complete:disabled:hover {\n",
              "    background-color: var(--disabled-bg-color);\n",
              "    fill: var(--disabled-fill-color);\n",
              "    box-shadow: none;\n",
              "  }\n",
              "\n",
              "  .colab-df-spinner {\n",
              "    border: 2px solid var(--fill-color);\n",
              "    border-color: transparent;\n",
              "    border-bottom-color: var(--fill-color);\n",
              "    animation:\n",
              "      spin 1s steps(1) infinite;\n",
              "  }\n",
              "\n",
              "  @keyframes spin {\n",
              "    0% {\n",
              "      border-color: transparent;\n",
              "      border-bottom-color: var(--fill-color);\n",
              "      border-left-color: var(--fill-color);\n",
              "    }\n",
              "    20% {\n",
              "      border-color: transparent;\n",
              "      border-left-color: var(--fill-color);\n",
              "      border-top-color: var(--fill-color);\n",
              "    }\n",
              "    30% {\n",
              "      border-color: transparent;\n",
              "      border-left-color: var(--fill-color);\n",
              "      border-top-color: var(--fill-color);\n",
              "      border-right-color: var(--fill-color);\n",
              "    }\n",
              "    40% {\n",
              "      border-color: transparent;\n",
              "      border-right-color: var(--fill-color);\n",
              "      border-top-color: var(--fill-color);\n",
              "    }\n",
              "    60% {\n",
              "      border-color: transparent;\n",
              "      border-right-color: var(--fill-color);\n",
              "    }\n",
              "    80% {\n",
              "      border-color: transparent;\n",
              "      border-right-color: var(--fill-color);\n",
              "      border-bottom-color: var(--fill-color);\n",
              "    }\n",
              "    90% {\n",
              "      border-color: transparent;\n",
              "      border-bottom-color: var(--fill-color);\n",
              "    }\n",
              "  }\n",
              "</style>\n",
              "\n",
              "      <script>\n",
              "        async function quickchart(key) {\n",
              "          const quickchartButtonEl =\n",
              "            document.querySelector('#' + key + ' button');\n",
              "          quickchartButtonEl.disabled = true;  // To prevent multiple clicks.\n",
              "          quickchartButtonEl.classList.add('colab-df-spinner');\n",
              "          try {\n",
              "            const charts = await google.colab.kernel.invokeFunction(\n",
              "                'suggestCharts', [key], {});\n",
              "          } catch (error) {\n",
              "            console.error('Error during call to suggestCharts:', error);\n",
              "          }\n",
              "          quickchartButtonEl.classList.remove('colab-df-spinner');\n",
              "          quickchartButtonEl.classList.add('colab-df-quickchart-complete');\n",
              "        }\n",
              "        (() => {\n",
              "          let quickchartButtonEl =\n",
              "            document.querySelector('#df-adb501b5-bdda-41d0-ba18-9eac36c63675 button');\n",
              "          quickchartButtonEl.style.display =\n",
              "            google.colab.kernel.accessAllowed ? 'block' : 'none';\n",
              "        })();\n",
              "      </script>\n",
              "    </div>\n",
              "\n",
              "    </div>\n",
              "  </div>\n"
            ],
            "application/vnd.google.colaboratory.intrinsic+json": {
              "type": "dataframe",
              "summary": "{\n  \"name\": \"df\",\n  \"rows\": 5,\n  \"fields\": [\n    {\n      \"column\": 0,\n      \"properties\": {\n        \"dtype\": \"string\",\n        \"num_unique_values\": 5,\n        \"samples\": [\n          \"Banana\",\n          \"Watermelon\",\n          \"Pine Apple\"\n        ],\n        \"semantic_type\": \"\",\n        \"description\": \"\"\n      }\n    }\n  ]\n}"
            }
          },
          "metadata": {},
          "execution_count": 32
        }
      ]
    },
    {
      "cell_type": "code",
      "source": [
        "import pandas as pd\n",
        "data = {'Name': ['Tom', 'nick', 'krish', 'jack'], 'Age': [20, 21, 19, 18]}\n",
        "df = pd.DataFrame(data)\n",
        "print(df)\n",
        "df.head()\n"
      ],
      "metadata": {
        "colab": {
          "base_uri": "https://localhost:8080/",
          "height": 919
        },
        "id": "1XwqnP6PhgNv",
        "outputId": "be151044-8287-4172-847e-24625ff42026"
      },
      "execution_count": null,
      "outputs": [
        {
          "output_type": "stream",
          "name": "stdout",
          "text": [
            "    Name  Age\n",
            "0    Tom   20\n",
            "1   nick   21\n",
            "2  krish   19\n",
            "3   jack   18\n"
          ]
        },
        {
          "output_type": "execute_result",
          "data": {
            "text/plain": [
              "    Name  Age\n",
              "0    Tom   20\n",
              "1   nick   21\n",
              "2  krish   19\n",
              "3   jack   18"
            ],
            "text/html": [
              "\n",
              "  <div id=\"df-0a92f88f-c383-4b5d-ad41-0168539312da\" class=\"colab-df-container\">\n",
              "    <div>\n",
              "<style scoped>\n",
              "    .dataframe tbody tr th:only-of-type {\n",
              "        vertical-align: middle;\n",
              "    }\n",
              "\n",
              "    .dataframe tbody tr th {\n",
              "        vertical-align: top;\n",
              "    }\n",
              "\n",
              "    .dataframe thead th {\n",
              "        text-align: right;\n",
              "    }\n",
              "</style>\n",
              "<table border=\"1\" class=\"dataframe\">\n",
              "  <thead>\n",
              "    <tr style=\"text-align: right;\">\n",
              "      <th></th>\n",
              "      <th>Name</th>\n",
              "      <th>Age</th>\n",
              "    </tr>\n",
              "  </thead>\n",
              "  <tbody>\n",
              "    <tr>\n",
              "      <th>0</th>\n",
              "      <td>Tom</td>\n",
              "      <td>20</td>\n",
              "    </tr>\n",
              "    <tr>\n",
              "      <th>1</th>\n",
              "      <td>nick</td>\n",
              "      <td>21</td>\n",
              "    </tr>\n",
              "    <tr>\n",
              "      <th>2</th>\n",
              "      <td>krish</td>\n",
              "      <td>19</td>\n",
              "    </tr>\n",
              "    <tr>\n",
              "      <th>3</th>\n",
              "      <td>jack</td>\n",
              "      <td>18</td>\n",
              "    </tr>\n",
              "  </tbody>\n",
              "</table>\n",
              "</div>\n",
              "    <div class=\"colab-df-buttons\">\n",
              "\n",
              "  <div class=\"colab-df-container\">\n",
              "    <button class=\"colab-df-convert\" onclick=\"convertToInteractive('df-0a92f88f-c383-4b5d-ad41-0168539312da')\"\n",
              "            title=\"Convert this dataframe to an interactive table.\"\n",
              "            style=\"display:none;\">\n",
              "\n",
              "  <svg xmlns=\"http://www.w3.org/2000/svg\" height=\"24px\" viewBox=\"0 -960 960 960\">\n",
              "    <path d=\"M120-120v-720h720v720H120Zm60-500h600v-160H180v160Zm220 220h160v-160H400v160Zm0 220h160v-160H400v160ZM180-400h160v-160H180v160Zm440 0h160v-160H620v160ZM180-180h160v-160H180v160Zm440 0h160v-160H620v160Z\"/>\n",
              "  </svg>\n",
              "    </button>\n",
              "\n",
              "  <style>\n",
              "    .colab-df-container {\n",
              "      display:flex;\n",
              "      gap: 12px;\n",
              "    }\n",
              "\n",
              "    .colab-df-convert {\n",
              "      background-color: #E8F0FE;\n",
              "      border: none;\n",
              "      border-radius: 50%;\n",
              "      cursor: pointer;\n",
              "      display: none;\n",
              "      fill: #1967D2;\n",
              "      height: 32px;\n",
              "      padding: 0 0 0 0;\n",
              "      width: 32px;\n",
              "    }\n",
              "\n",
              "    .colab-df-convert:hover {\n",
              "      background-color: #E2EBFA;\n",
              "      box-shadow: 0px 1px 2px rgba(60, 64, 67, 0.3), 0px 1px 3px 1px rgba(60, 64, 67, 0.15);\n",
              "      fill: #174EA6;\n",
              "    }\n",
              "\n",
              "    .colab-df-buttons div {\n",
              "      margin-bottom: 4px;\n",
              "    }\n",
              "\n",
              "    [theme=dark] .colab-df-convert {\n",
              "      background-color: #3B4455;\n",
              "      fill: #D2E3FC;\n",
              "    }\n",
              "\n",
              "    [theme=dark] .colab-df-convert:hover {\n",
              "      background-color: #434B5C;\n",
              "      box-shadow: 0px 1px 3px 1px rgba(0, 0, 0, 0.15);\n",
              "      filter: drop-shadow(0px 1px 2px rgba(0, 0, 0, 0.3));\n",
              "      fill: #FFFFFF;\n",
              "    }\n",
              "  </style>\n",
              "\n",
              "    <script>\n",
              "      const buttonEl =\n",
              "        document.querySelector('#df-0a92f88f-c383-4b5d-ad41-0168539312da button.colab-df-convert');\n",
              "      buttonEl.style.display =\n",
              "        google.colab.kernel.accessAllowed ? 'block' : 'none';\n",
              "\n",
              "      async function convertToInteractive(key) {\n",
              "        const element = document.querySelector('#df-0a92f88f-c383-4b5d-ad41-0168539312da');\n",
              "        const dataTable =\n",
              "          await google.colab.kernel.invokeFunction('convertToInteractive',\n",
              "                                                    [key], {});\n",
              "        if (!dataTable) return;\n",
              "\n",
              "        const docLinkHtml = 'Like what you see? Visit the ' +\n",
              "          '<a target=\"_blank\" href=https://colab.research.google.com/notebooks/data_table.ipynb>data table notebook</a>'\n",
              "          + ' to learn more about interactive tables.';\n",
              "        element.innerHTML = '';\n",
              "        dataTable['output_type'] = 'display_data';\n",
              "        await google.colab.output.renderOutput(dataTable, element);\n",
              "        const docLink = document.createElement('div');\n",
              "        docLink.innerHTML = docLinkHtml;\n",
              "        element.appendChild(docLink);\n",
              "      }\n",
              "    </script>\n",
              "  </div>\n",
              "\n",
              "\n",
              "    <div id=\"df-ff125916-6b81-4fc7-a356-b7c8ed4d3867\">\n",
              "      <button class=\"colab-df-quickchart\" onclick=\"quickchart('df-ff125916-6b81-4fc7-a356-b7c8ed4d3867')\"\n",
              "                title=\"Suggest charts\"\n",
              "                style=\"display:none;\">\n",
              "\n",
              "<svg xmlns=\"http://www.w3.org/2000/svg\" height=\"24px\"viewBox=\"0 0 24 24\"\n",
              "     width=\"24px\">\n",
              "    <g>\n",
              "        <path d=\"M19 3H5c-1.1 0-2 .9-2 2v14c0 1.1.9 2 2 2h14c1.1 0 2-.9 2-2V5c0-1.1-.9-2-2-2zM9 17H7v-7h2v7zm4 0h-2V7h2v10zm4 0h-2v-4h2v4z\"/>\n",
              "    </g>\n",
              "</svg>\n",
              "      </button>\n",
              "\n",
              "<style>\n",
              "  .colab-df-quickchart {\n",
              "      --bg-color: #E8F0FE;\n",
              "      --fill-color: #1967D2;\n",
              "      --hover-bg-color: #E2EBFA;\n",
              "      --hover-fill-color: #174EA6;\n",
              "      --disabled-fill-color: #AAA;\n",
              "      --disabled-bg-color: #DDD;\n",
              "  }\n",
              "\n",
              "  [theme=dark] .colab-df-quickchart {\n",
              "      --bg-color: #3B4455;\n",
              "      --fill-color: #D2E3FC;\n",
              "      --hover-bg-color: #434B5C;\n",
              "      --hover-fill-color: #FFFFFF;\n",
              "      --disabled-bg-color: #3B4455;\n",
              "      --disabled-fill-color: #666;\n",
              "  }\n",
              "\n",
              "  .colab-df-quickchart {\n",
              "    background-color: var(--bg-color);\n",
              "    border: none;\n",
              "    border-radius: 50%;\n",
              "    cursor: pointer;\n",
              "    display: none;\n",
              "    fill: var(--fill-color);\n",
              "    height: 32px;\n",
              "    padding: 0;\n",
              "    width: 32px;\n",
              "  }\n",
              "\n",
              "  .colab-df-quickchart:hover {\n",
              "    background-color: var(--hover-bg-color);\n",
              "    box-shadow: 0 1px 2px rgba(60, 64, 67, 0.3), 0 1px 3px 1px rgba(60, 64, 67, 0.15);\n",
              "    fill: var(--button-hover-fill-color);\n",
              "  }\n",
              "\n",
              "  .colab-df-quickchart-complete:disabled,\n",
              "  .colab-df-quickchart-complete:disabled:hover {\n",
              "    background-color: var(--disabled-bg-color);\n",
              "    fill: var(--disabled-fill-color);\n",
              "    box-shadow: none;\n",
              "  }\n",
              "\n",
              "  .colab-df-spinner {\n",
              "    border: 2px solid var(--fill-color);\n",
              "    border-color: transparent;\n",
              "    border-bottom-color: var(--fill-color);\n",
              "    animation:\n",
              "      spin 1s steps(1) infinite;\n",
              "  }\n",
              "\n",
              "  @keyframes spin {\n",
              "    0% {\n",
              "      border-color: transparent;\n",
              "      border-bottom-color: var(--fill-color);\n",
              "      border-left-color: var(--fill-color);\n",
              "    }\n",
              "    20% {\n",
              "      border-color: transparent;\n",
              "      border-left-color: var(--fill-color);\n",
              "      border-top-color: var(--fill-color);\n",
              "    }\n",
              "    30% {\n",
              "      border-color: transparent;\n",
              "      border-left-color: var(--fill-color);\n",
              "      border-top-color: var(--fill-color);\n",
              "      border-right-color: var(--fill-color);\n",
              "    }\n",
              "    40% {\n",
              "      border-color: transparent;\n",
              "      border-right-color: var(--fill-color);\n",
              "      border-top-color: var(--fill-color);\n",
              "    }\n",
              "    60% {\n",
              "      border-color: transparent;\n",
              "      border-right-color: var(--fill-color);\n",
              "    }\n",
              "    80% {\n",
              "      border-color: transparent;\n",
              "      border-right-color: var(--fill-color);\n",
              "      border-bottom-color: var(--fill-color);\n",
              "    }\n",
              "    90% {\n",
              "      border-color: transparent;\n",
              "      border-bottom-color: var(--fill-color);\n",
              "    }\n",
              "  }\n",
              "</style>\n",
              "\n",
              "      <script>\n",
              "        async function quickchart(key) {\n",
              "          const quickchartButtonEl =\n",
              "            document.querySelector('#' + key + ' button');\n",
              "          quickchartButtonEl.disabled = true;  // To prevent multiple clicks.\n",
              "          quickchartButtonEl.classList.add('colab-df-spinner');\n",
              "          try {\n",
              "            const charts = await google.colab.kernel.invokeFunction(\n",
              "                'suggestCharts', [key], {});\n",
              "          } catch (error) {\n",
              "            console.error('Error during call to suggestCharts:', error);\n",
              "          }\n",
              "          quickchartButtonEl.classList.remove('colab-df-spinner');\n",
              "          quickchartButtonEl.classList.add('colab-df-quickchart-complete');\n",
              "        }\n",
              "        (() => {\n",
              "          let quickchartButtonEl =\n",
              "            document.querySelector('#df-ff125916-6b81-4fc7-a356-b7c8ed4d3867 button');\n",
              "          quickchartButtonEl.style.display =\n",
              "            google.colab.kernel.accessAllowed ? 'block' : 'none';\n",
              "        })();\n",
              "      </script>\n",
              "    </div>\n",
              "\n",
              "    </div>\n",
              "  </div>\n"
            ],
            "application/vnd.google.colaboratory.intrinsic+json": {
              "type": "dataframe",
              "variable_name": "df",
              "summary": "{\n  \"name\": \"df\",\n  \"rows\": 4,\n  \"fields\": [\n    {\n      \"column\": \"Name\",\n      \"properties\": {\n        \"dtype\": \"string\",\n        \"num_unique_values\": 4,\n        \"samples\": [\n          \"nick\",\n          \"jack\",\n          \"Tom\"\n        ],\n        \"semantic_type\": \"\",\n        \"description\": \"\"\n      }\n    },\n    {\n      \"column\": \"Age\",\n      \"properties\": {\n        \"dtype\": \"number\",\n        \"std\": 1,\n        \"min\": 18,\n        \"max\": 21,\n        \"num_unique_values\": 4,\n        \"samples\": [\n          21,\n          18,\n          20\n        ],\n        \"semantic_type\": \"\",\n        \"description\": \"\"\n      }\n    }\n  ]\n}"
            }
          },
          "metadata": {},
          "execution_count": 37
        },
        {
          "output_type": "display_data",
          "data": {
            "text/plain": [
              "<google.colab._quickchart_helpers.SectionTitle at 0x7bc2e7563810>"
            ],
            "text/html": [
              "<h4 class=\"colab-quickchart-section-title\">Distributions</h4>\n",
              "<style>\n",
              "  .colab-quickchart-section-title {\n",
              "      clear: both;\n",
              "  }\n",
              "</style>"
            ]
          },
          "metadata": {}
        },
        {
          "output_type": "display_data",
          "data": {
            "text/plain": [
              "from matplotlib import pyplot as plt\n",
              "_df_9['Age'].plot(kind='hist', bins=20, title='Age')\n",
              "plt.gca().spines[['top', 'right',]].set_visible(False)"
            ],
            "text/html": [
              "      <div class=\"colab-quickchart-chart-with-code\" id=\"chart-e60874d7-1f3f-48d3-8c3c-3ddaf670c9be\">\n",
              "        <img style=\"width: 180px;\" src=\"data:image/png;base64,iVBORw0KGgoAAAANSUhEUgAAAioAAAGrCAYAAADuNLxTAAAAOnRFWHRTb2Z0d2FyZQBNYXRwbG90\n",
              "bGliIHZlcnNpb24zLjEwLjAsIGh0dHBzOi8vbWF0cGxvdGxpYi5vcmcvlHJYcgAAAAlwSFlzAAAP\n",
              "YQAAD2EBqD+naQAAIDVJREFUeJzt3XtwlNXh//HPksh6qUkgkiZN2DCQi1wKMZgMRqoCdUS/Cgq2\n",
              "Y22s0ebipUWHtiJSR0Fr6Ey1UjuRIAxK4x1QM3hFoYiIkiBgDGoIEjZiIIrAUpFAlvP7g3F/bmMo\n",
              "G/bJnrDv18zOsJuzT86eOeJ7dh/2cRljjAAAACzUK9ITAAAA6AyhAgAArEWoAAAAaxEqAADAWoQK\n",
              "AACwFqECAACsRagAAABrESoAAMBahAoAALAWoQIAAKxFqACIiIULF8rlcunOO++M9FQAWMzFtX4A\n",
              "REJeXp62bdumXr16qbm5WW63O9JTAmAh3lEB0O1qampUW1urqqoq7du3T88//3zgZ/v371dRUZES\n",
              "ExOVlpamOXPmKC0tTY8//nhgzCeffKLLL79cP/7xj5WamqpbbrlF33zzTQReCQCnESoAul1FRYVy\n",
              "cnI0fvx4XXXVVaqoqAj87LbbbtPmzZtVV1enhoYG1dXVadeuXYGff/XVV/rZz36mcePGyev1atOm\n",
              "TWpoaNDtt98egVcCwGl89AOgW+3Zs0epqal68MEHdfPNN2vFihUaN26cNm7cqGHDhun000/XCy+8\n",
              "oMsuu0yS5PP51KdPHy1YsEBFRUV66KGH9Pzzz2vt2rWBY65Zs0Zjx47VgQMHFBMTE6mXBsABvKMC\n",
              "oFt9dxLtr3/9a0nSmDFjlJGRoYqKCn311Vc6dOiQ0tPTA+Pj4uLUp0+fwP0tW7Zo/fr1SkhICNwu\n",
              "u+wyuVwu7dy5s9tfDwBnESoAuo0xRnPnztWhQ4eUlZWl5ORkpaSk6PPPP9eTTz6pU089Vb1799b2\n",
              "7dsDz/H5fNqzZ0/gfnJyskaPHq29e/cGbvv27dPBgweVmpoaiZcFwEGECoBus3z5cm3ZskVvvPGG\n",
              "Nm7cGLh9+OGHkqRFixbp2muv1axZs9TS0qIDBw7oT3/6k3r1+v9/Vd1www3asGGDKioqdODAARlj\n",
              "1NzcrBdffDFCrwqAkwgVAN3m0Ucf1c9//nONGTNGycnJgVtmZqaKi4v16KOPas6cOcrKytLQoUOV\n",
              "mZmpIUOGqG/fvjr11FMlSR6PR2vXrtXy5cs1aNAgJSQk6JJLLlFdXV2EXx0AJ3AyLQCr7dmzR4mJ\n",
              "iVqzZo3OO++8SE8HQDfjHRUAVvF6vVq1apX8fr92796tW265RZmZmcrLy4v01ABEAKECwCqHDh3S\n",
              "73//eyUkJCgzM1N79+5VdXW1YmNjIz01ABHARz8AAMBavKMCAACsRagAAABrESoAAMBahAoAALDW\n",
              "SREqc+bMifQUAACAA06KUPn+dUEAAMDJ46QIFQAAcHIiVAAAgLUIFQAAYC1CBQAAWItQAQAA1iJU\n",
              "AACAtQgVAABgLUIFAABYi1ABAADWIlQAAIC1CBUAAGAtQgUAAFjL0VCZMmWKBgwYIJfLpY0bN3Y6\n",
              "bsGCBcrMzNSgQYNUUlKiw4cPOzktAADQQzgaKldffbXeeecdpaendzpm27Ztuvvuu7V69Wo1NjZq\n",
              "165dmjdvnpPTAgAAPYSjoXLBBRcoLS3tmGMWL16sCRMmKDk5WS6XSzfddJOefvrpTse3tbXJ5/MF\n",
              "3fx+f7inDgAALBAb6Ql4vd6gd1wGDBggr9fb6fjy8nLNnDkz6LFRo0Y5MrcBd77syHElqWn2/zl2\n",
              "bHQPp/YHewOd4e8kHMvJ+ndSjzuZdvr06dq3b1/QLT8/P9LTAgAADoj4Oyoej0dbt24N3G9qapLH\n",
              "4+l0vNvtltvtDnosJibGsfkBAIDIifg7KpMnT1Z1dbV27twpY4zmzp2ra665JtLTAgAAFnA0VMrK\n",
              "ypSWlqbPP/9cl1xyiTIyMiRJxcXFqq6uliQNHDhQM2fO1Pnnn6+MjAz169dPZWVlTk4LAAD0EI5+\n",
              "9FNZWfmDj8+fPz/ofklJiUpKSpycCgAA6IEi/tEPAABAZwgVAABgLUIFAABYi1ABAADWIlQAAIC1\n",
              "CBUAAGAtQgUAAFiLUAEAANYiVAAAgLUIFQAAYC1CBQAAWItQAQAA1iJUAACAtQgVAABgLUIFAABY\n",
              "i1ABAADWIlQAAIC1CBUAAGAtQgUAAFiLUAEAANYiVAAAgLUIFQAAYC1CBQAAWItQAQAA1iJUAACA\n",
              "tQgVAABgLUIFAABYi1ABAADWIlQAAIC1CBUAAGAtQgUAAFiLUAEAANYiVAAAgLUIFQAAYC1CBQAA\n",
              "WItQAQAA1iJUAACAtQgVAABgLUIFAABYi1ABAADWIlQAAIC1CBUAAGAtQgUAAFiLUAEAANYiVAAA\n",
              "gLUIFQAAYC1CBQAAWItQAQAA1iJUAACAtQgVAABgLUIFAABYi1ABAADWIlQAAIC1CBUAAGAtQgUA\n",
              "AFiLUAEAANYiVAAAgLUIFQAAYC1CBQAAWItQAQAA1iJUAACAtRwNlS1btqigoEBZWVnKy8tTfX19\n",
              "hzFHjhzR1KlTNWTIEA0fPlxjxoxRY2Ojk9MCAAA9hKOhUlZWptLSUjU0NGjatGkqKirqMKa6ulpr\n",
              "1qzRpk2b9OGHH2rcuHG66667nJwWAADoIRwLldbWVtXW1qqwsFCSNHnyZDU3N3d4t8TlcqmtrU0H\n",
              "Dx6UMUY+n09paWlOTQsAAPQgsU4duLm5WSkpKYqNPforXC6XPB6PvF6vMjIyAuOuuOIKrVy5UsnJ\n",
              "yTrzzDOVmpqqVatWdXrctrY2tbW1BT3m9/udeREAACCiIn4ybW1trT766CPt2LFDX3zxhcaNG6eb\n",
              "brqp0/Hl5eWKj48Puq1bt64bZwwAALqLY6HSv39/tbS0qL29XZJkjJHX65XH4wkat2jRIo0dO1YJ\n",
              "CQnq1auXrr/+eq1cubLT406fPl379u0LuuXn5zv1MgAAQAQ5FipJSUnKzc1VVVWVJGnJkiVKS0sL\n",
              "+thHkgYOHKgVK1bo0KFDkqRly5Zp2LBhnR7X7XYrLi4u6BYTE+PUywAAABHk2DkqklRZWamioiI9\n",
              "8MADiouL08KFCyVJxcXFmjBhgiZMmKBbb71VH3/8sUaMGKFTTjlFycnJmjt3rpPTAgAAPYSjoZKd\n",
              "na21a9d2eHz+/PmBP7vdbj322GNOTgMAAPRQET+ZFgAAoDOECgAAsBahAgAArEWoAAAAaxEqAADA\n",
              "WoQKAACwFqECAACsRagAAABrESoAAMBahAoAALAWoQIAAKxFqAAAAGsRKgAAwFqECgAAsBahAgAA\n",
              "rEWoAAAAaxEqAADAWoQKAACwFqECAACsRagAAABrESoAAMBahAoAALAWoQIAAKxFqAAAAGsRKgAA\n",
              "wFqECgAAsBahAgAArEWoAAAAaxEqAADAWoQKAACwFqECAACsRagAAABrESoAAMBahAoAALAWoQIA\n",
              "AKxFqAAAAGsRKgAAwFqECgAAsBahAgAArEWoAAAAaxEqAADAWoQKAACwFqECAACsRagAAABrESoA\n",
              "AMBahAoAALAWoQIAAKxFqAAAAGsRKgAAwFqECgAAsBahAgAArEWoAAAAaxEqAADAWoQKAACwFqEC\n",
              "AACsRagAAABrESoAAMBahAoAALAWoQIAAKxFqAAAAGsRKgAAwFqECgAAsJajobJlyxYVFBQoKytL\n",
              "eXl5qq+v/8FxdXV1uuiiizR48GANHjxYS5cudXJaAACgh4h18uBlZWUqLS1VUVGRFi9erKKiItXU\n",
              "1ASNOXDggCZOnKhFixZp9OjR8vv9+vrrr52cFgAA6CEce0eltbVVtbW1KiwslCRNnjxZzc3Namxs\n",
              "DBr31FNPadSoURo9erQkKSYmRv369ev0uG1tbfL5fEE3v9/v1MsAAAAR5FioNDc3KyUlRbGxR9+0\n",
              "cblc8ng88nq9QeM2b94st9utyy+/XDk5OfrNb36jL7/8stPjlpeXKz4+Pui2bt06p14GAACIoJBD\n",
              "5fXXXw/rBNrb2/Xmm2+qsrJSGzZsUGpqqm6++eZOx0+fPl379u0LuuXn54d1TgAAwA4hh8qsWbOU\n",
              "nZ2tOXPmyOfzdTquf//+amlpUXt7uyTJGCOv1yuPxxM0zuPxaMyYMUpNTZXL5VJhYaHee++9To/r\n",
              "drsVFxcXdIuJiQn1ZQAAgB4g5FBZs2aNnnnmGX300UfKysrSLbfcos2bN3cYl5SUpNzcXFVVVUmS\n",
              "lixZorS0NGVkZASN++Uvf6mamppA9LzyyisaMWJEV14LAAA4yXTpHJVzzjlHjz32mF577TUtW7ZM\n",
              "w4cP18UXX6y6urqgcZWVlaqsrFRWVpZmz56thQsXSpKKi4tVXV0t6eg7KnfddZcKCgo0fPhwrVix\n",
              "QnPnzj3BlwUAAE4GXfrnyW+++aYeeeQR1dXV6dZbb9Vvf/tb/fvf/9ZVV10V9K96srOztXbt2g7P\n",
              "nz9/ftD96667Ttddd11XpgIAAE5iIYfK4MGDddZZZ2nKlCmaNGlS4PyQq6++WgsWLAj7BAEAQPQK\n",
              "OVSqqqo0cuTIH/zZq6++esITAgAA+E7I56isX78+6Jtjd+/ercceeyyskwIAAJC6ECoVFRXq27dv\n",
              "4H5iYqIqKirCOikAAACpC6FijOnwGF9hDwAAnBByqKSkpOi5554L3H/22WeVkpIS1kkBAABIXTiZ\n",
              "9uGHH9bEiRN1xx13SJJOP/10vfTSS2GfGAAAQMihcvbZZ2vz5s369NNPJR39rhS+wh4AADihS1/4\n",
              "5nK5lJCQoPb2du3YsUOSOlzDBwAA4ESFHCqPP/64pkyZolNOOUW9eh09xcXlcqm1tTXskwMAANEt\n",
              "5FC57777VFNTo+zsbCfmAwAAEBDyv/o566yziBQAANAtQg6VK6+8Ug8//LBaW1vl8/kCNwAAgHAL\n",
              "+aOfGTNmSJKmTp0ql8slY4xcLhdf+gYAAMIu5FA5cuSIE/MAAADoIOSPfqSjFyb817/+JUnau3ev\n",
              "WlpawjopAAAAqYsXJbzxxht17733Sjp69eRrr7023PMCAAAIPVTmzZun9957T3FxcZKkQYMG6csv\n",
              "vwz7xAAAAEIOFbfbrdNOOy3osdjYLn3BLQAAwDGFHCr9+vVTQ0ODXC6XpKPfVMvX5wMAACd06erJ\n",
              "v/rVr/TJJ5+of//+iouL07Jly5yYGwAAiHIhh0pGRobef/99ffrppzLGcPVkAADgmJBDxev1SpLO\n",
              "OOMMSeLqyQAAwDEhh8rIkSMD30h78OBBHThwQImJiVw9GQAAhF3IofLf/xR56dKl2rRpU9gmBAAA\n",
              "8J0ufTPt902aNEkvv/xyOOYCAAAQJOR3VL5/pWS/36/333+fqycDAABHhBwqCQkJgXNUYmJilJmZ\n",
              "qX/84x9OzA0AAEQ5rp4MAACsdcLnqAAAADgl5HdUevXqFfj6/O8zxsjlcsnv94dlYgAAACGHyqxZ\n",
              "s/Ttt9/q5ptvliTNnTtXp512mm6//fZwzw0AAES5kEPlhRde0Pr16wP377//fo0cOVIzZswI68QA\n",
              "AABCPkdl//79Qd9C29raqv3794d1UgAAAFIX3lH5wx/+oBEjRuiyyy6TJL322mu69957wz0vAACA\n",
              "0EOlrKxM559/vlauXClJmjp1qoYOHRr2iQEAAIQcKpKUmJion/70p7rooovU3t6uQ4cOqXfv3uGe\n",
              "GwAAiHIhn6OyePFijRo1SjfccIMkqb6+XldeeWW45wUAABB6qJSXl+uDDz5QQkKCJGnEiBHavn17\n",
              "uOcFAAAQeqjExMQoMTEx6DE+9gEAAE4IOVTOPPNM7dq1K/DttG+99Zb69u0b9okBAACEfDLtX//6\n",
              "V1166aX67LPPNHr0aG3btk0vv/yyE3MDAABRLqRQOXLkiPx+v1auXKl3331XxhgVFBQEzlcBAAAI\n",
              "p5BCpVevXiotLdWmTZt06aWXOjUnAAAASV04RyUzM1ONjY1OzAUAACBIyOeofP3118rJyVFBQYF+\n",
              "9KMfBR5funRpWCcGAABw3KFSWlqqefPm6frrr9eECRPUp08fJ+cFAABw/KFSW1srSbr++uuVm5ur\n",
              "Dz74wLFJAQAASF04R0WSjDHhngcAAEAHx/2Oyrfffqu6ujoZY3Tw4MHAn78zfPhwRyYIAACiV0ih\n",
              "MmHChMD97//Z5XLps88+C+/MAABA1DvuUGlqanJwGgAAAB116RwVAACA7kCoAAAAaxEqAADAWoQK\n",
              "AACwFqECAACsRagAAABrESoAAMBahAoAALAWoQIAAKzlaKhs2bJFBQUFysrKUl5enurr6zsda4zR\n",
              "2LFjlZCQ4OSUAABAD+JoqJSVlam0tFQNDQ2aNm2aioqKOh3797//XYMGDXJyOgAAoIdxLFRaW1tV\n",
              "W1urwsJCSdLkyZPV3NysxsbGDmPr6+v14osv6s477/yfx21ra5PP5wu6+f3+sM8fAABEnmOh0tzc\n",
              "rJSUFMXGHr3uocvlksfjkdfrDRp3+PBhlZSUqLKyUjExMf/zuOXl5YqPjw+6rVu3zpHXAAAAIivi\n",
              "J9POnDlTkyZN0uDBg49r/PTp07Vv376gW35+vsOzBAAAkRDr1IH79++vlpYWtbe3KzY2VsYYeb1e\n",
              "eTyeoHGrVq2S1+vVP//5T7W3t8vn82nAgAGqqalRv379OhzX7XbL7XYHPXY878QAAICex7F3VJKS\n",
              "kpSbm6uqqipJ0pIlS5SWlqaMjIygcatXr9b27dvV1NSkd955R3FxcWpqavrBSAEAANHF0Y9+Kisr\n",
              "VVlZqaysLM2ePVsLFy6UJBUXF6u6utrJXw0AAE4Cjn30I0nZ2dlau3Zth8fnz5//g+MHDBigvXv3\n",
              "OjklAADQg0T8ZFoAAIDOECoAAMBahAoAALAWoQIAAKxFqAAAAGsRKgAAwFqECgAAsBahAgAArEWo\n",
              "AAAAaxEqAADAWoQKAACwFqECAACsRagAAABrESoAAMBahAoAALAWoQIAAKxFqAAAAGsRKgAAwFqE\n",
              "CgAAsBahAgAArEWoAAAAaxEqAADAWoQKAACwFqECAACsRagAAABrESoAAMBahAoAALAWoQIAAKxF\n",
              "qAAAAGsRKgAAwFqECgAAsBahAgAArEWoAAAAaxEqAADAWoQKAACwFqECAACsRagAAABrESoAAMBa\n",
              "hAoAALAWoQIAAKxFqAAAAGsRKgAAwFqECgAAsBahAgAArEWoAAAAaxEqAADAWoQKAACwFqECAACs\n",
              "RagAAABrESoAAMBahAoAALAWoQIAAKxFqAAAAGsRKgAAwFqECgAAsBahAgAArEWoAAAAaxEqAADA\n",
              "WoQKAACwFqECAACsRagAAABrESoAAMBajobKli1bVFBQoKysLOXl5am+vr7DmBUrVig/P19DhgzR\n",
              "0KFDdccdd+jIkSNOTgsAAPQQjoZKWVmZSktL1dDQoGnTpqmoqKjDmD59+uiZZ57R5s2btX79er37\n",
              "7rtatGiRk9MCAAA9hGOh0traqtraWhUWFkqSJk+erObmZjU2NgaNO+ecczRw4EBJ0qmnnqqcnBw1\n",
              "NTV1ety2tjb5fL6gm9/vd+plAACACHIsVJqbm5WSkqLY2FhJksvlksfjkdfr7fQ5O3fu1OLFi3X5\n",
              "5Zd3Oqa8vFzx8fFBt3Xr1oV9/gAAIPKsOZnW5/Ppiiuu0B133KFzzz2303HTp0/Xvn37gm75+fnd\n",
              "OFMAANBdYp06cP/+/dXS0qL29nbFxsbKGCOv1yuPx9Nh7P79+zV+/HhNnDhRU6dOPeZx3W633G53\n",
              "0GMxMTFhnTsAALCDY++oJCUlKTc3V1VVVZKkJUuWKC0tTRkZGUHj/vOf/2j8+PEaP368/vznPzs1\n",
              "HQAA0AM5+tFPZWWlKisrlZWVpdmzZ2vhwoWSpOLiYlVXV0uS5syZo3Xr1mnp0qXKyclRTk6O/vKX\n",
              "vzg5LQAA0EM49tGPJGVnZ2vt2rUdHp8/f37gzzNmzNCMGTOcnAYAAOihrDmZFgAA4L8RKgAAwFqE\n",
              "CgAAsBahAgAArEWoAAAAaxEqAADAWoQKAACwFqECAACsRagAAABrESoAAMBahAoAALAWoQIAAKxF\n",
              "qAAAAGsRKgAAwFqECgAAsBahAgAArEWoAAAAaxEqAADAWoQKAACwFqECAACsRagAAABrESoAAMBa\n",
              "hAoAALAWoQIAAKxFqAAAAGsRKgAAwFqECgAAsBahAgAArEWoAAAAaxEqAADAWoQKAACwFqECAACs\n",
              "RagAAABrESoAAMBahAoAALAWoQIAAKxFqAAAAGsRKgAAwFqECgAAsBahAgAArEWoAAAAaxEqAADA\n",
              "WoQKAACwFqECAACsRagAAABrESoAAMBahAoAALAWoQIAAKxFqAAAAGsRKgAAwFqECgAAsBahAgAA\n",
              "rEWoAAAAaxEqAADAWoQKAACwFqECAACsRagAAABrESoAAMBahAoAALAWoQIAAKxFqAAAAGs5Gipb\n",
              "tmxRQUGBsrKylJeXp/r6+h8ct2DBAmVmZmrQoEEqKSnR4cOHnZwWAADoIRwNlbKyMpWWlqqhoUHT\n",
              "pk1TUVFRhzHbtm3T3XffrdWrV6uxsVG7du3SvHnznJwWAADoIRwLldbWVtXW1qqwsFCSNHnyZDU3\n",
              "N6uxsTFo3OLFizVhwgQlJyfL5XLppptu0tNPP93pcdva2uTz+YJufr/fqZcBAAAiKNapAzc3Nysl\n",
              "JUWxsUd/hcvlksfjkdfrVUZGRmCc1+tVenp64P6AAQPk9Xo7PW55eblmzpwZ9NjZZ5+tqVOnhnX+\n",
              "fr9fKevWKT8/XzExMWE9tiRNnfpW2I8ZSX6/X+scXC8bTeri8/7XWp1se+NEROO+OpZj7bkTXato\n",
              "2ncn677q6t9Jx+L3+3Xeefc7tlbp6em67bbbjjnGsVBxyvTp0ztEidvtltvtDuvv8fl8io+P1+uv\n",
              "v664uLiwHvtkxHodP9bq+LFWx4+1On6s1fGzYa0cC5X+/furpaVF7e3tio2NlTFGXq9XHo8naJzH\n",
              "49HWrVsD95uamjqM+T4nogQAANjJsXNUkpKSlJubq6qqKknSkiVLlJaWFvSxj3T03JXq6mrt3LlT\n",
              "xhjNnTtX11xzjVPTAgAAPYij/+qnsrJSlZWVysrK0uzZs7Vw4UJJUnFxsaqrqyVJAwcO1MyZM3X+\n",
              "+ecrIyND/fr1U1lZmZPTAgAAPYSj56hkZ2dr7dq1HR6fP39+0P2SkhKVlJQ4OZWQud1u3XPPPXzM\n",
              "dJxYr+PHWh0/1ur4sVbHj7U6fjaslcsYYyL22wEAAI6Br9AHAADWIlQAAIC1CBUAAGAtQgUAAFgr\n",
              "6kJlypQpGjBggFwulzZu3Bh4/JVXXlFubq5ycnI0bNgwPfHEE50eY9myZTr77LOVmZmpSZMmyefz\n",
              "dcPMu9+JrlVTU5NiYmKUk5MTuH3/y/1ONp2t12uvvaZzzz1Xw4cP16hRo7Rp06ZOjxHte+t41yqa\n",
              "9tbBgwd15ZVXKisrSyNGjNDFF18cuGZaa2urxo8fr8zMTA0bNkxvv/12p8eJhr0VjrWKlr11rLV6\n",
              "4IEHlJ2drV69eunFF1885nG6ZV+ZKLNq1SrT3Nxs0tPTzYYNG4wxxhw5csT06dPHbNq0yRhjzLZt\n",
              "24zb7TY+n6/D8/fv32+SkpLMxx9/bIwx5tZbbzV//OMfu23+3elE12rbtm0mPj6+G2ccWT+0Xl9/\n",
              "/bXp27ev+eijj4wxxrz99ttm6NChP/j8aN9boaxVNO2tb7/91rz88svmyJEjxhhjHnnkEXPhhRca\n",
              "Y4y54YYbzD333GOMMWbdunUmNTXVHDp0qMMxomVvhWOtomVvHWut3n//fbN161Zz4YUXmhdeeKHT\n",
              "Y3TXvoq6UPnOf//Pt2/fvmbVqlXGGGM2bdpkfvKTn5i2trYOz3vuuefMJZdcErhfX19vUlNTu2XO\n",
              "kdLVtYqW/+D/2/fXq6amxmRmZgb9/MwzzzTr16/v8Lxo31uhrFW07i1jjq5Tenq6McaYM844w7S0\n",
              "tAR+lpeXZ5YvX97hOdG4t4zp2lpF6976/lp953+FSnftq6j76OeHuFwuPfvss5o0aZLS09M1evRo\n",
              "PfHEE+rdu3eHsT90tefvrmkUDUJZK0n65ptvlJeXp9zcXM2aNUt+v7+bZxxZmZmZ2r17t959911J\n",
              "UnV1tfbv36+mpqYOY6N9b4WyVlL07q05c+Zo4sSJ2r17tw4fPqzk5OTAzzq7+ny07q2urJUUnXvr\n",
              "u7UKRXftK0JFUnt7u+6//34tXbpU27dv11tvvaXrrrtOX331VaSnZp1Q1iolJUU7duxQTU2N3nzz\n",
              "Ta1evVoPPvhgBGYdOfHx8Vq8eLGmT5+ukSNH6o033tCQIUMUG9vjLlzuuFDWKlr31gMPPKDGxkaV\n",
              "l5dHeirW6+paRePesn1fESqSNm7cqC+++EIXXHCBJCkvL09paWnasGFDh7Eej0fbt28P3G9qalJK\n",
              "SkrU/I8nlLVyu91KSkqSJPXt21c33nijVq9e3a3ztcGYMWO0atUqrV+/Xg8++KC++OILDRkypMO4\n",
              "aN9b0vGvVTTurb/97W9aunSpXn31VZ1++ulKTExUbGysdu7cGRjT2dXno21vnchaRdve+u+1CkV3\n",
              "7StCRVL//v3V0tKijz/+WJLU2NiorVu3Kjs7u8PY8ePH64MPPtAnn3wiSaqoqIiqqz2Hslatra06\n",
              "fPiwJKmtrU1Lly7VOeec063ztUFLS0vgz/fdd5/Gjh3b4SriEntLOv61ira99dBDD+npp5/W8uXL\n",
              "lZCQEHj8F7/4hebOnStJqqmp0Y4dO3ThhRd2eH407a0TXato2ludrdXx6rZ9FfazXixXWlpqUlNT\n",
              "TUxMjElKSjKDBg0yxhjz1FNPmWHDhpnhw4ebYcOGmSeffDLwnLvvvts8+uijgfsvvfSSyc7ONoMG\n",
              "DTITJ040e/fu7fbX0R1OdK2WLFlihg4daoYPH26GDBlifve735mDBw9G5LV0h87Wq7i4OLBfCgsL\n",
              "zZ49ewLPYW91ba2iaW81NzcbSWbgwIFmxIgRZsSIESY/P98YY8zOnTvNxRdfbDIyMsyQIUPMihUr\n",
              "As+Lxr0VjrWKlr11rLW67777TGpqqundu7dJTEw0qampprW11RgTmX3FRQkBAIC1+OgHAABYi1AB\n",
              "AADWIlQAAIC1CBUAAGAtQgUAAFiLUAEAANYiVAAAgLUIFQAAYC1CBQAAWItQAQAA1vp/aJgKUqiD\n",
              "2qsAAAAASUVORK5CYII=\n",
              "\">\n",
              "      </div>\n",
              "      <script type=\"text/javascript\">\n",
              "        (() => {\n",
              "          const chartElement = document.getElementById(\"chart-e60874d7-1f3f-48d3-8c3c-3ddaf670c9be\");\n",
              "          async function getCodeForChartHandler(event) {\n",
              "            const chartCodeResponse =  await google.colab.kernel.invokeFunction(\n",
              "                'getCodeForChart', [\"chart-e60874d7-1f3f-48d3-8c3c-3ddaf670c9be\"], {});\n",
              "            const responseJson = chartCodeResponse.data['application/json'];\n",
              "            await google.colab.notebook.addCell(responseJson.code, 'code');\n",
              "          }\n",
              "          chartElement.onclick = getCodeForChartHandler;\n",
              "        })();\n",
              "      </script>\n",
              "      <style>\n",
              "        .colab-quickchart-chart-with-code  {\n",
              "            display: block;\n",
              "            float: left;\n",
              "            border: 1px solid transparent;\n",
              "        }\n",
              "\n",
              "        .colab-quickchart-chart-with-code:hover {\n",
              "            cursor: pointer;\n",
              "            border: 1px solid #aaa;\n",
              "        }\n",
              "      </style>"
            ]
          },
          "metadata": {}
        },
        {
          "output_type": "display_data",
          "data": {
            "text/plain": [
              "<google.colab._quickchart_helpers.SectionTitle at 0x7bc2e7560150>"
            ],
            "text/html": [
              "<h4 class=\"colab-quickchart-section-title\">Categorical distributions</h4>\n",
              "<style>\n",
              "  .colab-quickchart-section-title {\n",
              "      clear: both;\n",
              "  }\n",
              "</style>"
            ]
          },
          "metadata": {}
        },
        {
          "output_type": "display_data",
          "data": {
            "text/plain": [
              "from matplotlib import pyplot as plt\n",
              "import seaborn as sns\n",
              "_df_10.groupby('Name').size().plot(kind='barh', color=sns.palettes.mpl_palette('Dark2'))\n",
              "plt.gca().spines[['top', 'right',]].set_visible(False)"
            ],
            "text/html": [
              "      <div class=\"colab-quickchart-chart-with-code\" id=\"chart-634dadc5-f61d-4b3a-b35c-002b1a13dd66\">\n",
              "        <img style=\"width: 180px;\" src=\"data:image/png;base64,iVBORw0KGgoAAAANSUhEUgAAAjQAAAGZCAYAAACe4auuAAAAOnRFWHRTb2Z0d2FyZQBNYXRwbG90\n",
              "bGliIHZlcnNpb24zLjEwLjAsIGh0dHBzOi8vbWF0cGxvdGxpYi5vcmcvlHJYcgAAAAlwSFlzAAAP\n",
              "YQAAD2EBqD+naQAAGERJREFUeJzt3XuQ1XX9+PHXYdcWR1s1f4iEwCKicls2YhlDIUFTRsFKyYHE\n",
              "LFO7jpilhuONYqTM62DmpUYD/9BJI8vraDCGjQgapKQgJhe/CsrIZUFlZdnP7w9/7a/9QnWWds9n\n",
              "34fHY+bMcD7nc855nfcwnOd8zudwClmWZQEAkLAueQ8AAPDfEjQAQPIEDQCQPEEDACRP0AAAyRM0\n",
              "AEDyBA0AkDxBAwAkT9AAAMnba4LmlltuyXsEAKCD7DVBs2bNmrxHAAA6yF4TNABA+RI0AEDyBA0A\n",
              "kDxBAwAkT9AAAMkTNABA8gQNAJA8QQMAJE/QAADJEzQAQPIEDQCQPEEDACRP0AAAyRM0AEDyBA0A\n",
              "kDxBAwAkT9AAAMkTNABA8gQNAJA8QQMAJE/QAADJq8x7gFJ579fPx/rHf5b3GABQdg59+ZK8R3CE\n",
              "BgBIn6ABAJInaACA5AkaACB5ggYASJ6gAQCSJ2gAgOQJGgAgeYIGAEieoAEAkidoAIDkCRoAIHmC\n",
              "BgBInqABAJInaACA5AkaACB5ggYASJ6gAQCS12mC5pRTTokVK1b8232++tWvxs0331yagQCAZFTm\n",
              "PcA/PProo3mPAAAkqqRHaAqFQlx77bUxYsSI6Nu3b9x9990tt9XU1MTSpUsjIuLNN9+MiRMnxpAh\n",
              "Q6K2tjauvPLKXR5rwYIFMXDgwHj++edLNT4A0EmV/AhNVVVVLFq0KJYvXx719fVx9tlnR2Vl6zGm\n",
              "TJkSJ510UjzwwAMREbFhw4ZWt99///0xc+bMeOSRR6Jv3767PEdjY2M0Nja22rYza27nVwIAdBYl\n",
              "D5qzzjorIiKOPvroqKysjPXr18dhhx3Wcvu2bdvimWeeiSeeeKJlW7du3Vr+PGfOnKioqIj58+fH\n",
              "QQcdtNvnmDlzZkyfPr3Vtk937d2eLwMA6ERKflJw165dW/5cUVERTU1Nbbp/bW1tbNy4MV566aV/\n",
              "uc+0adNiy5YtrS51+/ba45kBgM6t03zL6R/233//GD16dNxwww0t2/75I6ehQ4fGH/7whzj33HPj\n",
              "8ccf3+1jVFVVRXV1datLRaHTvVQAoJ10ynf5OXPmxPPPPx+DBg2Kurq6uPXWW1vdPmDAgHjiiSdi\n",
              "6tSp8eCDD+Y0JQDQWRSyLMvyHqIUvnHw6JjefULeYwBA2Tn05UvyHqFzHqEBAGgLQQMAJE/QAADJ\n",
              "EzQAQPIEDQCQPEEDACRP0AAAyRM0AEDyBA0AkDxBAwAkT9AAAMkTNABA8gQNAJA8QQMAJE/QAADJ\n",
              "EzQAQPIEDQCQPEEDACSvMu8BSmW/c4bHoTdekvcYAEAHcIQGAEieoAEAkidoAIDkCRoAIHmCBgBI\n",
              "nqABAJInaACA5AkaACB5ggYASJ6gAQCSJ2gAgOQJGgAgeYIGAEieoAEAkidoAIDkCRoAIHmCBgBI\n",
              "nqABAJInaACA5AkaACB5ggYASJ6gAQCSJ2gAgOQJGgAgeYIGAEieoAEAkidoAIDkCRoAIHmCBgBI\n",
              "nqABAJInaACA5AkaACB5ggYASJ6gAQCSJ2gAgOQJGgAgeYIGAEieoAEAkidoAIDkCRoAIHmCBgBI\n",
              "nqABAJInaACA5AkaACB5ggYASF4hy7Is7yFKYfiwL8TYz56X9xgAUHauu2l83iM4QgMApE/QAADJ\n",
              "EzQAQPIEDQCQPEEDACRP0AAAyRM0AEDyBA0AkDxBAwAkT9AAAMkTNABA8gQNAJA8QQMAJE/QAADJ\n",
              "EzQAQPIEDQCQPEEDACRP0AAAyRM0AEDyOixoCoVCbN68uah9TznllFixYkW7PR4AsHepzPPJm5ub\n",
              "IyLi0UcfzXMMACBxHf6RU5Zlcdlll8Vpp50W77//flxzzTVxxhlnxMknnxyDBw+OdevWRU1NTSxd\n",
              "ujQiImbMmBEDBgyIurq6qKurizVr1rQ81m233RYjRoyIvn37xt133/0vn7OxsTEaGhpaXbL/F08A\n",
              "QPnp0CM0jY2NMXny5Dj44INj7ty5UVFRERERzz77bCxZsiS6d+/eav9NmzbF9ddfH+vWrYt99903\n",
              "3n///ejS5f83V1VVVSxatCiWL18e9fX1cfbZZ0dl5a4vYebMmTF9+vRW23ocelQHvEIAoDPo0CM0\n",
              "p556agwaNCh+/vOft8RMxEfnzPzvmImIqK6ujv79+8eUKVPijjvuiI0bN0bXrl1bbj/rrLMiIuLo\n",
              "o4+OysrKWL9+/W6fd9q0abFly5ZWlx7dj2znVwcAdBYdGjRjx46NJ598MhoaGlpt33///Xe7f0VF\n",
              "RSxcuDAuuuiieOedd+KYY46JBQsWtNz+z3FTUVERTU1Nu32cqqqqqK6ubnUpdPGFLgAoVx36Ln/5\n",
              "5ZfH6aefHieeeGK8++67/3H/rVu3xttvvx2jRo2KK6+8Mo477rhYsmRJR44IAJSBDv+W00UXXRT7\n",
              "7bdfjB07Np544ol/u++WLVti4sSJ8d5770WhUIj+/fvHOeec09EjAgCJK2RZluU9RCkMH/aFGPvZ\n",
              "8/IeAwDKznU3jc97BP9TMACQPkEDACRP0AAAyRM0AEDyBA0AkDxBAwAkT9AAAMkTNABA8gQNAJA8\n",
              "QQMAJE/QAADJEzQAQPIEDQCQPEEDACRP0AAAyRM0AEDyBA0AkLzKvAcoldHHHx7X3Tg+7zEAgA7g\n",
              "CA0AkDxBAwAkT9AAAMkTNABA8gQNAJA8QQMAJE/QAADJEzQAQPIEDQCQvD0KmhdeeCHmzJkTERGb\n",
              "Nm2KdevWtetQAABt0eague222+Lcc8+Na665JiIiNm7cGF/+8pfbey4AgKK1OWjuvPPOWLhwYVRX\n",
              "V0dERL9+/WLDhg3tPhgAQLHaHDRVVVWx7777ttpWWbnX/MYlANAJtTlounXrFq+++moUCoWIiLjn\n",
              "nnuid+/e7T4YAECx2nxo5eabb47JkyfH8uXLo1evXlFdXR0PP/xwR8wGAFCUNgfNEUccEc8991ys\n",
              "WLEisiyLo446KioqKjpiNgCAouzRyS/btm2LHTt2RFNTU/z1r3+NiIhhw4a162AAAMVqc9DcdNNN\n",
              "cdVVV0W3bt1ajswUCoV49dVX2304AIBitDloZs2aFStWrIhPfvKTHTEPAECbtflbTj179hQzAECn\n",
              "0uYjNJdffnlceOGFMX78+OjatWvL9tGjR7frYAAAxWpz0Dz77LMxe/bseOaZZ1qdQ7No0aJ2Hw4A\n",
              "oBhtDprZs2fH6tWr48ADD+yAcQAA2q7N59D06dNHzAAAnUqbj9DU19fHmWeeGRMnTmx1Ds1pp53W\n",
              "roMBABSrzUHzwgsvRETEL37xi5ZthUJB0AAAuWlz0MyfP78j5gAA2GN79NMHO3bsiFWrVsX27dtb\n",
              "ttXW1rbbUAAAbdHmoHn44Yfj/PPPj02bNsV+++0XmzZtij59+sSqVas6Yj4AgP+ozd9yuvLKK2Ph\n",
              "woUxYMCAePfdd2P27NkxceLEjpgNAKAobQ6aLl26RJ8+faKpqSkiIqZMmRLz5s1r98EAAIrV5o+c\n",
              "9tlnn4iIOOyww2Lu3LlRU1MTmzZtavfBAACK1eagmTp1amzatClmzJgRkyZNis2bN8ctt9zSEbMB\n",
              "ABSl6KD505/+FBEf/dr2Sy+9FBERv/zlLyPio/+HBgAgL0UHzfe///1dthUKhXjrrbdi3bp1sXPn\n",
              "znYdDACgWEUHzeLFi1td37hxY8yYMSPuvffemD59ersPBgBQrDZ/y2n79u0xc+bMGDhwYEREvPLK\n",
              "K3HFFVe0+2AAAMUqOmiam5vjzjvvjP79+8fy5cvjueeeixtvvDEOPvjgjpwPAOA/Kvojp8GDB0dj\n",
              "Y2Nce+21MXTo0NiyZUu8+OKLLbf76QMAIC9FB837778fhUIhrrrqql1uKxQK8frrr7frYAAAxSo6\n",
              "aFavXt2BYwAA7Lk2nxQMANDZCBoAIHmCBgBInqABAJInaACA5BWyLMvyHqIUvjaoENPq9RsAtLcj\n",
              "78n/9xy9wwMAyRM0AEDyBA0AkDxBAwAkT9AAAMkTNABA8gQNAJA8QQMAJE/QAADJEzQAQPIEDQCQ\n",
              "PEEDACRP0AAAyRM0AEDyBA0AkDxBAwAkT9AAAMkTNABA8koeNHV1dbF169Y9um9NTU0sXbq0fQcC\n",
              "AJJXWeonFCQAQHsr+RGaQqEQmzdvjh/84AdRX18fdXV1MXr06FixYkXLPs8++2wcd9xxMXTo0Kit\n",
              "rY2HHnpol8eZNWtWHHvssbFhw4ZSjg8AdEIlP0LzD5dddllcf/31ERFx3333xdSpU+Pxxx+PjRs3\n",
              "xhe+8IV44IEHYtSoUdHc3BybN29uuV9zc3NcfPHFsWrVqnjqqadi33333eWxGxsbo7GxsdW2nc0d\n",
              "+nIAgBzlFjRPPvlkzJo1K7Zu3RrNzc2xcePGiPjo6MxRRx0Vo0aNioiILl26xCc+8YmW+11wwQXx\n",
              "qU99Kh588MHo0mX3B5hmzpwZ06dPb7Vt6P/poBcCAOQul285NTQ0xHe/+9249957Y9myZXHffffF\n",
              "9u3bi7rvZz/72Xjuuedi/fr1/3KfadOmxZYtW1pdagUNAJStXIJmzZo1sc8++0SPHj0iy7K49dZb\n",
              "W24bOXJkrFy5MhYsWBAR0eroTUTE2WefHVdddVWMHTs2Vq1atdvHr6qqiurq6laXCl9QB4Cylcvb\n",
              "fG1tbUyaNCkGDRoU9fX10bt375bbDjrooJg7d2788Ic/jNra2hg2bFj8+c9/bnX/iRMnxg033BAn\n",
              "nXRSLF++vNTjAwCdTCHLsqxUT/bOO+9Er1694oMPPviX5790lK8NKsS0eodpAKC9HXnPzrxHKN0R\n",
              "msWLF8cxxxwT11xzTcljBgAobyX7llN9fX28/vrrpXo6AGAv4lAJAJA8QQMAJE/QAADJEzQAQPIE\n",
              "DQCQPEEDACRP0AAAyRM0AEDyBA0AkDxBAwAkT9AAAMkTNABA8gQNAJA8QQMAJE/QAADJEzQAQPIq\n",
              "8x6gVA46+Xtx5I035j0GANABHKEBAJInaACA5AkaACB5ggYASJ6gAQCSJ2gAgOQJGgAgeYIGAEie\n",
              "oAEAkidoAIDkCRoAIHmCBgBInqABAJInaACA5AkaACB5ggYASJ6gAQCSJ2gAgOQJGgAgeYIGAEie\n",
              "oAEAkidoAIDkCRoAIHmCBgBInqABAJInaACA5AkaACB5ggYASJ6gAQCSJ2gAgOQJGgAgeYIGAEie\n",
              "oAEAkidoAIDkCRoAIHmCBgBInqABAJInaACA5AkaACB5ggYASJ6gAQCSJ2gAgOQJGgAgeYIGAEie\n",
              "oAEAklfIsizLe4hS2P/k+jhw0gl5jwEAZed/vvaTvEdwhAYASJ+gAQCSJ2gAgOQJGgAgeYIGAEie\n",
              "oAEAkidoAIDkCRoAIHmCBgBInqABAJInaACA5AkaACB5ggYASJ6gAQCSJ2gAgOQJGgAgeYIGAEie\n",
              "oAEAkldZqieqq6uLiIgPP/wwVqxYEUOGDImIiKOOOiruv//+Uo0BAJShkgXN0qVLIyJi9erVUVdX\n",
              "13IdAOC/lftHTnPmzIna2tqora2NU089Nd58882IiLjnnnvixBNPjMmTJ8fAgQNj5MiR8fLLL8cX\n",
              "v/jFGDBgQJx00kmxbdu2nKcHADqDXINm2bJlcckll8Rjjz0WL774YowcOTLOO++8ltsXL14cP/3p\n",
              "T+Pll1+Ofv36xYQJE+L222+PV155JT72sY/Fr3/9690+bmNjYzQ0NLS6xM6sVC8LACixXINm/vz5\n",
              "MW7cuOjZs2dERHz729+OefPmxc6dOyMi4jOf+Uz07t07IiKGDx8e9fX10b1794iIqK+vj5UrV+72\n",
              "cWfOnBkHHHBAq8uHq9aV4BUBAHnI/SOnf1YoFFpd79q1a8ufKyoqdrne1NS028eZNm1abNmypdXl\n",
              "Y317dMzQAEDucg2aMWPGxOOPPx5vvfVWRETcfvvtccIJJ0RFRcV/9bhVVVVRXV3d6hIVhf98RwAg\n",
              "SSX7ltPuDB48OH72s5/FuHHjIiKiV69ecdddd+U5EgCQoEKWZXvF2bL7n1wfB046Ie8xAKDs/M/X\n",
              "fpL3CJ3rHBoAgD0haACA5AkaACB5ggYASJ6gAQCSJ2gAgOQJGgAgeYIGAEieoAEAkidoAIDkCRoA\n",
              "IHmCBgBInqABAJInaACA5AkaACB5ggYASJ6gAQCSJ2gAgORV5j1AqVwwaFTc+LWf5D0GANABHKEB\n",
              "AJInaACA5AkaACB5ggYASJ6gAQCSJ2gAgOQJGgAgeYIGAEieoAEAkidoAIDkCRoAIHmCBgBInqAB\n",
              "AJInaACA5AkaACB5ggYASJ6gAQCSJ2gAgOQJGgAgeYIGAEieoAEAkidoAIDkVeY9QCk0NjbGY489\n",
              "Fjt37oyKioq8x9mr7Ny5MxYtWhQjRoyw9iVk3fNj7fNh3fPT0Wvfp0+fmDp16n/cr5BlWdbuz97J\n",
              "NDQ0xAEHHBBbtmyJ6urqvMfZq1j7fFj3/Fj7fFj3/HSWtfeREwCQPEEDACRP0AAAydsrgqaqqiqu\n",
              "vvrqqKqqynuUvY61z4d1z4+1z4d1z09nWfu94qRgAKC87RVHaACA8iZoAIDkCRoAIHllFTQrV66M\n",
              "kSNHxpFHHhn19fXxt7/9bbf7/epXv4r+/ftHv3794vzzz48dO3aUeNLyU8zaz5s3L0aMGBEDBw6M\n",
              "QYMGxaWXXhrNzc05TFs+iv07HxGRZVmMHTs2DjzwwNINWMaKXfuXXnopjj/++BgwYEAMGDAgfvvb\n",
              "35Z40vJSzLo3NzfHxRdfHAMHDoza2toYM2ZMvPbaazlMWz4uvPDCqKmpiUKhEEuXLv2X++X6/pqV\n",
              "kTFjxmR33313lmVZ9pvf/CYbPnz4Lvu8/vrrWY8ePbJ169Zlzc3N2YQJE7Jbb721xJOWn2LW/i9/\n",
              "+Uv297//PcuyLPvggw+yY489tuU+7Jli1v0fbrjhhuy8887LDjjggNIMV+aKWfv33nsv69u3b7Zg\n",
              "wYIsy7Ksqakpe+edd0o5ZtkpZt3nzp2bjRgxIvvwww+zLMuyH//4x9mXvvSlUo5Zdp5++unsjTfe\n",
              "yPr06ZMtWbJkt/vk/f5aNkHz9ttvZx//+MezHTt2ZFmWZc3NzVn37t2zlStXttrvuuuuy77xjW+0\n",
              "XH/kkUeyY489tqSzlpti1/5/+853vpNdffXVJZiwPLVl3ZctW5aNGjUqe+211wRNOyh27e+6665s\n",
              "8uTJeYxYlopd99/97nfZ0KFDs4aGhqy5uTm75JJLsu9973t5jFx2/l3Q5P3+WjYfOb3xxhvRo0eP\n",
              "qKz86Pc2C4VC9O7dO9auXdtqv7Vr10afPn1artfU1OyyD21T7Nr/s/Xr18cDDzwQ48ePL9WYZafY\n",
              "dd+xY0ecf/75cccdd/jRvnZS7Nq//PLLUVVVFePHj4+6urr4yle+Ehs2bMhj5LJQ7LpPmDAhjj/+\n",
              "+Dj00EOjR48e8cc//jF+9KMf5THyXiXv99eyCRrS0dDQEBMmTIhLL700hg8fnvc4ZW/69Olx+umn\n",
              "x4ABA/IeZa/T1NQUTz31VNxxxx2xZMmS6NmzZ3zrW9/Ke6yy9/zzz8eyZcvizTffjLfeeitOOOGE\n",
              "+OY3v5n3WHSwsgmaXr16xbp166KpqSkiPjoBcu3atdG7d+9W+/Xu3TvWrFnTcn316tW77EPbFLv2\n",
              "ERFbt26NcePGxec///m4+OKLSz1qWSl23Z9++umYNWtW1NTUxHHHHRcNDQ1RU1PjSMF/oS3/3owZ\n",
              "MyZ69uwZhUIhpkyZEgsXLsxj5LJQ7LrPnj275QT4Ll26xDnnnBPz58/PY+S9St7vr2UTNIccckgM\n",
              "GzYs7r333oiIePDBB+Owww6LI444otV+Z5xxRvz+97+P9evXR5Zlcfvtt8ekSZPyGLlsFLv227Zt\n",
              "i3HjxsW4cePiiiuuyGPUslLsui9YsCDWrFkTq1evjmeeeSaqq6tj9erV0a1btzzGLgvFrv2ZZ54Z\n",
              "ixcvjoaGhoiIePTRR2Po0KEln7dcFLvuhx9+eMybNy8+/PDDiIh4+OGHY/DgwSWfd2+T+/tryc7W\n",
              "KYHly5dnxxxzTNa/f//s05/+dPbiiy9mWZZlX//617OHHnqoZb8777wzO/zww7PDDz88O/fcc1vO\n",
              "hGfPFbP2M2bMyCorK7OhQ4e2XGbMmJHn2Mkr9u/8P6xatcpJwe2k2LWfPXt2NmjQoGzIkCHZuHHj\n",
              "srVr1+Y1clkoZt23b9+enXfeednRRx+dDRkyJPvc5z7X8g1L9swFF1yQ9ezZM6uoqMgOOeSQrF+/\n",
              "flmWda73V7/lBAAkr2w+cgIA9l6CBgBInqABAJInaACA5AkaACB5ggYASJ6gAQCSJ2gAgOQJGgAg\n",
              "eYIGAEieoAEAkvd/AWgjnwvmanBQAAAAAElFTkSuQmCC\n",
              "\">\n",
              "      </div>\n",
              "      <script type=\"text/javascript\">\n",
              "        (() => {\n",
              "          const chartElement = document.getElementById(\"chart-634dadc5-f61d-4b3a-b35c-002b1a13dd66\");\n",
              "          async function getCodeForChartHandler(event) {\n",
              "            const chartCodeResponse =  await google.colab.kernel.invokeFunction(\n",
              "                'getCodeForChart', [\"chart-634dadc5-f61d-4b3a-b35c-002b1a13dd66\"], {});\n",
              "            const responseJson = chartCodeResponse.data['application/json'];\n",
              "            await google.colab.notebook.addCell(responseJson.code, 'code');\n",
              "          }\n",
              "          chartElement.onclick = getCodeForChartHandler;\n",
              "        })();\n",
              "      </script>\n",
              "      <style>\n",
              "        .colab-quickchart-chart-with-code  {\n",
              "            display: block;\n",
              "            float: left;\n",
              "            border: 1px solid transparent;\n",
              "        }\n",
              "\n",
              "        .colab-quickchart-chart-with-code:hover {\n",
              "            cursor: pointer;\n",
              "            border: 1px solid #aaa;\n",
              "        }\n",
              "      </style>"
            ]
          },
          "metadata": {}
        },
        {
          "output_type": "display_data",
          "data": {
            "text/plain": [
              "<google.colab._quickchart_helpers.SectionTitle at 0x7bc2e7561d90>"
            ],
            "text/html": [
              "<h4 class=\"colab-quickchart-section-title\">Values</h4>\n",
              "<style>\n",
              "  .colab-quickchart-section-title {\n",
              "      clear: both;\n",
              "  }\n",
              "</style>"
            ]
          },
          "metadata": {}
        },
        {
          "output_type": "display_data",
          "data": {
            "text/plain": [
              "from matplotlib import pyplot as plt\n",
              "_df_11['Age'].plot(kind='line', figsize=(8, 4), title='Age')\n",
              "plt.gca().spines[['top', 'right']].set_visible(False)"
            ],
            "text/html": [
              "      <div class=\"colab-quickchart-chart-with-code\" id=\"chart-8d27d4af-2cef-451d-b591-325c81b38926\">\n",
              "        <img style=\"width: 180px;\" src=\"data:image/png;base64,iVBORw0KGgoAAAANSUhEUgAAAqIAAAFuCAYAAABaw3qhAAAAOnRFWHRTb2Z0d2FyZQBNYXRwbG90\n",
              "bGliIHZlcnNpb24zLjEwLjAsIGh0dHBzOi8vbWF0cGxvdGxpYi5vcmcvlHJYcgAAAAlwSFlzAAAP\n",
              "YQAAD2EBqD+naQAAR4dJREFUeJzt3XlYFYX+x/H3HBBwYVEUBRGQRckVUAjLDbU0WzQrM00zNTMr\n",
              "7VpZ/vpl91Y3b4vea5maS6Zm2mbmtezmviu4oOaSgAKiuCu4Isv8/jhG+tO6IsuwfF7PM88jw8zw\n",
              "PeN5jm/ncM4xTNM0EREREREpYTarBxARERGRikkhKiIiIiKWUIiKiIiIiCUUoiIiIiJiCYWoiIiI\n",
              "iFhCISoiIiIillCIioiIiIglFKIiIiIiYgmFqIiIiIhYQiEqIiIiIpZQiIqIFKMZM2ZgGAavvvqq\n",
              "1aOIiJQ6hj5rXkSk+ERGRnLgwAFsNhsHDx7E2dnZ6pFEREoNXREVESkmcXFxbN68mc8//5yMjAy+\n",
              "/vrr/O+dPXuW/v374+npia+vL+PHj8fX15fPPvssf5u9e/dy3333Ubt2berWrcvQoUM5f/68BbdE\n",
              "RKR4KERFRIrJxIkTCQsLo0uXLjz44INMnDgx/3vDhw9n9+7d7Ny5k3379rFz506OHj2a//0TJ07Q\n",
              "pk0bOnbsSGpqKtu3b2ffvn288MILFtwSEZHioafmRUSKwenTp6lbty5jx47lmWeeYfny5XTs2JH4\n",
              "+HiaNGlClSpV+O677+jatSsAmZmZVK9enenTp9O/f3/GjRvH119/zYYNG/KPuW7dOjp06MCFCxdw\n",
              "cHCw6qaJiBQZXREVESkGv71IqU+fPgDExMQQHBzMxIkTOXHiBJcvX8bf3z9/ezc3N6pXr57/dUJC\n",
              "Alu2bMHDwyN/6dq1K4ZhcOTIkRK/PSIixUEhKiJSxEzTZPLkyVy+fJkGDRpQp04dvL29SUtLY86c\n",
              "Obi4uODk5ERKSkr+PpmZmZw+fTr/6zp16tC6dWvOnDmTv2RkZHDp0iXq1q1rxc0SESlyClERkSK2\n",
              "ZMkSEhIS+Pnnn4mPj89fduzYAcCsWbPo3bs3b775Junp6Vy4cIGXX34Zm+33h+Qnn3ySbdu2MXHi\n",
              "RC5cuIBpmhw8eJAFCxZYdKtERIqeQlREpIhNmjSJTp06ERMTQ506dfKXkJAQBg0axKRJkxg/fjwN\n",
              "GjSgcePGhISE0KhRI2rUqIGLiwsAfn5+bNiwgSVLlhAUFISHhwedO3dm586dFt86EZGioxcriYiU\n",
              "AqdPn8bT05N169bRqlUrq8cRESkRuiIqImKB1NRUVq1aRW5uLidPnmTo0KGEhIQQGRlp9WgiIiVG\n",
              "ISoiYoHLly/z/PPP4+HhQUhICGfOnGHhwoU4OjpaPZqISInRU/MiIiIiYgldERURERERSyhERURE\n",
              "RMQSClERERERsYRCVEREREQsUeZCdPz48VaPICIiIiJFoMyF6NWfzSwiIiIiZVeZC1ERERERKR8U\n",
              "oiIiIiJiCYWoiIiIiFhCISoiIiIillCIioiIiIglFKIiIiIiYgmFqIiIiIhYQiEqIiIiIpYoUIhe\n",
              "unSJ7t2706BBA5o3b85dd91FYmIiAO+88w4NGzbEZrOxYMGCPz3OokWLCA0NJSQkhB49epCZmXnL\n",
              "N0BEREREyqYCXxEdPHgwv/76K9u3b6dbt24MGjQIgE6dOrF48WLatm37p/ufO3eOgQMHsmDBAhIS\n",
              "EvDx8eGtt966telFREREpMwqUIi6uLjQtWtXDMMAIDo6muTkZACioqIIDAz8r8dYvHgx4eHhhIaG\n",
              "AjB06FDmzp1bwLFFREREpKxzLMzO48ePp1u3bgXaJzU1FX9///yvAwICSE9PJycnB0fHa8fJysoi\n",
              "KyvrmnW5ubm3PrCI3FB2bh7fbTvEz7uOMrB1fVoFeVo9koiIVAC3HKLvvPMOiYmJLFu2rCjnucaY\n",
              "MWP429/+ds266OjoYvt5IhVNdm4e3209xIQViaSeugDAmoTjTHuiJW1Calk8nYiIlHe39Kr5Dz74\n",
              "gPnz57N48WKqVKlSoH39/PxISUnJ/zo5ORlvb+/rroYCjBo1ioyMjGuWqKioWxlZRK6SnZvHvNhU\n",
              "Ooxdychvd5B66gKeVZ2I8PMgKyePgTM3s2rfcavHFBGRcq7AV0THjRvH3LlzWbp0KR4eHgX+gV26\n",
              "dOHZZ59l7969hIaGMnHiRHr16nXDbZ2dnXF2dr5mnYODQ4F/pojYXc7J45staXy8IpFDZy4CULOa\n",
              "E0+3DaJPtB+ONhvPfrGVJbuP8tSszUzp24L2Db0snlpERMorwzRN82Y3TktLo169egQGBuLq6grY\n",
              "Y3HTpk28/fbbTJ48mePHj+Pq6oqLiwvbtm2jVq1ajB49Gh8fH4YMGQLAwoULGTlyJDk5OTRp0oSZ\n",
              "M2fi7u5+UzOMGDGCcePG3cJNFam4Lufk8fWWg0xckXRVgDozpF0gfW73p7KTwzXbPvfFVn7efRQn\n",
              "Rxuf9G1BjGJURESKQYFCtDRQiIrcvKycXL7anMakFYkczrgEQC1XZ4a0C6J3lN81AXq17Fx7jP5n\n",
              "11GcHK7EaKhiVEREilahXjUvIqXTpexcvtp8kEkrk0i/EqBers480z6Ix6L8cKn057/iUsnBxoTe\n",
              "EQybu43Fvxzh6dlbmPR4BB1vq10S44uISAWhEBUpRy5l5/JlnD1Aj2TaA7S2mzPPtAui100E6NUq\n",
              "Odj48LFwhs/bxo87jzDk8y1M6tOCTo0UoyIiUjQUoiLlwKXsXObGpjJ5VRJHM+3vvVvHzYWhMUH0\n",
              "bFmvQAF6tUoONsb3Cscgnh92pvPMnC1M7NOCuxSjIiJSBBSiImXYpexc5mxK5ZNVSRw7aw9Qb3cX\n",
              "hsYE07OlL86OhX+XCXuMhmEYsGhHOkPnbOHj3hHc3bhOoY8tIiIVm0JUpAy6eDmXOZtS+GT1fo5f\n",
              "CdC6HpV5pn0QjxRRgF7N0cHGvx4NwzAM/r39MEPnbGVC7wi6NFGMiojIrVOIipQhFy7nMGdjKp+s\n",
              "3s+Jc78H6LMxwTzcwhcnx1v6jIqb4uhg4589m2Mz4Pv4wzz3xVYm9A6nSxPvYvuZIiJSvilERcqA\n",
              "C5dzmL0hhalr9nPi3GUAfKtX5rmYYHpEFG+AXs3RwcbYR5pjAAviD/PsF9uY8Bjc01QxKiIiBacQ\n",
              "FSnFzmflMHtjClNX7+fkeXuA1qvxe4BWciiZAL2ao4ONsT3DsBkG87cd4rm52/jQhHubKUZFRKRg\n",
              "FKIipdC5rBxmbUhm2poDnLoSoP6eVXg2JpgHw+taEqBXc7AZvP9IczBg/tZDDJu3DROT+5r5WDqX\n",
              "iIiULQpRkVLk7KVsZm1IYdqa/Zy+kA3YA/T5DiF0D/PB0eIAvZqDzeD9h5tjYPDt1jSGz4vHNOH+\n",
              "5opRERG5OQpRkVLg7KVsZq5PZtraA5y5EqD1a1bluZhgupWyAL2ag83gvYebYTPg6y1pDJ+3jTzT\n",
              "pFtYXatHExGRMkAhKmKhzEvZfLYumelrD5Bx0R6ggTWr8nzHYO5vVnoD9GoONoN3H2qGYcBXm9P4\n",
              "y5fxAIpRERH5rxSiIhbIuJjNjHUH+HTtATIv5QAQWKsqwzuGcF8zHxxshsUTFozNZvCPHs2wGQbz\n",
              "4g7yly/jyTNNHgz3tXo0EREpxRSiIiUo42I2n649wKfrDnD2SoAGe1Xj+Q7BZTJAr2azGbzzYFMM\n",
              "A+bGHuTFr7ZjmtAjQjEqIiI3phAVKQEZF7KZvnY/M9YlczbLHqAhXtUY1jGErk29y3SAXs1mM/h7\n",
              "96aAwdzYVF78ejt5JjzcQjEqIiLXU4iKFKMzFy4zfe0BPrsqQBvUrsbwjg24p0kdbOUkQK9mj9Em\n",
              "2AyYsymVl7/ZjmmaPNKyntWjiYhIKaMQFSkGp89fZtra/cxcn8K5KwEaWseVYR1D6NK4fAbo1Ww2\n",
              "g7e7N8Ew4PONqYz8dgcm0FMxKiIiV1GIihShU+cvM3XNfmatT+b85VwAbvN2Y3jHYO5uVP4D9GqG\n",
              "YfBWtybYDINZG1J45dsdmKbJo5F+Vo8mIiKlhEJUpAicPJfF1DUHmLUhmQtXArSRtxvDO4Vw1221\n",
              "K1SAXs0wDP72QGNshsFn65N55dudmCb0ilKMioiIQlSkUE6cy2Lq6v3M2pDCxWx7gDb2cWN4xxDu\n",
              "alQbw6iYAXo1wzB44/5GAHy2PplX5+8kz4TetytGRUQqOoWoyC04fjaLKauT+Hxjan6ANq3rzvCO\n",
              "IXS8zUsB+v/8FqOGATPWJfM/3+3ExKTP7f5WjyYiIhZSiIoUwLGzl5iyaj+fb0rhUnYeAM183Xmh\n",
              "UwgxDRWgf8YwDEbf1wibYTB97QFe++4X8kzoG60YFRGpqBSiIjfhWOYlJq/az5xNKWTl2AO0eT0P\n",
              "XugYQvuGtRSgN8kwDP733tuwGTB1zQFeX/ALmCZ9WwVYPZqIiFhAISryJ45mXmLSyiTmxqbmB2i4\n",
              "nwfDO4bQroEC9FYYhsH/dL0NwzCYsno/r3+/izwTnrgjwOrRRESkhClERW7gSMYlJq9K4ovYVC5f\n",
              "CdAIPw9e6NSANiE1FaCFZBgGo+4JxTDgk1X7eWPhLkzTpP+d9a0eTURESpBCVOQq6RkXmbQyiXlx\n",
              "B/MDtKV/dYZ3CqF1sAK0KBmGwatdQrEZBpNWJvHXf+8mz4QBrRWjIiIVhUJUBDh85iITVybyVVwa\n",
              "l3PtARoVUIPhnUK4I8hTAVpMDMNgZOeGGMDElUm8uWg3eabJoDaBVo8mIiIlQCEqFdqhMxeZuCKR\n",
              "rzYfJDvXBCCqfg1e6BRCq0AFaEkwDIOXOzfEZhhMWJHI2z/sAVCMiohUAApRqZDSTl/g4xVJfLPl\n",
              "9wCNDqzB8I4NaBXkafF0FY9hGLx4dwNsBny43B6jpglPtVWMioiUZwpRqVAOnrrAxJWJfL05jZw8\n",
              "e4C2CvRkeKcQogMVoFYyDIO/3NUADIMPlyXw9x/3kGeaPN0uyOrRRESkmChEpUJIPXmBj1ck8u3W\n",
              "3wP0zmBPhndsQFT9GhZPJ78xDIMRd9mvjP5raQJjFu8lz4Rn2itGRUTKI4WolGspJ88zYXki87cd\n",
              "IvdKgLYJqcnwjiG0DFCAllYvdGqAgcE/l+7j3Z/2YmIytH2w1WOJiEgRU4hKuZR84jwTViTy3f8L\n",
              "0Bc6hdDCXwFaFgzvFIJhwLgl+3jvp18xTXg2RjEqIlKeKESlXDlw4jwfLU/g+/jD+QHarkEthncK\n",
              "IcKvusXTSUEN6xiCzYAPft7H+//5lbw8k+c7hlg9loiIFBGFqJQLScfPMWF5It/HH+JKfxLTsBbD\n",
              "OoYQrgAt057rEIJhGLz/n18Zu2QfJvZAFRGRsk8hKmVa4rFzTFiewMLth/MDtEOoF8M6hhBWz8PS\n",
              "2aToPBsTjGHAez/9yrgl+8gzTV7o1MDqsUREpJAUolImJR47y4fLEvn3jsOYVwK00232AG3m62Hp\n",
              "bFI8hrYPxmYY/GPxXv61NAHTxP52TyIiUmYpRKVM2Xf0LB8uS+CHnen5AXpXo9oM7xhCk7ru1g4n\n",
              "xW5IuyBsBrzz417GL0vABP7SKUSfgCUiUkYVKEQvXbpEr1692L17N5UrV8bLy4tJkyYRHBzMsWPH\n",
              "6NevH0lJSTg7OzNx4kTatm173TGSk5MJCgqiadOm+eu+/fZbgoL0PoHyx349cpYPlyfw41UBenej\n",
              "2gxTgFY4g9sGYWDw9x/38OGyBEzTZMRdDRSjIiJlUIGviA4ePJh77rkHwzCYMGECgwYNYuXKlbz6\n",
              "6qtER0fz008/ERcXx4MPPsiBAweoVKnSdcdwdXUlPj6+KOaXcm7vkUw+XJbAjzuP5K/r0rgOwzqG\n",
              "0MjHzcLJxEpPtQ3EMODtH/bw0fJE8kyTl+5uqBgVESljChSiLi4udO3aNf/r6OhoPvjgAwC++uor\n",
              "EhMTAYiMjMTHx4dVq1bRqVOnIhxXKordh+0B+tOu3wO0a9M6PN8hhNu8FaACg9oEYhgGby3azccr\n",
              "kjBNeLmzYlREpCwp1O+Ijh8/nm7dunHy5Emys7OpU6dO/vcCAgJITU294X7nz58nMjKS3Nxcunfv\n",
              "zmuvvYaDg8N122VlZZGVlXXNutzc3MKMLKXcrsMZfLgsgf/sOgqAYUDXJt483zGY0DoKULnWwNb1\n",
              "sRnwt3/vZuLKJPJMeKWLYlREpKy45RB95513SExMZNmyZVy8ePGm9/P29ubQoUN4eXlx6tQpHn30\n",
              "UcaOHcvIkSOv23bMmDH87W9/u2ZddHT0rY4spdgvhzIYvyyBJbt/D9B7m3ozrGMIDWq7WjydlGZP\n",
              "3lkfm2HwxsJdTF6VhGmavHpPqGJURKQMsN3KTh988AHz589n8eLFVKlSBU9PTxwdHTly5PenUZOT\n",
              "k/Hz87tuX2dnZ7y8vACoUaMGAwYMYM2aNTf8OaNGjSIjI+OaJSoq6lZGllJqZ1oGg2bGcd9Ha1my\n",
              "+yiGAQ809+HnF9oyoXeEIlRuyhN3BPBmt8YAfLJ6P2MW78X87VVtIiJSahX4iui4ceOYO3cuS5cu\n",
              "xcPDI3/9I488wuTJk/nrX/9KXFwchw4dol27dtftf+zYMapXr06lSpXIyspi/vz5hIeH3/BnOTs7\n",
              "4+zsfM26Gz2FL2XPjrQzjF+awLK9xwCwGXB/cx+e7xBMsJfiUwquX6sADOD173cxZfV+8vJMXrv3\n",
              "Nl0ZFREpxQoUomlpabz44osEBgYSExMD2GNx06ZNvPvuu/Tt25eQkBCcnJz4/PPP818xP3r0aHx8\n",
              "fBgyZAhr165l9OjRODg4kJOTQ4cOHXjttdeK/pZJqRR/8Azjl+5jxa/HAXuAdgury3MdggmqVc3i\n",
              "6aSs69sqAMMw+N8FvzBt7QHyTHj9PsWoiEhpZZhl7PmrESNGMG7cOKvHkALamnqa8UsTWLXv9wDt\n",
              "Hl6X52KCCVSAShH7YlMq//PdTgCevDOA0fc1UoyKiJRC+mQlKVZbUk4zflkCq68EqIPNoPuVK6D1\n",
              "a1a1eDopr3rf7odhwKj5O5mxLhnThDfuV4yKiJQ2ClEpFpuTTzF+WQJrEk4A9gDtEW4PUH9PBagU\n",
              "v8ei/LAZ8Or8nXy2PhnTNPnrA40VoyIipYhCVIpU7IFTjF+2j3WJJwFwtBk8FOHLszHB+HlWsXg6\n",
              "qWgejfTDwOCV+TuYuSGFPBPe7KYYFREpLRSiUiQ27T/J+GUJrE/6PUAfbmEP0Ho1FKBinZ6R9cCA\n",
              "V77dweyNKZiYvPlAE2w2xaiIiNUUolIoG5JOMn7ZPjbuPwVAJQeDh1vUY2j7IAWolBo9W9bDZhi8\n",
              "/M12Pt+YSp4Jb3dTjIqIWE0hKgVmmiYb9p9k/NIENh34PUB7tqzHM+2D8K2uAJXS5+EWvhjAS99s\n",
              "54tNqZgm/L27YlRExEoKUblppmmyPskeoLHJ9gB1crDRM9KXZ9oHU9ejssUTivy5h1r4YrPBi19t\n",
              "Z25sKqZp8s6DTRWjIiIWUYjKf2WaJusST/KvpfvYnHIasAdoryj7FVBvdwWolB0PhvtiYDDiq3jm\n",
              "xR3ENGFMD8WoiIgVFKLyh0zTZE3CCcYvS2DLbwHqaOOxyHoMUYBKGdY9vC6GAX/5Mp4vNx8kzzR5\n",
              "96FmilERkRKmEJXrmKbJqn3HGb8sgW2pZwBwdrTxWJQfz7QPorabi7UDihSBbmF1MQyDF+Zt4+st\n",
              "aZjAuw81w0ExKiJSYhSiks80TVbuO874pQnEHzwD2AO0z+3+DGkXiJcCVMqZB5r7YAAvfBnPN1vS\n",
              "yDNN3n+4uWJURKSEKEQF0zRZ8esxxi9NYHtaBgAulewB+nS7QLxcFaBSft3f3AebYTBs3jbmbz0E\n",
              "Jrz/iGJURKQkKEQrMNM0WbbnGB8uT2DHVQHaN9qfwW2DqOXqbPGEIiXj3mbeGAY8P3cb87cdIs80\n",
              "GdszTDEqIlLMFKIVkGmaLN1zjPHL9vHLoUwAKldyoF8rf55qG0jNagpQqXi6NvXGwB6jC+IPYwJj\n",
              "H2mOo4PN6tFERMothWgFYpomP+8+yofLEth12B6gVZwc6NvKn8FtAvFUgEoFd09TbyYYBs99sZXv\n",
              "4w9jmjCup2JURKS4KEQrgLw8k593H2H8skT2pNsDtKqTA/3uCOCpNoHUqOpk8YQipUeXJnX4uE8E\n",
              "z87ZysLth8kzTf71aJhiVESkGChEy7G8PJP/7DrC+GUJ7D1yFrAHaP87AxjUOpDqClCRG+rcuA4T\n",
              "+0Tw7BdbWbQjHRMYrxgVESlyCtFyKC/PZPEvR/hwWQK/HrUHaDVnR/rfEcDA1vUVoCI34e7GdZjY\n",
              "pwVD52zhhx3pYMK/eoVRSTEqIlJkFKLlSG6eyY870/loeQL7jp4DwNXZkSfvDGBA6/p4VFGAihTE\n",
              "XY1qM/nxFjzz+VZ+2JlOnmny4WPhilERkSKiEC0HcvNMftiZzofLEkg8diVAXRwZcGd9BtxZH/cq\n",
              "lSyeUKTs6nhbbSb3jWDI7K0s/uUIz3+xjY96K0ZFRIqCQrQMy80zWbTjMB8uSyDp+HkA3FwcGdC6\n",
              "Pk/eWR/3ygpQkaLQIbQ2n/RtwdOzt/DTriM898VWPnosAidHxaiISGEoRMugnNw8/r3jMB8tT2T/\n",
              "lQB1r1yJga3r0//OANxcFKAiRS0m1Isp/VowePYW/rPrKM9+sZWPeytGRUQKQyFahuTk5rFwuz1A\n",
              "D5ywB6hHlUoMal2fJ+4IwFUBKlKs2jf0Ymq/ljw1azNLdh9l6JytTOyjGBURuVUK0TIgJzePBfGH\n",
              "mbA8geSTFwB7gD7VJpB+rfwVoCIlqF2DWky7EqNL9xxl6JwtfNwnAmdHB6tHExEpcxSipVh2bh7f\n",
              "bTvExysSSbkSoNWrVOKptoH0axVANWf99YlYoW2DWkx7oiWDZm5m6Z5jPPP5ViY9rhgVESkolUwp\n",
              "lJ2bx3dbDzFhRSKpp+wBWqOqE4PbBtI32p+qClARy7UJqcX0JyIZODOO5XuPMWT2FiY93gKXSopR\n",
              "EZGbpaIpRbJz8/h2Sxofr0zk4KmLAHheCdDHFaAipU7rkJp82t8eoyt+Pc6Qz7cwWTEqInLTVDal\n",
              "wOWcPL7ZksbHKxI5dMYeoDWrOfF02yD6RPtRxUl/TSKl1Z3B9hgd8FkcK389zuDZW5jSVzEqInIz\n",
              "VDgWupyTx9dbDjJxRdJVAerMkHaB9Lndn8pO+odMpCy4I6gmM/pHMeCzOFbvO85TszYztV9LxaiI\n",
              "yH+hELVAVk4uX21OY9KKRA5nXAKglqszQ9oF0TvKTwEqUga1CvJkxpORPDkjjjUJJxSjIiI3QSFa\n",
              "gi5l5/LV5oNMWplE+pUA9XJ15pn2QTwW5ad/sETKuOhATz57MpInP7PH6KCZ9hjVfy5FRG5MIVoC\n",
              "LmXn8mWcPUCPZNoDtI6bC8+0D+LRyHoKUJFy5PZATz57Mor+M2JZm3iCgTPjmP5EpGJUROQGFKLF\n",
              "6FJ2LnNjU5m8KomjmVmAPUCHxgTRs6UCVKS8iqpfg5kDouj/aSzrk04y4LM4pvdvqRceioj8P3pU\n",
              "LAaXsnOZsymVT1YlceysPUB93F14JiaYni199abXIhVAZEANZg2M4olP49iw3x6jn/aPVIyKiFxF\n",
              "j4hF6OLlXOZsSuGT1fs5fiVA63pUZmhMEA+3UICKVDQt/O1XRp/4NJaN+0/x5Iw4ZjypGBUR+Y0e\n",
              "DYvAhcs5zNmYyier93Pi3O8B+mxMMA+38MXJ0WbxhCJilRb+1e1XRqfHsunAKfrPiGNG/0h9QIWI\n",
              "CArRQrlwOYfZG1KYumY/J85dBsC3emWeiwmmR4QCVETsIvzsMdpveiyxB07Rf0YsM56MoppiVEQq\n",
              "OD0K3oLzWTnM3pjC1NX7OXneHqD1alTm+ZgQHoyoSyUHBaiIXCvcrzqzB91O3+mbiEs+Tf9PY/ls\n",
              "gGJURCq2AhXTpUuX6N69Ow0aNKB58+bcddddJCYmAnDs2DG6dOlCSEgITZo0YfXq1X94nEWLFhEa\n",
              "GkpISAg9evQgMzOzcLeihJzLymHiykTavLeCfyzey8nzl/H3rMJ7Dzdj+Yvt6RlZTxEqIn8orJ4H\n",
              "nw+8HVcXRzannOaJT2M5eynb6rFERCxT4GoaPHgwv/76K9u3b6dbt24MGjQIgFdffZXo6GgSEhKY\n",
              "MWMGvXv3Jjv7+gfYc+fOMXDgQBYsWEBCQgI+Pj689dZbhb8lxejspWw+XpFIm3eX895Pv3LqSoB+\n",
              "8Ehzlo1oR8+WClARuTnN63kwZ9DtuLk4skUxKiIVXIHqycXFha5du2IYBgDR0dEkJycD8NVXXzFk\n",
              "yBAAIiMj8fHxYdWqVdcdY/HixYSHhxMaGgrA0KFDmTt3bmFuQ7E5eymbCcsTaPPeCt7/z6+cvpBN\n",
              "/ZpVGXslQB9u4YujAlRECqiZrwdzBkXjXrkSW1PP0O/TWDIVoyJSARXql5PGjx9Pt27dOHnyJNnZ\n",
              "2dSpUyf/ewEBAaSmpl63T2pqKv7+/tdsl56eTk5ODo6O146TlZVFVlbWNetyc3MLM3KBfLQ8kSmr\n",
              "9wMQWLMqz3cM5v5mPopPESm0pr7uzBl0O32mbWJb6hn6TY9l1sAo3FwqWT2aiEiJueWieuedd0hM\n",
              "TGTMmDFFOc81xowZg7u7+zVLbGxssf28/29g6/o08nZjfK8wloxox4PhugIqIkWnSV17jHpUqUT8\n",
              "wTP0nR5LxkVdGRWRiuOWquqDDz5g/vz5LF68mCpVquDp6YmjoyNHjhzJ3yY5ORk/P7/r9vXz8yMl\n",
              "JeWa7by9va+7GgowatQoMjIyrlmioqJuZeRbUtvNhR+GtaZbWF0cbEaJ/VwRqTiujtHtB8/Qb/om\n",
              "xaiIVBgFDtFx48Yxd+5clixZgoeHR/76Rx55hMmTJwMQFxfHoUOHaNeu3XX7d+nSha1bt7J3714A\n",
              "Jk6cSK9evW74s5ydnXFzc7tmcXAo2U8n+u33YUVEiktjH3e+GBRN9SqV2J6WQd/pm8i4oBgVkfLP\n",
              "ME3TvNmN09LSqFevHoGBgbi6ugL2WNy0aRNHjx6lb9++HDhwACcnJyZMmEBMTAwAo0ePxsfHJ//F\n",
              "TAsXLmTkyJHk5OTQpEkTZs6cibu7+03NMGLECMaNG1fQ2ykiUurtSc+kz7RNnDp/mSZ13fh84O14\n",
              "VHGyeiwRkWJToBAtDRSiIlKe7T2SSe+p9hht7ON25Wl7xaiIlE965Y2ISCkSWseNuU9F41nViV2H\n",
              "7VF6+sonuImIlDcKURGRUqZhHVfmDo6mZjUndqdn0vvK0/UiIuWNQlREpBRqUNuVuU9FU7OaM3vS\n",
              "M+k9daNiVETKHYWoiEgpFVLblXmDb6dmNWf2HjlL76kbOXku67/vKCJSRihERURKsWAvV+YNjqaW\n",
              "628xuokTilERKScUoiIipVywVzXmDY7Gy9WZX4/ar4wqRkWkPFCIioiUAUG17DFa282ZfUfP8diU\n",
              "jRw/qxgVkbJNISoiUkYE1qrGvMGtqOPmQsKxczw2dSPHzl6yeiwRkVumEBURKUPq16zKvMHR1HFz\n",
              "IfGY/cqoYlREyiqFqIhIGRNwJUa93V1IOn7eHqOZilERKXsUoiIiZdBvMepzJUZ7TdnIUcWoiJQx\n",
              "ClERkTLK37Mq8wa3oq5HZfafsF8ZVYyKSFmiEBURKcP8PKswb3B0foz2mrKRIxmKUREpGxSiIiJl\n",
              "XL0av8fogRPn6TVlA+kZF60eS0Tkv1KIioiUA/VqVOHLp6PxrV6Z5JMX6DVlI4fPKEZFpHRTiIqI\n",
              "lBO+1e1XRuvVqEzKlRg9pBgVkVJMISoiUo7YY7QVfjWqkHrqAr2mbCDt9AWrxxIRuSGFqIhIOVPX\n",
              "ozLzBkfj71mFg6cu0mvKRsWoiJRKClERkXLI56oYTTttj9GDpxSjIlK6KERFRMopb/fKfDm4FQGK\n",
              "UREppRSiIiLlWB13F+YNbkX9mlU5dMYeo6knFaMiUjooREVEyjl7jEYTmB+jGxSjIlIqKERFRCqA\n",
              "2m5XYrRWVQ5nXOLRKRtIOXne6rFEpIJTiIqIVBBebi7MeyqaoFpVSc+4xKOfbCT5hGJURKyjEBUR\n",
              "qUC83FyYOziaYK9qHMm8RK8pGzmgGBURiyhERUQqGC9XF+Y+FU1IfoxuYP/xc1aPJSIVkEJURKQC\n",
              "quXqzBdPRdOgdjWOZmbRa8pGkhSjIlLCFKIiIhXUbzHasLYrx85m8diUjSQeU4yKSMlRiIqIVGA1\n",
              "qznzxVO3E1rnSoxO3UjisbNWjyUiFYRCVESkgvOs5sycQfYYPX42i15TNpFwVDEqIsVPISoiInhW\n",
              "sz9Nf5u3GyfO2a+MKkZFpLgpREVEBIAaVZ34YtDtNPJ248S5y/SaspFfjyhGRaT4KERFRCRf9apO\n",
              "zBl0O4193Dh5/jK9pypGRaT4KERFROQav8Vok7r2GH1s6kb2Hsm0eiwRKYcUoiIich2PKk7MGRhN\n",
              "07runDp/mcembGT3YcWoiBQthaiIiNyQe5VKfD7wdpr5unP6QjZ9pilGRaRoKURFROQPuVepxOyB\n",
              "t9P8Soz2nraRXYczrB5LRMqJAoXosGHDCAgIwDAM4uPj89f/9NNPtGzZkmbNmhEdHc327dtvuH9y\n",
              "cjIODg6EhYXlL0lJSYW6ASIiUrzcK1di9qDbaV7PgzMXsuk9dRO/HFKMikjhFShEH374YdauXYu/\n",
              "v3/+utOnT9OnTx9mzpzJjh07eP/99+nTp88fHsPV1ZX4+Pj8JSgo6NanFxGREuHmUonZA6MIq+dB\n",
              "xsVs+kxTjIpI4RUoRNu2bYuvr+8165KSkvD09KRx48YAtGnThtTUVLZu3Vp0U4qIiOV+i9EIP3uM\n",
              "9p66kZ1pilERuXWF/h3RkJAQTp48yfr16wFYuHAhZ8+eJTk5+Ybbnz9/nsjISCIiInjzzTfJzc39\n",
              "w2NnZWWRmZl5zfJn24uISPFydanEzAFRtPCvTualHPpM28j2g2esHktEyqhCh6i7uzvffPMNo0aN\n",
              "okWLFvz88880atQIR0fH67b19vbm0KFDxMXFsXTpUtasWcPYsWP/8NhjxozB3d39miU2NrawI4uI\n",
              "SCH8FqMtr8To49M3Ea8YFZFbYJimaRZ0p4CAABYsWEBYWNh138vKyqJOnTrExcURHBz8p8eZO3cu\n",
              "X3zxBf/+979v+P2srCyysrKuWff6668zfvz4go4sIiJF7FxWDk/OiCUu+TSuzo7MGhhFuF91q8cS\n",
              "kTKkSN6+KT09Pf/Pb731Fh06dLhhhB47dozs7GzAHpnz588nPDz8D4/r7OyMm5vbNYuDg0NRjCwi\n",
              "IoVUzdmRz56MIiqgBmezcug3PZatqaetHktEypAChejTTz+Nr68vaWlpdO7cOT82R48eTWhoKMHB\n",
              "waSkpDB9+vT8fUaPHs3kyZMBWLt2LeHh4TRv3pyIiAjq1KnDa6+9VoQ3R0RESlJVZ0dmPBlJVP3f\n",
              "Y3RLimJURG7OLT01b6URI0Ywbtw4q8cQEZGrXLicw4DP4ti4/xTVnB2ZOSCSFv41rB5LREo5fbKS\n",
              "iIgUWhUnRz7tH0mrQE/OXbkyujn5lNVjiUgppxAVEZEi8VuM3hHkyfnLufT7NJY4xaiI/AmFqIiI\n",
              "FJnKTg5MfyKSO4M9uXA5lyc+jSX2gGJURG5MISoiIkXqtxhtHVyTC5dz6T8jlo37T1o9loiUQgpR\n",
              "EREpci6VHJj2REvahNhj9MkZcWxIUoyKyLUUoiIiUixcKjkwtV9L2jaoxcXsXAZ8Fsf6pBNWjyUi\n",
              "pYhCVEREio1LJQem9G1Bu6tjNFExKiJ2ClERESlWLpUc+KRvC9o3rMWl7Dye/CyOdYpREUEhKiIi\n",
              "JeC3GO0Q6kVWTh4DPotjbYJiVKSiU4iKiEiJcHZ0YNLjEXS8EqMDZ8axet9xq8cSEQspREVEpMQ4\n",
              "Ozow8fEIOt1mj9FBszazSjEqUmEpREVEpEQ5OzowsU8L7mpUm8s5eTw1azMrfz1m9VgiYgGFqIiI\n",
              "lDgnRxsf947g7isxOnjWFlbsVYyKVDQKURERsYSTo40JvSPo3Lg2l3PzeHr2FpbvPWr1WCJSghSi\n",
              "IiJimd9i9J4mdbicm8eQ2VtZtkcxKlJRKERFRMRSlRxsfPhYOF2bXonRz7ewdLdiVKQiUIiKiIjl\n",
              "KjnYGN8rnHubepOda/LMnC38vOuI1WOJSDFTiIqISKlgj9Ew7mtmj9Fnv9jKfxSjIuWaQlREREoN\n",
              "Rwcb/3o0jPub+9hjdM5WfvpFMSpSXilERUSkVHF0sPHPns15oLkPOXkmz32xlcU7060eS0SKgUJU\n",
              "RERKHUcHG+N6Nqd72JUYnbuNHxWjIuWOo9UDiIiI3Iijg42xPcMwDIPvth3i+bnbME24t5m31aOJ\n",
              "SBFRiIqISKnlYDP44JHmGMD8bYcYNm8beabJ/c19rB5NRIqAQlREREo1B5vB+480xzAMvt2axgtf\n",
              "xmMCDyhGRco8haiIiJR6DjaD9x5uhmHAN1vSeGHeNkzTpFtYXatHE5FC0IuVRESkTHCwGbz3UDN6\n",
              "tvQlz4S/fBnPgm2HrB5LRApBISoiImWGzWbwjx7NeLRlPfJMGPFVPN9tS7N6LBG5RQpREREpU2w2\n",
              "gzE9mtIr8rcY3c63WxSjImWRQlRERMocm83gnQeb8liUH6YJL32znW8UoyJljkJURETKJJvN4O/d\n",
              "m9DndnuMvvzNdr7efNDqsUSkABSiIiJSZtlsBm91a8Lj0fYYHfntDr6KU4yKlBUKURERKdN+i9F+\n",
              "rfzzY/TLuFSrxxKRm6AQFRGRMs8wDP72QGOeaOUPwCvf7mRurGJUpLRTiIqISLlgGAZ/faAx/e8I\n",
              "AGDU/J18sUkxKlKaKURFRKTcMAyDN+5vxJN3BgDwP9/t5PONKdYOJSJ/SCEqIiLlimEYjL6vEQNb\n",
              "1wfgfxf8wmzFqEippBAVEZFyxzAM/vfe2xh0JUZfX/ALszYkWzuUiFxHISoiIuWSYRi8du9tDG4b\n",
              "CMDo73cxc32ytUOJyDUKFKLDhg0jICAAwzCIj4/PX//TTz/RsmVLmjVrRnR0NNu3b//DYyxatIjQ\n",
              "0FBCQkLo0aMHmZmZtzy8iIjInzEMg1H3hPJ0O3uMvrFwFzPWHbB4KhH5TYFC9OGHH2bt2rX4+/vn\n",
              "rzt9+jR9+vRh5syZ7Nixg/fff58+ffrccP9z584xcOBAFixYQEJCAj4+Prz11luFuwUiIiJ/wjAM\n",
              "Xu0SypB2QQD87d+7mb5WMSpSGhQoRNu2bYuvr+8165KSkvD09KRx48YAtGnThtTUVLZu3Xrd/osX\n",
              "LyY8PJzQ0FAAhg4dyty5c291dhERkZtiGAavdGnI0Pb2GH1r0W6mrdlv8VQiUujfEQ0JCeHkyZOs\n",
              "X78egIULF3L27FmSk5Ov2zY1NfWaq6kBAQGkp6eTk5Nzw2NnZWWRmZl5zZKbm1vYkUVEpAIyDIOX\n",
              "OzfkuZhgAN7+YQ+DZ23ml0MZFk8mUnEVOkTd3d355ptvGDVqFC1atODnn3+mUaNGODo6Fnq4MWPG\n",
              "4O7ufs0SGxtb6OOKiEjFZBgGL97dgBc6hWAY8PPuo9z30VqeUpCKWKJIXjUfExPDqlWr2LJlC2PH\n",
              "juXw4cM0atTouu38/PxISfn9vdySk5Px9vb+w2gdNWoUGRkZ1yxRUVFFMbKIiFRQhmHwQqcG/PxC\n",
              "Wx5o7oNhwJIrQTpoZhw70xSkIiWlSEI0PT09/89vvfUWHTp0IDg4+LrtunTpwtatW9m7dy8AEydO\n",
              "pFevXn94XGdnZ9zc3K5ZHBwcimJkERGp4EJqu/LhY+Es+UtbuoX5YDNg6Z5j3D9hLQM/i2NH2hmr\n",
              "RxQp9woUok8//TS+vr6kpaXRuXPn/NgcPXo0oaGhBAcHk5KSwvTp0/P3GT16NJMnTwbA1dWVadOm\n",
              "0b17d4KDg0lLS+P1118vwpsjIiJSMMFerozvFc6SEe14MLwuNgOW7T3GAxPW8eSMWOIPnrF6RJFy\n",
              "yzBN07R6iIIYMWIE48aNs3oMEREpp/YfP8eEFYks2HaIvCv/QrZrUIvhnUKI8Ktu7XAi5Yw+WUlE\n",
              "ROQqgbWqMa5nGMtebM9DEb442AxW7TtOj4nr6fdpLFtSTls9oki5oRAVERG5gfo1qzK2Z3OWv9iO\n",
              "R1rYg3T1vuM8NGk9fadvYnPyKatHFCnzFKIiIiJ/wt+zKu8/0pwVL7bn0Zb1cLQZrEk4wcOTN9Bn\n",
              "2kZiDyhIRW6VQlREROQm+HlW4d2Hm7Hipfb0irQH6brEk/T8ZAO9p25k0/6TVo8oUuYoREVERAqg\n",
              "Xo0q/OMhe5A+FuVHJQeD9UkneXTKRnpN2cCGJAWpyM1SiIqIiNyCejWqMKZHU1a81J4+t9uDdOP+\n",
              "Uzw2dSM9P9nA+qQTlLE3phEpcQpRERGRQvCtXoW/P9iUlS/H8Hi0H04ONmIPnKL31E08+slG1iUq\n",
              "SEX+iEJURESkCNT1qMzb3Zuy8uX29Gvlbw/S5FP0mbaJRyZvYE3CcQWpyP+jEBURESlCPh6VebNb\n",
              "E1aNbM8TrfxxcrSxOeU0fafH8tCk9azepyAV+Y1CVEREpBh4u1fmb92asGZkDP3vCMDJ0cbW1DP0\n",
              "+zSWHpPWs/LXYwpSqfAUoiIiIsWotpsLf32gMWtHxjDgzvo4O9rYlnqG/jPieHDielbsVZBKxaUQ\n",
              "FRERKQFebi6Mvr8Ra16JYWDr+rhUshF/8AxPfhZH94/XsXzvUQWpVDgKURERkRLk5erC6/c1Ys3I\n",
              "DjzVxh6k29MyGPDZZrp9vI6luxWkUnEoREVERCxQy9WZ1+5txNpXOvB020AqV3JgR1oGg2Zt5v4J\n",
              "a/l51xEFqZR7ClEREREL1azmzKiut7H2lRiebhdIFScHfjmUyeDZW7j3w7X8R0Eq5ZhCVEREpBTw\n",
              "rObMqHtuY+0rHXimfRBVnRzYnZ7J07O30PXDtfz0Szp5eQpSKV8UoiIiIqVIjapOvNIllDWvdODZ\n",
              "GHuQ7knPZMjnW+n64Rp+3KkglfJDISoiIlIK1ajqxMudQ1n7SgeeiwmmmrMje4+cZeicrdwzfg0/\n",
              "7FCQStmnEBURESnFqld14qXODVn7SgzDOgTj6uzIr0fP8uwXW+kyfjX/3n6YXAWplFEKURERkTLA\n",
              "o4oTI+5uyNpXOjC8YwiuLo7sO3qO5+duo/O/VrNQQSplkEJURESkDHGvUom/3NWAta904IVOIbi5\n",
              "OJJ47BzD5m7j7n+u4vv4QwpSKTMUoiIiImWQe+VKvNCpAWtf7cCIuxrg5uJI0vHzDJ8Xz13/XMV3\n",
              "29LIyc2zekyRP6UQFRERKcPcXCoxrGMIa1/twIt3NcC9ciX2Hz/PX77czl3/XM38rQpSKb0UoiIi\n",
              "IuWAm0slnu8YwtpXYni5c0M8qlTiwInzjPhqO53GreKbLQpSKX0UoiIiIuWIq0slno0JZu0rHRjZ\n",
              "pSHVq1Qi+eQFXvp6Ox3HreKrzQfJVpBKKaEQFRERKYeqOTsytL09SF/pEkqNqk6knLzAyG920HHs\n",
              "Kr6KU5CK9RSiIiIi5VhVZ0eeaR/EmpExjLonFM+qTqSeusDIb3fQYexK5sWmcjlHQSrWUIiKiIhU\n",
              "AFWdHXm6XRBrXonhta63UbOaEwdPXeTV+TuJ+WAlX2xSkErJU4iKiIhUIFWcHHmqbSBrRnbgf++9\n",
              "jZrVnDl05iL/8509SOdsSlGQSolRiIqIiFRAlZ0cGNQmkDUjY3j9vkbUcrUH6Wvf/UL791cwe2MK\n",
              "WTm5Vo8p5ZxCVEREpAKr7OTAwNb1WTMyhjfub4SXqzOHMy7x+oJfaP/+SmZtSOZStoJUiodCVERE\n",
              "RHCp5MCTd9Zn9cgY/np/I2q7OZOecYnR3++i/fsrmbleQSpFTyEqIiIi+VwqOdD/zvqsejmGN7s1\n",
              "po6bC0cyL/HGwl20e38FM9YdUJBKkVGIioiIyHVcKjnQr1UAq0a2563uTfB2d+FoZhZ/+/du2ry3\n",
              "gulrFaRSeApRERER+UPOjg70jfZn5cvtebt7E+p6VOb42SzeWmQP0mlr9nPxsoJUbo1CVERERP4r\n",
              "Z0cHHo/2Z8VL7Xnnwab5Qfr2D3to894Kpq7ez4XLOVaPKWWMQlRERERumpOjjd63+7Hipfb8o0dT\n",
              "fKtX5sS5LP7+4x7avLuCT1YlKUjlpilERUREpMCcHG30irIH6bsPNaVejcqcPH+ZMYv30ubdFUxe\n",
              "lcT5LAWp/LkCheiwYcMICAjAMAzi4+Pz1//4449EREQQFhZGkyZNmDlz5g33T05OxsHBgbCwsPwl\n",
              "KSmpUDdARERErFPJwcajkX4sf7E97z3cDH/PKpw8f5l/LN5Lm/dWMHFlIucUpPIHDNM0zZvdePXq\n",
              "1QQGBtK6dWsWLFhAWFgYpmni6enJypUradasGcnJyYSGhnL8+HFcXV2v2T85OZmwsDDOnDlzywOP\n",
              "GDGCcePG3fL+IiIiUnxycvNYEH+Yj5YnkHLyAgAeVSrxVJtA+rXyx9WlksUTSmlSoCuibdu2xdfX\n",
              "97r1hmHkx2VmZiaenp44OzsXyYAiIiJSdjg62Hi4hS/LRrRj7CPNqV+zKmcuZPP+f36lzXsrmLA8\n",
              "gbOXsq0eU0oJx8IewDAMvvzyS3r06EHVqlU5ffo08+fPx8nJ6Ybbnz9/nsjISHJzc+nevTuvvfYa\n",
              "Dg4ON9w2KyuLrKysa9bl5uotIkREREo7RwcbD7XwpVuYD//ecZiPliWy/8R5Pvh5H1PXHGBg6/r0\n",
              "vzMAN10hrdAK/WKlnJwc3n77bebPn09KSgrLli2jb9++nDhx4rptvb29OXToEHFxcSxdupQ1a9Yw\n",
              "duzYPzz2mDFjcHd3v2aJjY0t7MgiIiJSQhwdbDwY7suSEe0Y3yuMwFpVybiYzbgl+2j9j+X8a+k+\n",
              "Mi7qCmlFVegQjY+P5/Dhw7Rt2xaAyMhIfH192bZt23XbOjs74+XlBUCNGjUYMGAAa9as+cNjjxo1\n",
              "ioyMjGuWqKiowo4sIiIiJczBZtAtrC5L/mIP0mCvamReyuFfSxNo/e5y/rlEQVoRFTpE69WrR3p6\n",
              "Onv27AEgMTGRpKQkGjZseN22x44dIzvbfifLyspi/vz5hIeH/+GxnZ2dcXNzu2b5o6fxRUREpPT7\n",
              "LUj/80JbPnosnBCvapy9lMP4ZQm0/sdyxv38KxkXFKQVRYF+R/Tpp5/mhx9+4MiRI3Tu3BlXV1cS\n",
              "ExOZMmUKPXv2xGazkZeXx4QJE/Dz8wNg9OjR+Pj4MGTIENauXcvo0aNxcHAgJyeHDh068NprrxXL\n",
              "DRMREZHSy8FmcH9zH+5t6s3iX44wftk+9h09x4fLE5mxLpn+dwYwsHV9PKrc+DUnUj4U6O2bSgO9\n",
              "fZOIiEj5k5dn8tOuI3y4LIG9R84CUM3ZkSfu8GdQ60CqV1WQlkf6ZCURERGxnM1m0LWpNz8Oa8Pk\n",
              "xyO4zduNc1k5fLwiidbvLufdn/Zy6vxlq8eUIqYQFRERkVLDZjPo0sSbH55vzSd9W9DI243zl3OZ\n",
              "tNIepP9YvJeT57L++4GkTFCIioiISKljsxl0blyHH4a1ZkrfFjT2cePC5Vwmr0qi9bsrGPPjHk4o\n",
              "SMs8haiIiIiUWoZhcHfjOix6vjXT+rWkaV13Lmbn8snq/bR5dwV//2E3x88qSMsqhaiIiIiUeoZh\n",
              "0KlRbRY+dyef9m9JM197kE5dc4A27y3n7UW7OXb2ktVjSgEpREVERKTMMAyDDqG1+f7ZO5nRP5Lm\n",
              "9Ty4lJ3HtLUHaPPuCt78926OZSpIywqFqIiIiJQ5hmEQE+rFgqF38NmTkYT7eZCVk8en6w7Q5r0V\n",
              "/HXhLo4qSEs9haiIiIiUWYZh0L6hF/OfuYNZA6KIuBKkn61Pzg/SIxkK0tJKISoiIiJlnmEYtG1Q\n",
              "i2+fuYPZA6No6V+dy1eCtO17Kxj9/S+kZ1y0ekz5fwr0EZ8iIiIipZlhGLQJqUXr4JqsTzrJ+KUJ\n",
              "xCafYtaGFObFHqRnpC9D2wfj41HZ6lEFhaiIiIiUQ4ZhcGdwTe4I8mTD/pP8a2kCsQdO8fnGVL6M\n",
              "O0jPlvUYGhNMXQWppRSiIiIiUm4ZhsEdQTW5I6gmG5JOMn7ZPjbuP8WcTal8tfkgD7eox7MxQfhW\n",
              "r2L1qBWSfkdUREREKoRWQZ7MG9yKeYOjaRXoSXauydzYVNq/v5JR83dw8NQFq0escBSiIiIiUqFE\n",
              "B3oyd3A0Xz3dijuDPcnJM5kbe5CYD1byyjc7SD2pIC0pClERERGpkKLq12DOoGi+GdKKNiE1yckz\n",
              "+XLzQWLGruTlr7eTcvK81SOWewpRERERqdBaBtRg9sDb+fYZe5Dm5pl8vSWNDmNX8dLX20k+oSAt\n",
              "LgpREREREaCFvz1I5w+9g3YNapGbZ/LNljQ6jlvFiK/iOaAgLXIKUREREZGrRPhVZ+aAKL4begcx\n",
              "De1BOn/rITqOXclfvown6fg5q0csNxSiIiIiIjcQ7ledGU9GseDZO+kQ6kWeCd9tO8Rd41bxwrxt\n",
              "JB5TkBaWQlRERETkT4TV8+DT/pEsfO5OOt1mD9IF8Ye565+rGDZ3G4nHzlo9YpmlEBURERG5Cc18\n",
              "PZj2RCSLnm/NXY1qY5qwcPth7vrnap77Yiv7jipIC0ohKiIiIlIATeq6M7VfSxY935q7rwTpoh3p\n",
              "dP7Xap79Yiu/HlGQ3iyFqIiIiMgtaFLXnSn9WvLjsDZ0aVwH04QfrgTp0Dlb2Hsk0+oRSz2FqIiI\n",
              "iEghNPJxY3LfFiwe3oauTesA8OPOI3T51xqGzN7C7sMK0j+iEBUREREpArd5uzGxTwt+eqEN9zb1\n",
              "xjDgp11H6PrhGp6evZldhzOsHrHUUYiKiIiIFKHQOm583CeC/7zQlvua2YP0P7uOcu+Ha3lq1mZ+\n",
              "OaQg/Y1CVERERKQYNKjtyoTeEfz8QlseaO6DYcCS3Ue576O1DJoZx840BalCVERERKQYhdR25cPH\n",
              "wlnyl7Z0C/PBZsDSPce4f8JaBn4Wx460M1aPaBmFqIiIiEgJCPZyZXyvcJaMaMeD4XWxGbBs7zEe\n",
              "mLCOJ2fEEn/wjNUjljiFqIiIiEgJCqpVjX8+GsbSEe3oEWEP0hW/Hqf7x+t44tNYtqaetnrEEqMQ\n",
              "FREREbFAYK1qjOsZxrIX2/NQhC8ONoNV+47TY+J6+n0ay5aU8h+kClERERERC9WvWZWxPZuz/MV2\n",
              "PNLCHqSr9x3noUnr6Tt9E5uTT1k9YrFRiIqIiIiUAv6eVXn/keaseLE9j7ash6PNYE3CCR6evIE+\n",
              "0zYSe6D8BalCVERERKQU8fOswrsPN2PFS+3pFWkP0nWJJ+n5yQZ6T93Ipv0nrR6xyChERUREREqh\n",
              "ejWq8I+H7EH6WJQflRwM1ied5NEpG+k1ZQMbksp+kCpERUREREqxejWqMKZHU1a81J4+t9uDdOP+\n",
              "Uzw2dSOPfrKB9UknME3T6jFviUJUREREpAzwrV6Fvz/YlJUvx/B4tB9ODjY2HThF76mbePSTjaxL\n",
              "LHtBWqAQHTZsGAEBARiGQXx8fP76H3/8kYiICMLCwmjSpAkzZ878w2MsWrSI0NBQQkJC6NGjB5mZ\n",
              "mbc8vIiIiEhFU9ejMm93b8qqke3p18ofJwcbscmn6DNtE49M3sDahLITpIZZgElXr15NYGAgrVu3\n",
              "ZsGCBYSFhWGaJp6enqxcuZJmzZqRnJxMaGgox48fx9XV9Zr9z507R1BQEKtWrSI0NJTnnnuOypUr\n",
              "8/7779/0wCNGjGDcuHE3fwtFREREyrH0jItMXpnE3LiDXM7JA6CFf3WGdwyhTUhNDMOweMI/VqAr\n",
              "om3btsXX1/e69YZhcObMGQAyMzPx9PTE2dn5uu0WL15MeHg4oaGhAAwdOpS5c+fewtgiIiIiAuDt\n",
              "Xpm/dWvCmpEx9L8jAGdHG1tSTtPv01h6TFrPyl+PldorpI6FPYBhGHz55Zf06NGDqlWrcvr0aebP\n",
              "n4+Tk9N126ampuLv75//dUBAAOnp6eTk5ODoeP0oWVlZZGVlXbMuNze3sCOLiIiIlDu13Vz46wON\n",
              "Gdo+iMmr9jNnUwrbUs/Qf0YcYfU8GHVPKLcHelo95jUK/WKlnJwc3n77bebPn09KSgrLli2jb9++\n",
              "nDhxotDDjRkzBnd392uW2NjYQh9XREREpLzycnNh9P2NWPNKDANb18elko34g2c4ejbrv+9cwgod\n",
              "ovHx8Rw+fJi2bdsCEBkZia+vL9u2bbtuWz8/P1JSUvK/Tk5Oxtvb+4ZXQwFGjRpFRkbGNUtUVFRh\n",
              "RxYREREp97xcXXj9vkasGdmBlzs35N6m3laPdJ1Ch2i9evVIT09nz549ACQmJpKUlETDhg2v27ZL\n",
              "ly5s3bqVvXv3AjBx4kR69er1h8d2dnbGzc3tmsXBwaGwI4uIiIhUGLVcnXk2JhgHW+l70VKBfkf0\n",
              "6aef5ocffuDIkSN07twZV1dXEhMTmTJlCj179sRms5GXl8eECRPw8/MDYPTo0fj4+DBkyBBcXV2Z\n",
              "Nm0a3bt3Jycn57++1ZOIiIiIlF8Fevum0kBv3yQiIiJSPuiTlURERETEEgpREREREbGEQlRERERE\n",
              "LKEQFRERERFLKERFRERExBIKURERERGxhEJURERERCyhEBURERERSyhERURERMQSZe6TlXr06EFA\n",
              "QECJ/bzc3FxiY2OJiorS59yXIJ13a+i8lzydc2vovFtD590aVpx3f39/hg8f/l+3K3MhWtIyMzNx\n",
              "d3cnIyMDNzc3q8epMHTeraHzXvJ0zq2h824NnXdrlObzrqfmRURERMQSClERERERsYRCVEREREQs\n",
              "oRD9L5ydnXnjjTdwdna2epQKRefdGjrvJU/n3Bo679bQebdGaT7verGSiIiIiFhCV0RFRERExBIK\n",
              "URERERGxhEJURERERCyhEL0iISGBO+64gwYNGhAZGcmuXbtuuN306dMJCQkhKCiIp556iuzs7BKe\n",
              "tHy5mfO+cuVKKleuTFhYWP5y8eJFC6YtH4YNG0ZAQACGYRAfH/+H2+m+XrRu5rzrvl60Ll26RPfu\n",
              "3WnQoAHNmzfnrrvuIjEx8YbbLlq0iNDQUEJCQujRoweZmZklPG35cbPnPTk5GQcHh2vu70lJSRZM\n",
              "XH7cfffdNGvWjLCwMNq0acO2bdtuuF2penw3xTRN04yJiTFnzJhhmqZpfv3112bLli2v22b//v2m\n",
              "t7e3mZ6ebubl5Zn333+/OWHChBKetHy5mfO+YsUKs3nz5iU7WDm2atUq8+DBg6a/v7+5bdu2G26j\n",
              "+3rRu5nzrvt60bp48aL5ww8/mHl5eaZpmuZHH31ktmvX7rrtzp49a3p5eZl79uwxTdM0n332WfOl\n",
              "l14qyVHLlZs97wcOHDDd3d1Ldrhy7vTp0/l/nj9/vtmsWbPrtiltj++6IgocO3aMzZs38/jjjwPw\n",
              "0EMPcfDgwev+B/fNN9/wwAMPUKdOHQzDYMiQIcydO9eKkcuFmz3vUrTatm2Lr6/vn26j+3rRu5nz\n",
              "LkXLxcWFrl27YhgGANHR0SQnJ1+33eLFiwkPDyc0NBSAoUOH6v5eCDd73qXoeXh45P85IyMj/+/g\n",
              "aqXt8V0hChw8eBBvb28cHR0BMAwDPz8/UlNTr9kuNTUVf3///K8DAgKu20Zu3s2ed4CkpCQiIiKI\n",
              "jIxk4sSJJT1qhaP7unV0Xy8+48ePp1u3btetv9H9PT09nZycnJIcr9z6o/MOcP78eSIjI4mIiODN\n",
              "N98kNze3hKcrf/r160e9evV4/fXXmT179nXfL22P746W/WSRmxQREUFaWhru7u6kpaXRtWtXatas\n",
              "Sc+ePa0eTaRI6b5efN555x0SExNZtmyZ1aNUKH923r29vTl06BBeXl6cOnWKRx99lLFjxzJy5EgL\n",
              "Ji0/Zs2aBcDMmTN55ZVX+PHHHy2e6M/piihQr169a/73a5omqamp+Pn5XbOdn58fKSkp+V8nJydf\n",
              "t43cvJs9725ubri7uwPg6+vLY489xpo1a0p83opE93Vr6L5ePD744APmz5/P4sWLqVKlynXfv9H9\n",
              "/epna+TW/Lfz7uzsjJeXFwA1atRgwIABur8XoSeeeIIVK1Zw8uTJa9aXtsd3hSjg5eVFREQEn3/+\n",
              "OQDffvstvr6+BAcHX7PdQw89xMKFCzly5AimaTJ58mR69eplxcjlws2e9/T0dPLy8gA4e/YsixYt\n",
              "Ijw8vMTnrUh0X7eG7utFb9y4ccydO5clS5Zc8/tzV+vSpQtbt25l7969AEycOFH390K6mfN+7Nix\n",
              "/FdrZ2VlMX/+fN3fC+HMmTMcPnw4/+sFCxbg6elJjRo1rtmu1D2+W/YyqVJm7969ZnR0tBkSEmK2\n",
              "aNHC3LFjh2mapjlw4EDz+++/z99uypQpZmBgoBkYGGgOGDDAvHz5slUjlws3c94/+ugjs1GjRmaz\n",
              "Zs3MRo0amW+88Ub+qzGl4AYPHmzWrVvXdHBwML28vMygoCDTNHVfL243c951Xy9aBw8eNAEzMDDQ\n",
              "bN68udm8eXMzKirKNE3TfP31181Jkyblb/v999+bDRs2NIOCgsxu3bqZZ86csWrsMu9mz/u3335r\n",
              "Nm7cOP/+/txzz5mXLl2ycvQyLTk52YyMjDSbNGliNmvWzOzYsWP+O3SU5sd3fda8iIiIiFhCT82L\n",
              "iIiIiCUUoiIiIiJiCYWoiIiIiFhCISoiIiIillCIioiIiIglFKIiIiIiYgmFqIiIiIhYQiEqIiIi\n",
              "IpZQiIqIiIiIJRSiIiIiImIJhaiIiIiIWOL/AFTyOi0n7Z2AAAAAAElFTkSuQmCC\n",
              "\">\n",
              "      </div>\n",
              "      <script type=\"text/javascript\">\n",
              "        (() => {\n",
              "          const chartElement = document.getElementById(\"chart-8d27d4af-2cef-451d-b591-325c81b38926\");\n",
              "          async function getCodeForChartHandler(event) {\n",
              "            const chartCodeResponse =  await google.colab.kernel.invokeFunction(\n",
              "                'getCodeForChart', [\"chart-8d27d4af-2cef-451d-b591-325c81b38926\"], {});\n",
              "            const responseJson = chartCodeResponse.data['application/json'];\n",
              "            await google.colab.notebook.addCell(responseJson.code, 'code');\n",
              "          }\n",
              "          chartElement.onclick = getCodeForChartHandler;\n",
              "        })();\n",
              "      </script>\n",
              "      <style>\n",
              "        .colab-quickchart-chart-with-code  {\n",
              "            display: block;\n",
              "            float: left;\n",
              "            border: 1px solid transparent;\n",
              "        }\n",
              "\n",
              "        .colab-quickchart-chart-with-code:hover {\n",
              "            cursor: pointer;\n",
              "            border: 1px solid #aaa;\n",
              "        }\n",
              "      </style>"
            ]
          },
          "metadata": {}
        },
        {
          "output_type": "display_data",
          "data": {
            "text/plain": [
              "<google.colab._quickchart_helpers.SectionTitle at 0x7bc2e75613d0>"
            ],
            "text/html": [
              "<h4 class=\"colab-quickchart-section-title\">Faceted distributions</h4>\n",
              "<style>\n",
              "  .colab-quickchart-section-title {\n",
              "      clear: both;\n",
              "  }\n",
              "</style>"
            ]
          },
          "metadata": {}
        },
        {
          "output_type": "stream",
          "name": "stderr",
          "text": [
            "<string>:5: FutureWarning: \n",
            "\n",
            "Passing `palette` without assigning `hue` is deprecated and will be removed in v0.14.0. Assign the `y` variable to `hue` and set `legend=False` for the same effect.\n",
            "\n"
          ]
        },
        {
          "output_type": "display_data",
          "data": {
            "text/plain": [
              "from matplotlib import pyplot as plt\n",
              "import seaborn as sns\n",
              "figsize = (12, 1.2 * len(_df_12['Name'].unique()))\n",
              "plt.figure(figsize=figsize)\n",
              "sns.violinplot(_df_12, x='Age', y='Name', inner='stick', palette='Dark2')\n",
              "sns.despine(top=True, right=True, bottom=True, left=True)"
            ],
            "text/html": [
              "      <div class=\"colab-quickchart-chart-with-code\" id=\"chart-bb030dc2-4d81-4e0e-829e-c72b8729d9ea\">\n",
              "        <img style=\"width: 180px;\" src=\"data:image/png;base64,iVBORw0KGgoAAAANSUhEUgAAA+YAAAGkCAYAAAC8bz9pAAAAOnRFWHRTb2Z0d2FyZQBNYXRwbG90\n",
              "bGliIHZlcnNpb24zLjEwLjAsIGh0dHBzOi8vbWF0cGxvdGxpYi5vcmcvlHJYcgAAAAlwSFlzAAAP\n",
              "YQAAD2EBqD+naQAAHelJREFUeJzt3X+QVfV9//HXdcGLjYUgE4misIoE+ZFlg6DEClabHw62JqG0\n",
              "oxFratJMsYlmTDqWTlViHLY/NG3G1FpbJ1FSLZ2IMTWiNUlHSaoRE1ESkahh1QEEK+ASlXWR8/0j\n",
              "32y7AS0ru/sB7uMxc2d2773n7PvOfOaTPD33XmpVVVUBAAAAijio9AAAAADQyIQ5AAAAFCTMAQAA\n",
              "oCBhDgAAAAUJcwAAAChImAMAAEBBwhwAAAAKEuYAAABQkDAHAACAgoQ5AAAAFCTMAQAAoCBhDgAA\n",
              "AAUJcwAAAChImAMAAEBBwhwAAAAKEuYAAABQkDAHAACAgoQ5AAB9Zv78+Zk/f37pMQD2K4NKDwAA\n",
              "wIFj48aNpUcA2O+4Yg4AAAAFCXMAAAAoSJgDAABAQcIcAAAAChLmAAAAUJAwBwAAgIKEOQAAABQk\n",
              "zAEAAKAgYQ4AAAAFCXMAAAAoSJgDAABAQcIcAAAAChLmAAAAUJAwBwAAgIKEOQAAABQkzAEAAKAg\n",
              "YQ4AAAAFCXMAAAAoSJgDAABAQcIcAAAAChLmAAAAUJAwBwAAgIKEOQAAABQkzAEAAKAgYQ4AAAAF\n",
              "CXMAAAAoSJgDAABAQcIcAAAAChLmAAAAUJAwBwAAgIKEOQAAABQkzAEAAKCgQQP1h1pbW5Mkr732\n",
              "WtasWZN3v/vdSZLx48dnyZIlAzUGAAAA7FMGLMxXrlyZJGlvb09ra2v37wAAANDIir+VffHixWlp\n",
              "aUlLS0vOPPPMrFu3Lkny1a9+Ne973/tyzjnnZOLEiTn55JPz+OOP5yMf+UgmTJiQD3zgA/n5z3++\n",
              "23N2dnamo6Ojx62zs3MgXxYAAADskaJh/uMf/zh/+qd/mmXLluWxxx7LySefnE984hPdj69YsSJ/\n",
              "9Vd/lccffzxjx47N7/zO7+T666/P6tWrc/DBB+emm27a7Xnb2toybNiwHre2traBelkAAACwxwbs\n",
              "rey785//+Z8544wzMmrUqCTJhRdemCuvvDKvv/56kuS9731vRo8enSSZNm1aurq6MnLkyCTJ9OnT\n",
              "8+STT+72vAsWLMgll1zS4756vd5fLwMAAADesqJh/qtqtVqP34cMGdL9c1NT0y6/79ixY7fnqdfr\n",
              "QhwAAID9QtG3sp922mm5++67s379+iTJ9ddfn9/6rd9KU1NTybEAAABgwBS9Yj558uT8zd/8Tc44\n",
              "44wkydFHH51/+qd/KjkSAAAADKhaVVVV6SEAADgwzJkzJ0mydOnSwpMA7D+K/3NpAAAA0MiEOQAA\n",
              "ABQkzAEAAKAgYQ4AAAAFCXMAAAAoSJgDAABAQcIcAAAAChLmAAAAUJAwBwAAgIKEOQAAABQkzAEA\n",
              "AKAgYQ4AAAAFCXMAAAAoSJgDAABAQcIcAAAAChLmAAAAUJAwBwAAgIKEOQAAABQkzAEAAKAgYQ4A\n",
              "AAAFCXMAAAAoSJgDAABAQcIcAAAAChLmAAAAUJAwBwAAgIKEOQAAABQkzAEAAKAgYQ4AAAAFCXMA\n",
              "AAAoSJgDAABAQcIcAAAAChpUegAAAA4cI0eOLD0CwH6nVlVVVXoIAAAAaFTeyg4AAAAFCXMAAAAo\n",
              "SJgDAABAQcIcAAAAChLmAAAAUJAwBwAAgIKEOQAAABQkzAEAAKAgYQ4AAAAFCXMAAAAoSJgDAABA\n",
              "QcIcAAAAChLmAAAAUJAwBwAAgIKEOQAAABQkzAEAAKAgYQ4AAMB+Y/78+Zk/f37pMfrUoNIDAAAA\n",
              "wJ7auHFj6RH6nCvmAAAAUJAwBwAAgIKEOQAAABQkzAEAAKAgYQ4AAAAFCXMAAAAoSJgDAABAQcIc\n",
              "AAAAChLmAAAAUJAwBwAAgIKEOQAAABQkzAEAAKAgYQ4AAAAFCXMAAAAoSJgDAABAQcIcAAAAChLm\n",
              "AAAAUJAwBwAAgIKEOQAAABQkzAEAAKAgYQ4AAAAFCXMAAAAoSJgDAABAQcIcAAAAChLmAAAAUJAw\n",
              "BwAAgIKEOQAAABQkzAEAAKAgYQ4AAAAFCXMAAAAoSJgDAABAQcIcAAAAChLmAAAAUNA+E+azZ8/O\n",
              "mjVr3vQ5H/vYx/J3f/d3AzMQAAAADIBBpQf4pbvuuqv0CAAAADDgBvSKea1Wy6JFi3LiiSfmmGOO\n",
              "yVe+8pXux5qbm7Ny5cokybp16zJ37ty8+93vTktLSy677LJdzrV8+fJMnDgxDz/88C6PdXZ2pqOj\n",
              "o8ets7Oz314XAAAAvFUD/lb2er2ehx56KMuWLctFF12UHTt27PKcefPm5YQTTsiqVavy2GOP5aKL\n",
              "Lurx+JIlS/LpT3863/rWtzJt2rRdjm9ra8uwYcN63Nra2vrtNQEAAMBbVauqqhqwP1arZcOGDXnn\n",
              "O9+ZJBk+fHhWrVqVo446Ks3NzfnGN76R4447LsOHD8/LL7+cgw8+uMfxH/vYx7Jq1ao0NTXlnnvu\n",
              "yfDhw3f7dzo7O3e5Ql6v11Ov1/vnhQEAADAg5syZkyRZunRp4Un6zoBfMR8yZEj3z01NTbu9Yv5m\n",
              "Wlpasnnz5qxateoNn1Ov1zN06NAeN1EOAADAvmif+Vb2Xzr00EMza9asXHPNNd33vfDCC90/T5ky\n",
              "Jf/+7/+eCy64IHfffXeJEQEAAKDP7HNhniSLFy/Oww8/nEmTJqW1tTVf/vKXezw+YcKE3HPPPbn4\n",
              "4otz2223FZoSAAAA9t6AfsYcAAAA9obPmAMAAAB9SpgDAABAQcIcAAAAChLmAAAAUJAwBwAAgIKE\n",
              "OQAAABQkzAEAAKAgYQ4AAAAFCXMAAAAoSJgDAABAQcIcAAAAChLmAAAAUJAwBwAAgIKEOQAAABQk\n",
              "zAEAAKAgYQ4AAAAFCXMAAAAoSJgDAABAQcIcAAAAChLmAAAAUJAwBwAAgIKEOQAAABQkzAEAAKAg\n",
              "YQ4AAAAFCXMAAAAoSJgDAABAQcIcAAAACnpLYf7DH/4wixcvTpJs2bIlGzZs6NOhAAAAoFH0Osyv\n",
              "u+66XHDBBVm4cGGSZPPmzfnoRz/a13MBAABAQ+h1mN9www158MEHM3To0CTJ2LFj88ILL/T5YAAA\n",
              "ANAIeh3m9Xo9hxxySI/7Bg0a1GcDAQAAQCPpdVG/4x3vyE9/+tPUarUkyVe/+tWMHj26zwcDAACA\n",
              "XzVy5MjSI/S5WlVVVW8OeOqpp3LOOefkJz/5SUaMGJGhQ4fmzjvvzDHHHNNfMwIAAMABq9dhniQ7\n",
              "d+7MmjVrUlVVxo8fn6ampv6YDQAAAA54bynMOzo60t7enh07dnTfN3Xq1D4dDAAAABpBrz9j/rd/\n",
              "+7e5/PLL8453vKP7SnmtVstPf/rTPh8OAAAADnS9vmJ+7LHH5nvf+16OPPLI/poJAAAAGkav/7m0\n",
              "UaNGiXIAAADoI72+Yr5s2bIsW7Ysv/3bv50hQ4Z03z9r1qw+Hw4AAAAOdL3+jPkDDzyQm2++Od/7\n",
              "3vd6fMb8oYce6vPhAAAA4EDX6yvmzc3NWblyZd7+9rf300gAAADQOHr9GfMxY8aIcgAAAOgjvX4r\n",
              "+/Tp0/P7v//7mTt3bo/PmJ911ll9OhgAAAA0gl6/lf20007b9SS1Wr773e/22VAAAADQKHod5gAA\n",
              "AEDf6fVb2ZOkq6sra9euzfbt27vva2lp6bOhAAAAoFH0OszvvPPO/NEf/VG2bNmSt73tbdmyZUvG\n",
              "jBmTtWvX9sd8AAAAcEDr9beyX3bZZXnwwQczYcKEvPjii7n55pszd+7c/pgNAAAADni9DvODDjoo\n",
              "Y8aMyY4dO5Ik8+bN88VvAPuJ+fPnZ/78+aXHAADgf+n1W9kHDx6cJDnqqKNy++23p7m5OVu2bOnz\n",
              "wQDoexs3biw9AgAAv6LXYX7xxRdny5Ytueqqq3L22Wdn69at+dKXvtQfswEAAMABb4/D/P7770+S\n",
              "jBo1KqtWrUqS/PM//3OSX/w75gAAAEDv7XGYf/azn93lvlqtlvXr12fDhg15/fXX+3QwAAAAaAR7\n",
              "HOYrVqzo8fvmzZtz1VVX5Wtf+1o+//nP9/lgAAAA0Ah6/a3s27dvT1tbWyZOnJgkWb16df7iL/6i\n",
              "zwcDAACARrDHYb5z587ccMMNGTduXJ544on84Ac/yBe/+MWMGDGiP+cDAACAA9oev5V98uTJ6ezs\n",
              "zKJFizJlypS89NJLeeyxx7ofb2lp6ZcBAQAA4EC2x2H+yiuvpFar5fLLL9/lsVqtlp/97Gd9OhgA\n",
              "AAA0gj0O8/b29n4cAwAAABpTr7/8DQAAAOg7whwAAAAKEuYAAABQkDAHAACAgoQ5AAAAFCTMAQAA\n",
              "oCBhDgAAAAUJcwAAAChImAMAAEBBwhwAAAAKEuYAAABQkDAHAACAgoQ5AAAAFCTMAQAAoCBhDgAA\n",
              "AAUJcwAAAChImAMAAEBBwhwAAAAKEuYAAABQkDAHAACAgoQ5AAAAFCTMAQAAoCBhDgAAAAUJcwAA\n",
              "ACio38K8Vqtl69ate/Tc2bNnZ82aNX12PgAAANhfDCr5x3fu3Jkkueuuu0qOAQAAAMX0+1vZq6rK\n",
              "pZdemrPOOiuvvPJKFi5cmN/93d/NBz/4wUyePDkbNmxIc3NzVq5cmSS56qqrMmHChLS2tqa1tTXP\n",
              "PPNM97muu+66nHjiiTnmmGPyla985Q3/ZmdnZzo6OnrcOjs7+/ulAgAAQK/16xXzzs7OnHPOORkx\n",
              "YkRuv/32NDU1JUkeeOCBPPLIIxk5cmSP52/ZsiVXX311NmzYkEMOOSSvvPJKDjrof/7bQb1ez0MP\n",
              "PZQnnngi06dPz3nnnZdBg3Z9CW1tbfn85z/f474rrrgiCxcu7PsXCQAAAHuhX6+Yn3nmmZk0aVL+\n",
              "/u//vjvKk198pvxXozxJhg4dmnHjxmXevHn5x3/8x2zevDlDhgzpfvzcc89Nkhx//PEZNGhQnn/+\n",
              "+d3+3QULFuSll17qcVuwYEEfvzoAAADYe/0a5qeffnruvffedHR09Lj/0EMP3e3zm5qa8uCDD+Yz\n",
              "n/lMNm3alBkzZmT58uXdj//vSG9qasqOHTt2e556vZ6hQ4f2uNXr9T54RQAAANC3+jXM//zP/zxz\n",
              "5szJ+973vrz44ov/5/O3bduWjRs3ZubMmbnssstyyimn5JFHHunPEQEAAKCofv9W9s985jN529ve\n",
              "ltNPPz333HPPmz73pZdeyty5c/Pyyy+nVqtl3LhxOf/88/t7RAAAACimVlVVVXoIAAbGnDlzkiRL\n",
              "ly4tPAkAAL/U7/9cGgAAAPDGhDkAAAAUJMwBAACgIGEOAAAABQlzAAAAKEiYAwAAQEHCHAAAAAoS\n",
              "5gAAAFCQMAcAAICChDkAAAAUJMwBAACgIGEOAAAABQlzAAAAKEiYAwAAQEHCHAAAAAoS5gAAAFCQ\n",
              "MAcAAICChDkAAAAUJMwBAACgIGEOAAAABQlzAAAAKEiYAwAAQEHCHAAAAAoS5gAAAFCQMAcAAICC\n",
              "hDkAAAAUJMwBAACgIGEOAAAABQlzAAAAKEiYAwAAQEHCHAAAAAoaVHoAAAbOyJEjS48AAMCvqFVV\n",
              "VZUeAgAAABqVt7IDAABAQcIcAAAAChLmAAAAUJAwBwAAgIKEOQAAABQkzAEAAKAgYQ4AAAAFCXMA\n",
              "AAAoSJgDAABAQcIcAAAAChLmAAAAUJAwBwAAgIKEOQAAABQkzAEAAKAgYQ4AAAAFCXMAAAAoSJjv\n",
              "Y+bPn5/58+eXHgMAAIABMqj0APS0cePG0iMAAAAwgFwxBwAAgIKEOQAAABQkzAEAAKAgYQ4AAAAF\n",
              "CXMAAAAoSJgDAABAQcIcAAAAChLmAAAAUJAwBwAAgIKEOQAAABQkzAEAAKAgYQ4AAAAFCXMAAAAo\n",
              "SJgDAABAQcIcAAAAChLmAAAAUJAwBwAAgIKEOQAAABQkzAEAAKAgYQ4AAAAFCXMAAAAoSJgDAABA\n",
              "QcIcAAAAChLmAAAAUJAwBwAAgIKEOQAAABQkzAEAAKAgYQ4AAAAFCXMAAAAoSJgDAABAQcIcAAAA\n",
              "ChLmAAAAUNCAh3lra2u2bdv2lo5tbm7OypUr+3YgAAAAKGjQQP9BYQ0AAAD/Y8CvmNdqtWzdujWf\n",
              "+9znMn369LS2tmbWrFlZs2ZN93MeeOCBnHLKKZkyZUpaWlpyxx137HKea6+9Nr/xG7+RF154YSDH\n",
              "BwAAgD414FfMf+nSSy/N1VdfnST513/911x88cW5++67s3nz5nz4wx/O17/+9cycOTM7d+7M1q1b\n",
              "u4/buXNnLrnkkqxduzbf/va3c8ghh+xy7s7OznR2dva4r16vp16v9+trAgAAgN4q9uVv9957b977\n",
              "3vdm8uTJufLKK7vf4v7AAw9k/PjxmTlz5i8GPOigHHbYYd3HffKTn8y2bdty22237TbKk6StrS3D\n",
              "hg3rcWtra+v31wQAAAC9VeSKeUdHRz71qU9lxYoVGTt2bB577LHMmjVrj4499dRTc++99+b555/P\n",
              "kUceudvnLFiwIJdcckmP+1wtBwAAYF9U5Ir5M888k8GDB+eII45IVVX58pe/3P3YySefnCeffDLL\n",
              "ly9P8ou3rm/evLn78fPOOy+XX355Tj/99Kxdu3a356/X6xk6dGiPmzAHAABgX1QkzFtaWnL22Wdn\n",
              "0qRJmT59ekaPHt392PDhw3P77bfnz/7sz9LS0pKpU6fm+9//fo/j586dm2uuuSYf+MAH8sQTTwz0\n",
              "+AAAANBnalVVVQP1xzZt2pSjjz46r776ag46qNjH2/dpc+bMSZIsXbq08CQAAAAMhAGr4xUrVmTG\n",
              "jBlZuHChKAcAAID/b8C+/G369On52c9+NlB/DgAAAPYLLl0DAABAQcIcAAAAChLmAAAAUJAwBwAA\n",
              "gIKEOQAAABQkzAEAAKAgYQ4AAAAFCXMAAAAoSJgDAABAQcIcAAAAChLmAAAAUJAwBwAAgIKEOQAA\n",
              "ABQkzAEAAKAgYQ4AAAAFCXMAAAAoSJgDAABAQcIcAAAAChLmAAAAUJAwBwAAgIKEOQAAABQkzAEA\n",
              "AKAgYQ4AAAAFCXMAAAAoSJgDAABAQcIcAAAAChLmAAAAUJAwBwAAgIKEOQAAABQkzAEAAKCgQaUH\n",
              "oKeRI0eWHgEAAIABVKuqqio9BAAAADQqb2UHAACAgoQ5AAAAFCTMAQAAoCBhDgAAAAUJcwAAAChI\n",
              "mAMAAEBBwhwAAAAKEub7mM7OzixcuDCdnZ2lR2E/YL3QW9YMvWXN0FvWDL1lzdBbB+KaqVVVVZUe\n",
              "gv/R0dGRYcOG5aWXXsrQoUNLj8M+znqht6wZesuaobesGXrLmqG3DsQ144o5AAAAFCTMAQAAoCBh\n",
              "DgAAAAUJ831MvV7PFVdckXq9XnoU9gPWC71lzdBb1gy9Zc3QW9YMvXUgrhlf/gYAAAAFuWIOAAAA\n",
              "BQlzAAAAKEiYAwAAQEHCfABcdNFFaW5uTq1Wy8qVK7vvv+uuuzJ16tS0trZm8uTJuemmm97wHHfe\n",
              "eWeOP/74jBs3LnPmzElHR8cATE4pe7tm2tvb09TUlNbW1u7b008/PUDTU8IbrZm7774706ZNS0tL\n",
              "S2bMmJFHH330Dc9hn2kse7tm7DONZ/v27fnwhz+cd73rXZkyZUre//7356mnnkqSbNq0KWeccUbG\n",
              "jRuXyZMn5/7773/D89hrGkdfrBl7TeN4s/WyaNGijB8/PgcddFC+8Y1vvOl59ts9pqLf3XfffdVz\n",
              "zz1XjRkzpnrkkUeqqqqqnTt3VsOHD68effTRqqqqau3atVW9Xq86Ojp2OX7btm3V4YcfXq1evbqq\n",
              "qqr6kz/5k+pzn/vcgM3PwNvbNbN27dpq2LBhAzgxpe1uzWzevLk67LDDqh//+MdVVVXV/fffX02a\n",
              "NGm3x9tnGs/erhn7TON59dVXq29961vVzp07q6qqqmuvvbY69dRTq6qqqj/8wz+srrjiiqqqquqh\n",
              "hx6qRo0aVb322mu7nMNe01j6Ys3YaxrHm62XH/zgB9XTTz9dnXrqqdXtt9/+hufYn/cYV8wHwKxZ\n",
              "s3LUUUftcn+tVsvWrVuTJB0dHRkxYsRuv/J/2bJlec973pPjjz8+SXLhhRfm1ltv7deZKWtv1wyN\n",
              "Z3dr5umnn86IESMyadKkJMnMmTPz7LPP5kc/+tEux9tnGs/erhkaz5AhQzJ79uzUarUkyYwZM9Le\n",
              "3p4k+bd/+7f88R//cZJk+vTpOfLII3Pfffftcg57TWPpizVD43iz9XLiiSfm2GOP/T/PsT/vMcK8\n",
              "kFqtliVLlmTOnDkZM2ZMTjnllNx00005+OCDd3nus88+mzFjxnT/3tzcnA0bNmTHjh0DOTKF9WbN\n",
              "JMnLL7+c6dOnZ+rUqbnyyivz+uuvD/DElDZu3Li8+OKL+a//+q8kyTe/+c1s27at+3/k/jf7DEnv\n",
              "1kxin2l0X/rSl/KhD30oL774Yrq6uvLOd76z+7Hm5uY8++yzuxxjr2lsb2XNJPaaRvXL9dIb+/Me\n",
              "I8wL2bFjR6666qosXbo0zzzzTL7zne/kvPPOy3//93+XHo19VG/WzBFHHJF169ZlxYoV+fa3v53l\n",
              "y5fnmmuuKTA1JQ0bNixf//rXs2DBgpxwwgn5j//4j0ycODGDBg0qPRr7qN6sGftMY1u0aFGeeuqp\n",
              "tLW1lR6F/cRbXTP2msbUiHuMMC9k5cqVWb9+fWbNmpXkF2/hOeqoo/LII4/s8tzRo0fnmWee6f69\n",
              "vb09RxxxhP9z3WB6s2bq9XoOP/zwJMlhhx2WCy64IMuXLx/Qedk3nHbaabnvvvvywx/+MNdcc03W\n",
              "r1+fiRMn7vI8+wy/tKdrxj7TuK6++uosXbo0y5Yty6/92q9lxIgRGTRoUJ5//vnu57S3t2f06NG7\n",
              "HGuvaUx7s2bsNY3nV9dLb+zPe4wwL+Too4/Ohg0bsnr16iTJU089laeffjrjx4/f5blnnHFGfvSj\n",
              "H+WJJ55Iklx33XU5++yzB3ReyuvNmtm0aVO6urqSJJ2dnVm6dGne8573DOi87Bs2bNjQ/fMXvvCF\n",
              "nH766TnuuON2eZ59hl/a0zVjn2lMX/ziF3Prrbfm3nvvzdvf/vbu+3/v934v119/fZJkxYoVWbdu\n",
              "XU499dRdjrfXNJ69XTP2msbyRutlT+3Xe0zpb59rBJ/85CerUaNGVU1NTdXhhx9ejR07tqqqqrrl\n",
              "lluqyZMnVy0tLdXkyZOrf/mXf+k+5rLLLqv+4R/+ofv3O+64oxo/fnw1duzY6kMf+lC1devWAX8d\n",
              "DJy9XTO33XZbNWnSpKqlpaWaOHFi9alPfaravn17kdfCwHijNfOJT3yie++YN29etWXLlu5j7DON\n",
              "bW/XjH2m8Tz33HNVkurYY4+tpkyZUk2ZMqU68cQTq6qqqueff756//vfXx133HHVxIkTq+9+97vd\n",
              "x9lrGldfrBl7TeN4s/XyhS98oRo1alR18MEHVyNGjKhGjRpVbdq0qaqqA2ePqVVVVRX+bwMAAADQ\n",
              "sLyVHQAAAAoS5gAAAFCQMAcAAICChDkANLht27bl0EMPzcc//vHSowBAQxLmANDglixZkhNOOCFL\n",
              "ly7Nz3/+89LjAEDDEeYA0OBuvPHGXHrppZk1a1aWLFmSJOnq6sqFF16Yd73rXZkxY0Y++9nP5jd/\n",
              "8ze7j1m8eHFOOumkTJ06NbNmzcqjjz5aaHoA2P8NKj0AAFDO448/nueeey4f/OAHs2PHjvzlX/5l\n",
              "Pv7xj+eGG27Ik08+mZ/85CdJktmzZ3cf8/3vfz+33npr7r///tTr9Sxfvjwf/ehHu58LAPSOK+YA\n",
              "0MBuvPHG/MEf/EGampoye/bsrF27NqtXr853vvOdzJs3L4MHD87gwYNz/vnndx9zxx135NFHH81J\n",
              "J52U1tbWfPrTn87mzZvz6quvFnwlALD/csUcABpUV1dXFi9enMGDB+eWW25Jkrzyyiu58cYbd3lu\n",
              "rVbr/rmqqpx//vlZtGjRgM0KAAcyV8wBoEF985vfzLHHHpt169alvb097e3tefDBB7N48eKcdtpp\n",
              "ueWWW9LV1ZWurq7cfPPN3cedddZZ+drXvpZnn302SbJz5848/PDDpV4GAOz3XDEHgAZ144035txz\n",
              "z+1x34QJEzJq1KgcfvjhaW5uzsSJEzN8+PBMmzYt69evT5LMnDkzf/3Xf52PfOQj2bFjR1577bWc\n",
              "eeaZmTZtWomXAQD7vVpVVVXpIQCAfc+2bdvy67/+6+nq6sq5556bE044IZdeemnpsQDggCPMAYDd\n",
              "Oumkk9LZ2Znt27fnlFNOybXXXptDDjmk9FgAcMAR5gAAAFCQL38DAACAgoQ5AAAAFCTMAQAAoCBh\n",
              "DgAAAAUJcwAAAChImAMAAEBBwhwAAAAKEuYAAABQ0P8D/38XcEk4jEEAAAAASUVORK5CYII=\n",
              "\">\n",
              "      </div>\n",
              "      <script type=\"text/javascript\">\n",
              "        (() => {\n",
              "          const chartElement = document.getElementById(\"chart-bb030dc2-4d81-4e0e-829e-c72b8729d9ea\");\n",
              "          async function getCodeForChartHandler(event) {\n",
              "            const chartCodeResponse =  await google.colab.kernel.invokeFunction(\n",
              "                'getCodeForChart', [\"chart-bb030dc2-4d81-4e0e-829e-c72b8729d9ea\"], {});\n",
              "            const responseJson = chartCodeResponse.data['application/json'];\n",
              "            await google.colab.notebook.addCell(responseJson.code, 'code');\n",
              "          }\n",
              "          chartElement.onclick = getCodeForChartHandler;\n",
              "        })();\n",
              "      </script>\n",
              "      <style>\n",
              "        .colab-quickchart-chart-with-code  {\n",
              "            display: block;\n",
              "            float: left;\n",
              "            border: 1px solid transparent;\n",
              "        }\n",
              "\n",
              "        .colab-quickchart-chart-with-code:hover {\n",
              "            cursor: pointer;\n",
              "            border: 1px solid #aaa;\n",
              "        }\n",
              "      </style>"
            ]
          },
          "metadata": {}
        }
      ]
    },
    {
      "cell_type": "code",
      "source": [
        "import pandas as pd\n",
        "data = {\n",
        "    'Department': ['HR', 'HR', 'IT', 'IT', 'Finance', 'Finance'],\n",
        "    'Employee': ['Alice', 'Bob', 'Charlie', 'David', 'Eva', 'Frank'],\n",
        "    'Salary': [50000, 55000, 60000, 65000, 70000, 72000],\n",
        "    'Age': [25, 30, 28, 32, 40, 38]\n",
        "}\n",
        "df = pd.DataFrame(data)\n",
        "print(df)\n"
      ],
      "metadata": {
        "colab": {
          "base_uri": "https://localhost:8080/"
        },
        "id": "mOsgRTyLh0Jf",
        "outputId": "98af5045-d1c1-4d6e-9743-578ac3910944"
      },
      "execution_count": null,
      "outputs": [
        {
          "output_type": "stream",
          "name": "stdout",
          "text": [
            "  Department Employee  Salary  Age\n",
            "0         HR    Alice   50000   25\n",
            "1         HR      Bob   55000   30\n",
            "2         IT  Charlie   60000   28\n",
            "3         IT    David   65000   32\n",
            "4    Finance      Eva   70000   40\n",
            "5    Finance    Frank   72000   38\n"
          ]
        }
      ]
    },
    {
      "cell_type": "code",
      "source": [
        "import pandas as pd\n",
        "d1 = {\"Name\": [\"Pankaj\", \"Lisa\", \"David\"], \"ID\": [1, 2, 3], \"Role\": [\"CEO\", \"Editor\", \"Author\"]}\n",
        "df = pd.DataFrame(d1)\n",
        "print(df)\n",
        "df_melted = pd.melt(df, id_vars=[\"ID\"],\n",
        "value_vars=[\"Name\", \"Role\"])\n",
        "print(df_melted)"
      ],
      "metadata": {
        "colab": {
          "base_uri": "https://localhost:8080/"
        },
        "id": "3pjDusqFh7Ee",
        "outputId": "9327499c-f880-4cfe-8918-4d101f3a67f4"
      },
      "execution_count": null,
      "outputs": [
        {
          "output_type": "stream",
          "name": "stdout",
          "text": [
            "     Name  ID    Role\n",
            "0  Pankaj   1     CEO\n",
            "1    Lisa   2  Editor\n",
            "2   David   3  Author\n",
            "   ID variable   value\n",
            "0   1     Name  Pankaj\n",
            "1   2     Name    Lisa\n",
            "2   3     Name   David\n",
            "3   1     Role     CEO\n",
            "4   2     Role  Editor\n",
            "5   3     Role  Author\n"
          ]
        }
      ]
    },
    {
      "cell_type": "code",
      "source": [
        "import pandas as pd\n",
        "data = {\n",
        "    'Date': ['2024-01-01', '2024-01-01', '2024-01-02', '2024-01-02'],\n",
        "    'City': ['Mumbai', 'Delhi', 'Mumbai', 'Delhi'],\n",
        "    'Temperature': [33, 28, 34, 27]\n",
        "}\n",
        "df = pd.DataFrame(data)\n",
        "print(\"Original:\\n\", df)\n",
        "# Pivot the data\n",
        "pivoted = df.pivot(index='Date', columns='City', values='Temperature')\n",
        "print(\"\\nPivoted:\\n\", pivoted)\n"
      ],
      "metadata": {
        "colab": {
          "base_uri": "https://localhost:8080/"
        },
        "id": "fQ_pmDONiHrW",
        "outputId": "f0f828d9-8ed7-418e-8c83-2b72da453e13"
      },
      "execution_count": null,
      "outputs": [
        {
          "output_type": "stream",
          "name": "stdout",
          "text": [
            "Original:\n",
            "          Date    City  Temperature\n",
            "0  2024-01-01  Mumbai           33\n",
            "1  2024-01-01   Delhi           28\n",
            "2  2024-01-02  Mumbai           34\n",
            "3  2024-01-02   Delhi           27\n",
            "\n",
            "Pivoted:\n",
            " City        Delhi  Mumbai\n",
            "Date                     \n",
            "2024-01-01     28      33\n",
            "2024-01-02     27      34\n"
          ]
        }
      ]
    }
  ],
  "metadata": {
    "colab": {
      "provenance": [],
      "include_colab_link": true
    },
    "kernelspec": {
      "display_name": "Python 3",
      "name": "python3"
    },
    "language_info": {
      "name": "python"
    }
  },
  "nbformat": 4,
  "nbformat_minor": 0
}